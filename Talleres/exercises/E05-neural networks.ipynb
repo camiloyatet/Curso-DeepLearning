{
 "cells": [
  {
   "cell_type": "markdown",
   "metadata": {},
   "source": [
    "<img src=\"./Images/header1.png\" align=\"left\" style=\"width: 600px; height: 170px\"/>"
   ]
  },
  {
   "cell_type": "markdown",
   "metadata": {},
   "source": [
    "## Exercise 05\n",
    "\n",
    "# Neural networks"
   ]
  },
  {
   "cell_type": "markdown",
   "metadata": {
    "collapsed": true
   },
   "source": [
    "## 4.1 Little Red Riding Hood Network\n",
    "\n",
    "Train a neural network to solve the  Little Red Riding Hood problem in sklern and Keras. Try the neural networ with different inputs and report the results.\n"
   ]
  },
  {
   "cell_type": "markdown",
   "metadata": {},
   "source": [
    "### Usando Scikit Learn"
   ]
  },
  {
   "cell_type": "code",
   "execution_count": 1,
   "metadata": {},
   "outputs": [],
   "source": [
    "import pandas as pd\n",
    "import numpy as np\n",
    "from sklearn.neural_network import MLPClassifier"
   ]
  },
  {
   "cell_type": "markdown",
   "metadata": {},
   "source": [
    "Creación de matrices X,Y"
   ]
  },
  {
   "cell_type": "code",
   "execution_count": 2,
   "metadata": {},
   "outputs": [],
   "source": [
    "X = np.array ([[1,1,0,0], [0,1,1,0], [0,0,0,1]])"
   ]
  },
  {
   "cell_type": "code",
   "execution_count": 3,
   "metadata": {},
   "outputs": [],
   "source": [
    "y = np.array ([[1,0,0,0], [0,0,1,1], [0,1,1,0]])"
   ]
  },
  {
   "cell_type": "markdown",
   "metadata": {},
   "source": [
    "Definición del modelo"
   ]
  },
  {
   "cell_type": "code",
   "execution_count": 4,
   "metadata": {},
   "outputs": [],
   "source": [
    "nn1 = MLPClassifier(solver='adam', alpha=1e-5, hidden_layer_sizes=(3), random_state=31415, max_iter=2500)"
   ]
  },
  {
   "cell_type": "code",
   "execution_count": 5,
   "metadata": {},
   "outputs": [
    {
     "data": {
      "text/plain": [
       "MLPClassifier(activation='relu', alpha=1e-05, batch_size='auto', beta_1=0.9,\n",
       "       beta_2=0.999, early_stopping=False, epsilon=1e-08,\n",
       "       hidden_layer_sizes=3, learning_rate='constant',\n",
       "       learning_rate_init=0.001, max_iter=2500, momentum=0.9,\n",
       "       nesterovs_momentum=True, power_t=0.5, random_state=31415,\n",
       "       shuffle=True, solver='adam', tol=0.0001, validation_fraction=0.1,\n",
       "       verbose=False, warm_start=False)"
      ]
     },
     "execution_count": 5,
     "metadata": {},
     "output_type": "execute_result"
    }
   ],
   "source": [
    "nn1.fit(X, y)"
   ]
  },
  {
   "cell_type": "code",
   "execution_count": 6,
   "metadata": {},
   "outputs": [
    {
     "data": {
      "text/plain": [
       "array([[1, 0, 0, 0],\n",
       "       [0, 0, 1, 1],\n",
       "       [0, 1, 1, 0]])"
      ]
     },
     "execution_count": 6,
     "metadata": {},
     "output_type": "execute_result"
    }
   ],
   "source": [
    "nn1.predict(X)"
   ]
  },
  {
   "cell_type": "markdown",
   "metadata": {},
   "source": [
    "Gráfica de costo por iteración"
   ]
  },
  {
   "cell_type": "code",
   "execution_count": 7,
   "metadata": {},
   "outputs": [
    {
     "data": {
      "text/plain": [
       "<matplotlib.figure.Figure at 0x1e2dceb8f98>"
      ]
     },
     "metadata": {},
     "output_type": "display_data"
    }
   ],
   "source": [
    "import matplotlib.pyplot as plt\n",
    "\n",
    "plt.ylabel('cost')\n",
    "plt.xlabel('iterations')\n",
    "plt.title(\"Learning rate =\" + str(0.001))\n",
    "plt.plot(nn1.loss_curve_)\n",
    "plt.show()"
   ]
  },
  {
   "cell_type": "markdown",
   "metadata": {},
   "source": [
    "#### Prueba de la red en diferentes escenarios"
   ]
  },
  {
   "cell_type": "markdown",
   "metadata": {},
   "source": [
    "Teniendo en cuenta que solo existen 2 opciones por cada variable, se evaluarán las 16 posibles alternativas:"
   ]
  },
  {
   "cell_type": "code",
   "execution_count": 8,
   "metadata": {},
   "outputs": [],
   "source": [
    "X_test=np.array([[1,1,1,1],[1,1,1,0],[1,1,0,1],[1,1,0,0],[1,0,1,1],[1,0,1,0],[1,0,0,1],[1,0,0,0],\n",
    "                 [0,1,1,1],[0,1,1,0],[0,1,0,1],[0,1,0,0],[0,0,1,1],[0,0,1,0],[0,0,0,1],[0,0,0,0],])\n",
    "y_pred=nn1.predict(X_test)"
   ]
  },
  {
   "cell_type": "code",
   "execution_count": 9,
   "metadata": {},
   "outputs": [
    {
     "data": {
      "text/html": [
       "<div>\n",
       "<style scoped>\n",
       "    .dataframe tbody tr th:only-of-type {\n",
       "        vertical-align: middle;\n",
       "    }\n",
       "\n",
       "    .dataframe tbody tr th {\n",
       "        vertical-align: top;\n",
       "    }\n",
       "\n",
       "    .dataframe thead th {\n",
       "        text-align: right;\n",
       "    }\n",
       "</style>\n",
       "<table border=\"1\" class=\"dataframe\">\n",
       "  <thead>\n",
       "    <tr style=\"text-align: right;\">\n",
       "      <th></th>\n",
       "      <th>Big Ears</th>\n",
       "      <th>Big Teeth</th>\n",
       "      <th>Handsome</th>\n",
       "      <th>Wrinkled</th>\n",
       "      <th>Scream</th>\n",
       "      <th>Hug</th>\n",
       "      <th>Food</th>\n",
       "      <th>Kiss</th>\n",
       "    </tr>\n",
       "  </thead>\n",
       "  <tbody>\n",
       "    <tr>\n",
       "      <th>0</th>\n",
       "      <td>1</td>\n",
       "      <td>1</td>\n",
       "      <td>1</td>\n",
       "      <td>1</td>\n",
       "      <td>0</td>\n",
       "      <td>0</td>\n",
       "      <td>1</td>\n",
       "      <td>0</td>\n",
       "    </tr>\n",
       "    <tr>\n",
       "      <th>1</th>\n",
       "      <td>1</td>\n",
       "      <td>1</td>\n",
       "      <td>1</td>\n",
       "      <td>0</td>\n",
       "      <td>1</td>\n",
       "      <td>0</td>\n",
       "      <td>0</td>\n",
       "      <td>1</td>\n",
       "    </tr>\n",
       "    <tr>\n",
       "      <th>2</th>\n",
       "      <td>1</td>\n",
       "      <td>1</td>\n",
       "      <td>0</td>\n",
       "      <td>1</td>\n",
       "      <td>1</td>\n",
       "      <td>0</td>\n",
       "      <td>0</td>\n",
       "      <td>0</td>\n",
       "    </tr>\n",
       "    <tr>\n",
       "      <th>3</th>\n",
       "      <td>1</td>\n",
       "      <td>1</td>\n",
       "      <td>0</td>\n",
       "      <td>0</td>\n",
       "      <td>1</td>\n",
       "      <td>0</td>\n",
       "      <td>0</td>\n",
       "      <td>0</td>\n",
       "    </tr>\n",
       "    <tr>\n",
       "      <th>4</th>\n",
       "      <td>1</td>\n",
       "      <td>0</td>\n",
       "      <td>1</td>\n",
       "      <td>1</td>\n",
       "      <td>0</td>\n",
       "      <td>1</td>\n",
       "      <td>1</td>\n",
       "      <td>0</td>\n",
       "    </tr>\n",
       "    <tr>\n",
       "      <th>5</th>\n",
       "      <td>1</td>\n",
       "      <td>0</td>\n",
       "      <td>1</td>\n",
       "      <td>0</td>\n",
       "      <td>0</td>\n",
       "      <td>0</td>\n",
       "      <td>1</td>\n",
       "      <td>1</td>\n",
       "    </tr>\n",
       "    <tr>\n",
       "      <th>6</th>\n",
       "      <td>1</td>\n",
       "      <td>0</td>\n",
       "      <td>0</td>\n",
       "      <td>1</td>\n",
       "      <td>0</td>\n",
       "      <td>1</td>\n",
       "      <td>1</td>\n",
       "      <td>0</td>\n",
       "    </tr>\n",
       "    <tr>\n",
       "      <th>7</th>\n",
       "      <td>1</td>\n",
       "      <td>0</td>\n",
       "      <td>0</td>\n",
       "      <td>0</td>\n",
       "      <td>1</td>\n",
       "      <td>0</td>\n",
       "      <td>0</td>\n",
       "      <td>0</td>\n",
       "    </tr>\n",
       "    <tr>\n",
       "      <th>8</th>\n",
       "      <td>0</td>\n",
       "      <td>1</td>\n",
       "      <td>1</td>\n",
       "      <td>1</td>\n",
       "      <td>0</td>\n",
       "      <td>0</td>\n",
       "      <td>1</td>\n",
       "      <td>1</td>\n",
       "    </tr>\n",
       "    <tr>\n",
       "      <th>9</th>\n",
       "      <td>0</td>\n",
       "      <td>1</td>\n",
       "      <td>1</td>\n",
       "      <td>0</td>\n",
       "      <td>0</td>\n",
       "      <td>0</td>\n",
       "      <td>1</td>\n",
       "      <td>1</td>\n",
       "    </tr>\n",
       "    <tr>\n",
       "      <th>10</th>\n",
       "      <td>0</td>\n",
       "      <td>1</td>\n",
       "      <td>0</td>\n",
       "      <td>1</td>\n",
       "      <td>0</td>\n",
       "      <td>0</td>\n",
       "      <td>1</td>\n",
       "      <td>0</td>\n",
       "    </tr>\n",
       "    <tr>\n",
       "      <th>11</th>\n",
       "      <td>0</td>\n",
       "      <td>1</td>\n",
       "      <td>0</td>\n",
       "      <td>0</td>\n",
       "      <td>0</td>\n",
       "      <td>0</td>\n",
       "      <td>1</td>\n",
       "      <td>0</td>\n",
       "    </tr>\n",
       "    <tr>\n",
       "      <th>12</th>\n",
       "      <td>0</td>\n",
       "      <td>0</td>\n",
       "      <td>1</td>\n",
       "      <td>1</td>\n",
       "      <td>0</td>\n",
       "      <td>1</td>\n",
       "      <td>1</td>\n",
       "      <td>0</td>\n",
       "    </tr>\n",
       "    <tr>\n",
       "      <th>13</th>\n",
       "      <td>0</td>\n",
       "      <td>0</td>\n",
       "      <td>1</td>\n",
       "      <td>0</td>\n",
       "      <td>0</td>\n",
       "      <td>0</td>\n",
       "      <td>1</td>\n",
       "      <td>1</td>\n",
       "    </tr>\n",
       "    <tr>\n",
       "      <th>14</th>\n",
       "      <td>0</td>\n",
       "      <td>0</td>\n",
       "      <td>0</td>\n",
       "      <td>1</td>\n",
       "      <td>0</td>\n",
       "      <td>1</td>\n",
       "      <td>1</td>\n",
       "      <td>0</td>\n",
       "    </tr>\n",
       "    <tr>\n",
       "      <th>15</th>\n",
       "      <td>0</td>\n",
       "      <td>0</td>\n",
       "      <td>0</td>\n",
       "      <td>0</td>\n",
       "      <td>0</td>\n",
       "      <td>1</td>\n",
       "      <td>1</td>\n",
       "      <td>0</td>\n",
       "    </tr>\n",
       "  </tbody>\n",
       "</table>\n",
       "</div>"
      ],
      "text/plain": [
       "    Big Ears  Big Teeth  Handsome  Wrinkled  Scream  Hug  Food  Kiss\n",
       "0          1          1         1         1       0    0     1     0\n",
       "1          1          1         1         0       1    0     0     1\n",
       "2          1          1         0         1       1    0     0     0\n",
       "3          1          1         0         0       1    0     0     0\n",
       "4          1          0         1         1       0    1     1     0\n",
       "5          1          0         1         0       0    0     1     1\n",
       "6          1          0         0         1       0    1     1     0\n",
       "7          1          0         0         0       1    0     0     0\n",
       "8          0          1         1         1       0    0     1     1\n",
       "9          0          1         1         0       0    0     1     1\n",
       "10         0          1         0         1       0    0     1     0\n",
       "11         0          1         0         0       0    0     1     0\n",
       "12         0          0         1         1       0    1     1     0\n",
       "13         0          0         1         0       0    0     1     1\n",
       "14         0          0         0         1       0    1     1     0\n",
       "15         0          0         0         0       0    1     1     0"
      ]
     },
     "execution_count": 9,
     "metadata": {},
     "output_type": "execute_result"
    }
   ],
   "source": [
    "Try_nn1=pd.DataFrame(np.concatenate((X_test,y_pred),axis=1),\n",
    "             columns=['Big Ears', 'Big Teeth', 'Handsome', 'Wrinkled', 'Scream', 'Hug','Food','Kiss'])\n",
    "Try_nn1"
   ]
  },
  {
   "cell_type": "markdown",
   "metadata": {},
   "source": [
    "A partir de todas las posibles opciones se opuede notar que la respuesta más frecuente será ofrecer comida (75% de las veces), seguidas por besar y abrazar (30% de las veces) mientars que gritar es el resultdo menos frecuento con solo el 25% de las veces."
   ]
  },
  {
   "cell_type": "markdown",
   "metadata": {},
   "source": [
    "### Usando Keras"
   ]
  },
  {
   "cell_type": "code",
   "execution_count": 10,
   "metadata": {},
   "outputs": [],
   "source": [
    "import pandas as pd\n",
    "import numpy as np\n",
    "X = np.array ([[1,1,0,0], [0,1,1,0], [0,0,0,1]])\n",
    "y = np.array ([[1,0,0,0], [0,0,1,1], [0,1,1,0]])"
   ]
  },
  {
   "cell_type": "code",
   "execution_count": 11,
   "metadata": {
    "scrolled": true
   },
   "outputs": [
    {
     "name": "stderr",
     "output_type": "stream",
     "text": [
      "C:\\Anaconda3\\lib\\site-packages\\h5py\\__init__.py:36: FutureWarning: Conversion of the second argument of issubdtype from `float` to `np.floating` is deprecated. In future, it will be treated as `np.float64 == np.dtype(float).type`.\n",
      "  from ._conv import register_converters as _register_converters\n",
      "Using TensorFlow backend.\n"
     ]
    }
   ],
   "source": [
    "from keras.models import Sequential\n",
    "from keras.layers.core import Dense"
   ]
  },
  {
   "cell_type": "markdown",
   "metadata": {},
   "source": [
    "#### Variación del número de neuronas "
   ]
  },
  {
   "cell_type": "markdown",
   "metadata": {},
   "source": [
    "Calibramos el modelo de acuerdo al número de neuronas"
   ]
  },
  {
   "cell_type": "code",
   "execution_count": 12,
   "metadata": {},
   "outputs": [
    {
     "name": "stdout",
     "output_type": "stream",
     "text": [
      "3/3 [==============================] - 0s 21ms/step\n",
      "3/3 [==============================] - 0s 26ms/step\n",
      "3/3 [==============================] - 0s 36ms/step\n",
      "3/3 [==============================] - 0s 43ms/step\n",
      "3/3 [==============================] - 0s 52ms/step\n",
      "3/3 [==============================] - 0s 103ms/step\n",
      "3/3 [==============================] - 0s 144ms/step\n",
      "3/3 [==============================] - 0s 81ms/step\n",
      "3/3 [==============================] - 1s 169ms/step\n",
      "3/3 [==============================] - 0s 162ms/step\n",
      "3/3 [==============================] - 0s 155ms/step\n",
      "3/3 [==============================] - 0s 98ms/step\n",
      "3/3 [==============================] - 0s 115ms/step\n",
      "3/3 [==============================] - 0s 126ms/step\n",
      "3/3 [==============================] - 0s 126ms/step\n",
      "3/3 [==============================] - 0s 159ms/step\n",
      "3/3 [==============================] - 1s 223ms/step\n",
      "3/3 [==============================] - 0s 155ms/step\n",
      "3/3 [==============================] - 0s 151ms/step\n",
      "3/3 [==============================] - 1s 337ms/step\n",
      "3/3 [==============================] - 1s 174ms/step\n",
      "3/3 [==============================] - 1s 254ms/step\n",
      "3/3 [==============================] - 1s 226ms/step\n",
      "3/3 [==============================] - 1s 193ms/step\n",
      "3/3 [==============================] - 1s 199ms/step\n",
      "3/3 [==============================] - 1s 291ms/step\n",
      "3/3 [==============================] - 1s 372ms/step\n",
      "3/3 [==============================] - 1s 217ms/step\n",
      "3/3 [==============================] - 1s 376ms/step\n",
      "3/3 [==============================] - 1s 257ms/step\n",
      "3/3 [==============================] - 1s 352ms/step\n",
      "3/3 [==============================] - 1s 254ms/step\n",
      "3/3 [==============================] - 2s 515ms/step\n",
      "3/3 [==============================] - 1s 311ms/step\n",
      "3/3 [==============================] - 1s 295ms/step\n",
      "3/3 [==============================] - 1s 342ms/step\n",
      "3/3 [==============================] - 1s 319ms/step\n",
      "3/3 [==============================] - 2s 538ms/step\n",
      "3/3 [==============================] - 1s 336ms/step\n",
      "3/3 [==============================] - 1s 496ms/step\n",
      "3/3 [==============================] - 1s 443ms/step\n",
      "3/3 [==============================] - 1s 348ms/step\n",
      "3/3 [==============================] - 1s 346ms/step\n",
      "3/3 [==============================] - 1s 385ms/step\n",
      "3/3 [==============================] - 1s 465ms/step\n",
      "3/3 [==============================] - 1s 444ms/step\n",
      "3/3 [==============================] - 3s 851ms/step\n",
      "3/3 [==============================] - 2s 598ms/step\n",
      "3/3 [==============================] - 2s 603ms/step\n",
      "3/3 [==============================] - 1s 416ms/step\n",
      "3/3 [==============================] - 2s 650ms/step\n",
      "3/3 [==============================] - 1s 414ms/step\n",
      "3/3 [==============================] - 2s 766ms/step\n",
      "3/3 [==============================] - 1s 430ms/step\n",
      "3/3 [==============================] - 2s 732ms/step\n",
      "3/3 [==============================] - 1s 448ms/step\n",
      "3/3 [==============================] - 2s 826ms/step\n",
      "3/3 [==============================] - 1s 482ms/step\n",
      "3/3 [==============================] - 2s 533ms/step\n",
      "3/3 [==============================] - 2s 534ms/step\n",
      "3/3 [==============================] - 2s 503ms/step\n",
      "3/3 [==============================] - 2s 686ms/step\n",
      "3/3 [==============================] - 2s 547ms/step\n",
      "3/3 [==============================] - 2s 545ms/step\n",
      "3/3 [==============================] - 2s 713ms/step\n",
      "3/3 [==============================] - 2s 663ms/step\n",
      "3/3 [==============================] - 2s 695ms/step\n",
      "3/3 [==============================] - 3s 1s/step\n",
      "3/3 [==============================] - 3s 866ms/step\n",
      "3/3 [==============================] - 2s 633ms/step\n",
      "3/3 [==============================] - 2s 686ms/step\n",
      "3/3 [==============================] - 2s 724ms/step\n",
      "3/3 [==============================] - 2s 751ms/step\n",
      "3/3 [==============================] - 2s 700ms/step\n",
      "3/3 [==============================] - 2s 599ms/step\n",
      "3/3 [==============================] - 3s 1s/step\n",
      "3/3 [==============================] - 2s 706ms/step\n",
      "3/3 [==============================] - 2s 631ms/step\n",
      "3/3 [==============================] - 2s 791ms/step\n",
      "3/3 [==============================] - 3s 914ms/step\n",
      "3/3 [==============================] - 3s 970ms/step\n",
      "3/3 [==============================] - 3s 1s/step\n",
      "3/3 [==============================] - 2s 729ms/step\n",
      "3/3 [==============================] - 3s 1s/step\n",
      "3/3 [==============================] - 2s 791ms/step\n",
      "3/3 [==============================] - 2s 772ms/step\n",
      "3/3 [==============================] - 4s 1s/step\n",
      "3/3 [==============================] - 3s 938ms/step\n",
      "3/3 [==============================] - 4s 1s/step\n",
      "3/3 [==============================] - 3s 880ms/step\n",
      "3/3 [==============================] - 4s 1s/step\n",
      "3/3 [==============================] - 3s 1s/step\n",
      "3/3 [==============================] - 3s 1s/step\n",
      "3/3 [==============================] - 3s 1s/step\n",
      "3/3 [==============================] - 3s 942ms/step\n",
      "3/3 [==============================] - 5s 2s/step\n",
      "3/3 [==============================] - 4s 1s/step\n",
      "3/3 [==============================] - 3s 1s/step\n",
      "3/3 [==============================] - 3s 993ms/step\n",
      "3/3 [==============================] - 4s 1s/step\n"
     ]
    }
   ],
   "source": [
    "res=[]\n",
    "n_neu=[]\n",
    "for i in range(1,101):\n",
    "    n_neu.append(i)\n",
    "    nn2 = Sequential()\n",
    "    nn2.add(Dense(i, input_dim=4, activation='relu'))\n",
    "    nn2.add(Dense(4, activation='sigmoid'))\n",
    "    \n",
    "    nn2.compile(loss='mean_squared_error',\n",
    "              optimizer='adam',\n",
    "              metrics=['binary_accuracy'])\n",
    "    \n",
    "    nn2.fit(X, y, epochs=100, verbose=0)\n",
    "    \n",
    "    scores = nn2.evaluate(X, y)\n",
    "    \n",
    "    res.append(scores[1])"
   ]
  },
  {
   "cell_type": "markdown",
   "metadata": {},
   "source": [
    "#### Gráfico de Cambio en Accuracy según el aumento en las neuronas."
   ]
  },
  {
   "cell_type": "code",
   "execution_count": 13,
   "metadata": {},
   "outputs": [
    {
     "data": {
      "image/png": "[encoded data removed]",
      "text/plain": [
       "<matplotlib.figure.Figure at 0x1e2e266aa20>"
      ]
     },
     "metadata": {},
     "output_type": "display_data"
    }
   ],
   "source": [
    "import matplotlib.pyplot as pltdata:image/png;base64,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\n",
    "plt.style.use('seaborn-whitegrid')\n",
    "fig = plt.figure()\n",
    "ax = plt.axes()\n",
    "plt.title(\"Ganancia en Accuracy\")\n",
    "plt.xlabel(\"Número de Neuronas\")\n",
    "plt.ylabel(\"Accuracy\")\n",
    "plt.plot(n_neu, res)\n",
    "plt.show()"
   ]
  },
  {
   "cell_type": "markdown",
   "metadata": {},
   "source": [
    "Se seleccionarán 40 neuronas densamente conectadas."
   ]
  },
  {
   "cell_type": "markdown",
   "metadata": {},
   "source": [
    "#### Entrenamiento de la red Final"
   ]
  },
  {
   "cell_type": "code",
   "execution_count": 14,
   "metadata": {},
   "outputs": [],
   "source": [
    "nn2 = Sequential()\n",
    "nn2.add(Dense(40, input_dim=4, activation='relu'))\n",
    "nn2.add(Dense(4, activation='sigmoid'))"
   ]
  },
  {
   "cell_type": "code",
   "execution_count": 15,
   "metadata": {},
   "outputs": [],
   "source": [
    "nn2.compile(loss='mean_squared_error',\n",
    "              optimizer='adam',\n",
    "              metrics=['binary_accuracy'])"
   ]
  },
  {
   "cell_type": "code",
   "execution_count": 16,
   "metadata": {},
   "outputs": [
    {
     "name": "stdout",
     "output_type": "stream",
     "text": [
      "Epoch 1/100\n",
      " - 7s - loss: 0.2403 - binary_accuracy: 0.6667\n",
      "Epoch 2/100\n",
      " - 0s - loss: 0.2388 - binary_accuracy: 0.6667\n",
      "Epoch 3/100\n",
      " - 0s - loss: 0.2372 - binary_accuracy: 0.6667\n",
      "Epoch 4/100\n",
      " - 0s - loss: 0.2357 - binary_accuracy: 0.6667\n",
      "Epoch 5/100\n",
      " - 0s - loss: 0.2342 - binary_accuracy: 0.6667\n",
      "Epoch 6/100\n",
      " - 0s - loss: 0.2327 - binary_accuracy: 0.6667\n",
      "Epoch 7/100\n",
      " - 0s - loss: 0.2312 - binary_accuracy: 0.6667\n",
      "Epoch 8/100\n",
      " - 0s - loss: 0.2297 - binary_accuracy: 0.6667\n",
      "Epoch 9/100\n",
      " - 0s - loss: 0.2282 - binary_accuracy: 0.6667\n",
      "Epoch 10/100\n",
      " - 0s - loss: 0.2268 - binary_accuracy: 0.7500\n",
      "Epoch 11/100\n",
      " - 0s - loss: 0.2254 - binary_accuracy: 0.7500\n",
      "Epoch 12/100\n",
      " - 0s - loss: 0.2241 - binary_accuracy: 0.7500\n",
      "Epoch 13/100\n",
      " - 0s - loss: 0.2227 - binary_accuracy: 0.7500\n",
      "Epoch 14/100\n",
      " - 0s - loss: 0.2213 - binary_accuracy: 0.7500\n",
      "Epoch 15/100\n",
      " - 0s - loss: 0.2199 - binary_accuracy: 0.7500\n",
      "Epoch 16/100\n",
      " - 0s - loss: 0.2185 - binary_accuracy: 0.7500\n",
      "Epoch 17/100\n",
      " - 0s - loss: 0.2171 - binary_accuracy: 0.7500\n",
      "Epoch 18/100\n",
      " - 0s - loss: 0.2157 - binary_accuracy: 0.7500\n",
      "Epoch 19/100\n",
      " - 0s - loss: 0.2144 - binary_accuracy: 0.7500\n",
      "Epoch 20/100\n",
      " - 0s - loss: 0.2130 - binary_accuracy: 0.7500\n",
      "Epoch 21/100\n",
      " - 0s - loss: 0.2117 - binary_accuracy: 0.7500\n",
      "Epoch 22/100\n",
      " - 0s - loss: 0.2104 - binary_accuracy: 0.7500\n",
      "Epoch 23/100\n",
      " - 0s - loss: 0.2091 - binary_accuracy: 0.7500\n",
      "Epoch 24/100\n",
      " - 0s - loss: 0.2078 - binary_accuracy: 0.7500\n",
      "Epoch 25/100\n",
      " - 0s - loss: 0.2065 - binary_accuracy: 0.7500\n",
      "Epoch 26/100\n",
      " - 0s - loss: 0.2052 - binary_accuracy: 0.7500\n",
      "Epoch 27/100\n",
      " - 0s - loss: 0.2039 - binary_accuracy: 0.7500\n",
      "Epoch 28/100\n",
      " - 0s - loss: 0.2026 - binary_accuracy: 0.7500\n",
      "Epoch 29/100\n",
      " - 0s - loss: 0.2012 - binary_accuracy: 0.7500\n",
      "Epoch 30/100\n",
      " - 0s - loss: 0.2000 - binary_accuracy: 0.7500\n",
      "Epoch 31/100\n",
      " - 0s - loss: 0.1987 - binary_accuracy: 0.7500\n",
      "Epoch 32/100\n",
      " - 0s - loss: 0.1974 - binary_accuracy: 0.7500\n",
      "Epoch 33/100\n",
      " - 0s - loss: 0.1961 - binary_accuracy: 0.7500\n",
      "Epoch 34/100\n",
      " - 0s - loss: 0.1948 - binary_accuracy: 0.7500\n",
      "Epoch 35/100\n",
      " - 0s - loss: 0.1935 - binary_accuracy: 0.7500\n",
      "Epoch 36/100\n",
      " - 0s - loss: 0.1922 - binary_accuracy: 0.7500\n",
      "Epoch 37/100\n",
      " - 0s - loss: 0.1909 - binary_accuracy: 0.7500\n",
      "Epoch 38/100\n",
      " - 0s - loss: 0.1897 - binary_accuracy: 0.7500\n",
      "Epoch 39/100\n",
      " - 0s - loss: 0.1884 - binary_accuracy: 0.7500\n",
      "Epoch 40/100\n",
      " - 0s - loss: 0.1872 - binary_accuracy: 0.7500\n",
      "Epoch 41/100\n",
      " - 0s - loss: 0.1859 - binary_accuracy: 0.7500\n",
      "Epoch 42/100\n",
      " - 0s - loss: 0.1847 - binary_accuracy: 0.7500\n",
      "Epoch 43/100\n",
      " - 0s - loss: 0.1834 - binary_accuracy: 0.8333\n",
      "Epoch 44/100\n",
      " - 0s - loss: 0.1821 - binary_accuracy: 0.8333\n",
      "Epoch 45/100\n",
      " - 0s - loss: 0.1809 - binary_accuracy: 0.8333\n",
      "Epoch 46/100\n",
      " - 0s - loss: 0.1797 - binary_accuracy: 0.8333\n",
      "Epoch 47/100\n",
      " - 0s - loss: 0.1785 - binary_accuracy: 0.8333\n",
      "Epoch 48/100\n",
      " - 0s - loss: 0.1773 - binary_accuracy: 0.8333\n",
      "Epoch 49/100\n",
      " - 0s - loss: 0.1761 - binary_accuracy: 0.8333\n",
      "Epoch 50/100\n",
      " - 0s - loss: 0.1748 - binary_accuracy: 0.8333\n",
      "Epoch 51/100\n",
      " - 0s - loss: 0.1736 - binary_accuracy: 0.8333\n",
      "Epoch 52/100\n",
      " - 0s - loss: 0.1724 - binary_accuracy: 0.8333\n",
      "Epoch 53/100\n",
      " - 0s - loss: 0.1712 - binary_accuracy: 0.8333\n",
      "Epoch 54/100\n",
      " - 0s - loss: 0.1700 - binary_accuracy: 0.8333\n",
      "Epoch 55/100\n",
      " - 0s - loss: 0.1688 - binary_accuracy: 0.8333\n",
      "Epoch 56/100\n",
      " - 0s - loss: 0.1676 - binary_accuracy: 0.8333\n",
      "Epoch 57/100\n",
      " - 0s - loss: 0.1664 - binary_accuracy: 0.8333\n",
      "Epoch 58/100\n",
      " - 0s - loss: 0.1652 - binary_accuracy: 0.8333\n",
      "Epoch 59/100\n",
      " - 0s - loss: 0.1640 - binary_accuracy: 0.8333\n",
      "Epoch 60/100\n",
      " - 0s - loss: 0.1628 - binary_accuracy: 0.8333\n",
      "Epoch 61/100\n",
      " - 0s - loss: 0.1616 - binary_accuracy: 0.8333\n",
      "Epoch 62/100\n",
      " - 0s - loss: 0.1604 - binary_accuracy: 0.8333\n",
      "Epoch 63/100\n",
      " - 0s - loss: 0.1592 - binary_accuracy: 0.8333\n",
      "Epoch 64/100\n",
      " - 0s - loss: 0.1580 - binary_accuracy: 0.8333\n",
      "Epoch 65/100\n",
      " - 0s - loss: 0.1568 - binary_accuracy: 0.8333\n",
      "Epoch 66/100\n",
      " - 0s - loss: 0.1556 - binary_accuracy: 0.8333\n",
      "Epoch 67/100\n",
      " - 0s - loss: 0.1544 - binary_accuracy: 0.8333\n",
      "Epoch 68/100\n",
      " - 0s - loss: 0.1532 - binary_accuracy: 0.8333\n",
      "Epoch 69/100\n",
      " - 0s - loss: 0.1520 - binary_accuracy: 0.8333\n",
      "Epoch 70/100\n",
      " - 0s - loss: 0.1508 - binary_accuracy: 0.8333\n",
      "Epoch 71/100\n",
      " - 0s - loss: 0.1496 - binary_accuracy: 0.8333\n",
      "Epoch 72/100\n",
      " - 0s - loss: 0.1484 - binary_accuracy: 0.8333\n",
      "Epoch 73/100\n",
      " - 0s - loss: 0.1472 - binary_accuracy: 0.8333\n",
      "Epoch 74/100\n",
      " - 0s - loss: 0.1460 - binary_accuracy: 0.8333\n",
      "Epoch 75/100\n",
      " - 0s - loss: 0.1448 - binary_accuracy: 0.8333\n",
      "Epoch 76/100\n",
      " - 0s - loss: 0.1436 - binary_accuracy: 0.9167\n",
      "Epoch 77/100\n",
      " - 0s - loss: 0.1424 - binary_accuracy: 0.9167\n",
      "Epoch 78/100\n",
      " - 0s - loss: 0.1412 - binary_accuracy: 0.9167\n",
      "Epoch 79/100\n",
      " - 0s - loss: 0.1400 - binary_accuracy: 0.9167\n",
      "Epoch 80/100\n",
      " - 0s - loss: 0.1388 - binary_accuracy: 0.9167\n",
      "Epoch 81/100\n",
      " - 0s - loss: 0.1376 - binary_accuracy: 0.9167\n",
      "Epoch 82/100\n",
      " - 0s - loss: 0.1364 - binary_accuracy: 0.9167\n",
      "Epoch 83/100\n",
      " - 0s - loss: 0.1352 - binary_accuracy: 0.9167\n",
      "Epoch 84/100\n",
      " - 0s - loss: 0.1340 - binary_accuracy: 0.9167\n",
      "Epoch 85/100\n",
      " - 0s - loss: 0.1328 - binary_accuracy: 0.9167\n",
      "Epoch 86/100\n",
      " - 0s - loss: 0.1316 - binary_accuracy: 0.9167\n",
      "Epoch 87/100\n",
      " - 0s - loss: 0.1304 - binary_accuracy: 0.9167\n",
      "Epoch 88/100\n",
      " - 0s - loss: 0.1292 - binary_accuracy: 0.9167\n",
      "Epoch 89/100\n",
      " - 0s - loss: 0.1280 - binary_accuracy: 0.9167\n",
      "Epoch 90/100\n",
      " - 0s - loss: 0.1268 - binary_accuracy: 0.9167\n",
      "Epoch 91/100\n",
      " - 0s - loss: 0.1256 - binary_accuracy: 0.9167\n",
      "Epoch 92/100\n",
      " - 0s - loss: 0.1245 - binary_accuracy: 0.9167\n",
      "Epoch 93/100\n",
      " - 0s - loss: 0.1233 - binary_accuracy: 0.9167\n",
      "Epoch 94/100\n",
      " - 0s - loss: 0.1221 - binary_accuracy: 0.9167\n",
      "Epoch 95/100\n",
      " - 0s - loss: 0.1209 - binary_accuracy: 0.9167\n",
      "Epoch 96/100\n",
      " - 0s - loss: 0.1198 - binary_accuracy: 0.9167\n",
      "Epoch 97/100\n",
      " - 0s - loss: 0.1186 - binary_accuracy: 0.9167\n",
      "Epoch 98/100\n",
      " - 0s - loss: 0.1175 - binary_accuracy: 0.9167\n",
      "Epoch 99/100\n",
      " - 0s - loss: 0.1163 - binary_accuracy: 0.9167\n",
      "Epoch 100/100\n",
      " - 0s - loss: 0.1152 - binary_accuracy: 0.9167\n"
     ]
    },
    {
     "data": {
      "text/plain": [
       "<keras.callbacks.History at 0x1e2e2673cf8>"
      ]
     },
     "execution_count": 16,
     "metadata": {},
     "output_type": "execute_result"
    }
   ],
   "source": [
    "nn2.fit(X, y, epochs=100, verbose=2)"
   ]
  },
  {
   "cell_type": "code",
   "execution_count": 17,
   "metadata": {},
   "outputs": [
    {
     "name": "stdout",
     "output_type": "stream",
     "text": [
      "3/3 [==============================] - 3s 1s/step\n",
      "('binary_accuracy', 91.66666865348816)\n",
      "[[1. 0. 0. 0.]\n",
      " [0. 0. 1. 0.]\n",
      " [0. 1. 1. 0.]]\n"
     ]
    }
   ],
   "source": [
    "scores = nn2.evaluate(X, y)\n",
    "print((nn2.metrics_names[1], scores[1]*100))\n",
    "print (nn2.predict(X).round())"
   ]
  },
  {
   "cell_type": "markdown",
   "metadata": {},
   "source": [
    "#### Prueba de la red en diferentes escenarios"
   ]
  },
  {
   "cell_type": "code",
   "execution_count": 18,
   "metadata": {},
   "outputs": [],
   "source": [
    "X_test=np.array([[1,1,1,1],[1,1,1,0],[1,1,0,1],[1,1,0,0],[1,0,1,1],[1,0,1,0],[1,0,0,1],[1,0,0,0],\n",
    "                 [0,1,1,1],[0,1,1,0],[0,1,0,1],[0,1,0,0],[0,0,1,1],[0,0,1,0],[0,0,0,1],[0,0,0,0],])"
   ]
  },
  {
   "cell_type": "code",
   "execution_count": 19,
   "metadata": {},
   "outputs": [],
   "source": [
    "y_pred_nn2=nn2.predict(X_test).round(0)"
   ]
  },
  {
   "cell_type": "code",
   "execution_count": 20,
   "metadata": {},
   "outputs": [
    {
     "data": {
      "text/html": [
       "<div>\n",
       "<style scoped>\n",
       "    .dataframe tbody tr th:only-of-type {\n",
       "        vertical-align: middle;\n",
       "    }\n",
       "\n",
       "    .dataframe tbody tr th {\n",
       "        vertical-align: top;\n",
       "    }\n",
       "\n",
       "    .dataframe thead th {\n",
       "        text-align: right;\n",
       "    }\n",
       "</style>\n",
       "<table border=\"1\" class=\"dataframe\">\n",
       "  <thead>\n",
       "    <tr style=\"text-align: right;\">\n",
       "      <th></th>\n",
       "      <th>Big Ears</th>\n",
       "      <th>Big Teeth</th>\n",
       "      <th>Handsome</th>\n",
       "      <th>Wrinkled</th>\n",
       "      <th>Scream</th>\n",
       "      <th>Hug</th>\n",
       "      <th>Food</th>\n",
       "      <th>Kiss</th>\n",
       "    </tr>\n",
       "  </thead>\n",
       "  <tbody>\n",
       "    <tr>\n",
       "      <th>0</th>\n",
       "      <td>1.0</td>\n",
       "      <td>1.0</td>\n",
       "      <td>1.0</td>\n",
       "      <td>1.0</td>\n",
       "      <td>0.0</td>\n",
       "      <td>0.0</td>\n",
       "      <td>1.0</td>\n",
       "      <td>0.0</td>\n",
       "    </tr>\n",
       "    <tr>\n",
       "      <th>1</th>\n",
       "      <td>1.0</td>\n",
       "      <td>1.0</td>\n",
       "      <td>1.0</td>\n",
       "      <td>0.0</td>\n",
       "      <td>0.0</td>\n",
       "      <td>0.0</td>\n",
       "      <td>0.0</td>\n",
       "      <td>0.0</td>\n",
       "    </tr>\n",
       "    <tr>\n",
       "      <th>2</th>\n",
       "      <td>1.0</td>\n",
       "      <td>1.0</td>\n",
       "      <td>0.0</td>\n",
       "      <td>1.0</td>\n",
       "      <td>0.0</td>\n",
       "      <td>0.0</td>\n",
       "      <td>0.0</td>\n",
       "      <td>0.0</td>\n",
       "    </tr>\n",
       "    <tr>\n",
       "      <th>3</th>\n",
       "      <td>1.0</td>\n",
       "      <td>1.0</td>\n",
       "      <td>0.0</td>\n",
       "      <td>0.0</td>\n",
       "      <td>1.0</td>\n",
       "      <td>0.0</td>\n",
       "      <td>0.0</td>\n",
       "      <td>0.0</td>\n",
       "    </tr>\n",
       "    <tr>\n",
       "      <th>4</th>\n",
       "      <td>1.0</td>\n",
       "      <td>0.0</td>\n",
       "      <td>1.0</td>\n",
       "      <td>1.0</td>\n",
       "      <td>0.0</td>\n",
       "      <td>0.0</td>\n",
       "      <td>1.0</td>\n",
       "      <td>0.0</td>\n",
       "    </tr>\n",
       "    <tr>\n",
       "      <th>5</th>\n",
       "      <td>1.0</td>\n",
       "      <td>0.0</td>\n",
       "      <td>1.0</td>\n",
       "      <td>0.0</td>\n",
       "      <td>0.0</td>\n",
       "      <td>0.0</td>\n",
       "      <td>0.0</td>\n",
       "      <td>0.0</td>\n",
       "    </tr>\n",
       "    <tr>\n",
       "      <th>6</th>\n",
       "      <td>1.0</td>\n",
       "      <td>0.0</td>\n",
       "      <td>0.0</td>\n",
       "      <td>1.0</td>\n",
       "      <td>0.0</td>\n",
       "      <td>0.0</td>\n",
       "      <td>0.0</td>\n",
       "      <td>0.0</td>\n",
       "    </tr>\n",
       "    <tr>\n",
       "      <th>7</th>\n",
       "      <td>1.0</td>\n",
       "      <td>0.0</td>\n",
       "      <td>0.0</td>\n",
       "      <td>0.0</td>\n",
       "      <td>1.0</td>\n",
       "      <td>0.0</td>\n",
       "      <td>0.0</td>\n",
       "      <td>0.0</td>\n",
       "    </tr>\n",
       "    <tr>\n",
       "      <th>8</th>\n",
       "      <td>0.0</td>\n",
       "      <td>1.0</td>\n",
       "      <td>1.0</td>\n",
       "      <td>1.0</td>\n",
       "      <td>0.0</td>\n",
       "      <td>0.0</td>\n",
       "      <td>1.0</td>\n",
       "      <td>0.0</td>\n",
       "    </tr>\n",
       "    <tr>\n",
       "      <th>9</th>\n",
       "      <td>0.0</td>\n",
       "      <td>1.0</td>\n",
       "      <td>1.0</td>\n",
       "      <td>0.0</td>\n",
       "      <td>0.0</td>\n",
       "      <td>0.0</td>\n",
       "      <td>1.0</td>\n",
       "      <td>0.0</td>\n",
       "    </tr>\n",
       "    <tr>\n",
       "      <th>10</th>\n",
       "      <td>0.0</td>\n",
       "      <td>1.0</td>\n",
       "      <td>0.0</td>\n",
       "      <td>1.0</td>\n",
       "      <td>0.0</td>\n",
       "      <td>0.0</td>\n",
       "      <td>1.0</td>\n",
       "      <td>0.0</td>\n",
       "    </tr>\n",
       "    <tr>\n",
       "      <th>11</th>\n",
       "      <td>0.0</td>\n",
       "      <td>1.0</td>\n",
       "      <td>0.0</td>\n",
       "      <td>0.0</td>\n",
       "      <td>0.0</td>\n",
       "      <td>0.0</td>\n",
       "      <td>1.0</td>\n",
       "      <td>0.0</td>\n",
       "    </tr>\n",
       "    <tr>\n",
       "      <th>12</th>\n",
       "      <td>0.0</td>\n",
       "      <td>0.0</td>\n",
       "      <td>1.0</td>\n",
       "      <td>1.0</td>\n",
       "      <td>0.0</td>\n",
       "      <td>0.0</td>\n",
       "      <td>1.0</td>\n",
       "      <td>0.0</td>\n",
       "    </tr>\n",
       "    <tr>\n",
       "      <th>13</th>\n",
       "      <td>0.0</td>\n",
       "      <td>0.0</td>\n",
       "      <td>1.0</td>\n",
       "      <td>0.0</td>\n",
       "      <td>0.0</td>\n",
       "      <td>0.0</td>\n",
       "      <td>1.0</td>\n",
       "      <td>1.0</td>\n",
       "    </tr>\n",
       "    <tr>\n",
       "      <th>14</th>\n",
       "      <td>0.0</td>\n",
       "      <td>0.0</td>\n",
       "      <td>0.0</td>\n",
       "      <td>1.0</td>\n",
       "      <td>0.0</td>\n",
       "      <td>1.0</td>\n",
       "      <td>1.0</td>\n",
       "      <td>0.0</td>\n",
       "    </tr>\n",
       "    <tr>\n",
       "      <th>15</th>\n",
       "      <td>0.0</td>\n",
       "      <td>0.0</td>\n",
       "      <td>0.0</td>\n",
       "      <td>0.0</td>\n",
       "      <td>0.0</td>\n",
       "      <td>0.0</td>\n",
       "      <td>1.0</td>\n",
       "      <td>0.0</td>\n",
       "    </tr>\n",
       "  </tbody>\n",
       "</table>\n",
       "</div>"
      ],
      "text/plain": [
       "    Big Ears  Big Teeth  Handsome  Wrinkled  Scream  Hug  Food  Kiss\n",
       "0        1.0        1.0       1.0       1.0     0.0  0.0   1.0   0.0\n",
       "1        1.0        1.0       1.0       0.0     0.0  0.0   0.0   0.0\n",
       "2        1.0        1.0       0.0       1.0     0.0  0.0   0.0   0.0\n",
       "3        1.0        1.0       0.0       0.0     1.0  0.0   0.0   0.0\n",
       "4        1.0        0.0       1.0       1.0     0.0  0.0   1.0   0.0\n",
       "5        1.0        0.0       1.0       0.0     0.0  0.0   0.0   0.0\n",
       "6        1.0        0.0       0.0       1.0     0.0  0.0   0.0   0.0\n",
       "7        1.0        0.0       0.0       0.0     1.0  0.0   0.0   0.0\n",
       "8        0.0        1.0       1.0       1.0     0.0  0.0   1.0   0.0\n",
       "9        0.0        1.0       1.0       0.0     0.0  0.0   1.0   0.0\n",
       "10       0.0        1.0       0.0       1.0     0.0  0.0   1.0   0.0\n",
       "11       0.0        1.0       0.0       0.0     0.0  0.0   1.0   0.0\n",
       "12       0.0        0.0       1.0       1.0     0.0  0.0   1.0   0.0\n",
       "13       0.0        0.0       1.0       0.0     0.0  0.0   1.0   1.0\n",
       "14       0.0        0.0       0.0       1.0     0.0  1.0   1.0   0.0\n",
       "15       0.0        0.0       0.0       0.0     0.0  0.0   1.0   0.0"
      ]
     },
     "execution_count": 20,
     "metadata": {},
     "output_type": "execute_result"
    }
   ],
   "source": [
    "Try_nn2=pd.DataFrame(np.concatenate((X_test,y_pred_nn2),axis=1),\n",
    "             columns=['Big Ears', 'Big Teeth', 'Handsome', 'Wrinkled', 'Scream', 'Hug','Food','Kiss'])\n",
    "Try_nn2"
   ]
  },
  {
   "cell_type": "markdown",
   "metadata": {},
   "source": [
    "A partir de todas las posibles opciones se opuede notar que la respuesta más frecuente será ofrecer comida (63% de las veces), seguidas por besar y abrazar (31% de las veces) mientars que gritar es el resultdo menos frecuento con solo el 19% de las veces.\n",
    "\n",
    "Comparando con el resultado de la red neutranal entrenada en Scikit Learn se nota que la observacion 6: Big ears, handsome and wrinkled, ya que este da como resultado ofrecer comida y besar. Por otro lado la red entrenada en Keras da como resultado gritar, frecer comida y besar"
   ]
  },
  {
   "cell_type": "markdown",
   "metadata": {},
   "source": [
    "## 4.2 Boston House Price Prediction\n",
    "\n",
    "In the next questions we are going to work using the dataset *Boston*. This dataset measures the influence of socioeconomical factors on the price of several estates of the city of Boston. This dataset has 506 instances, each one characterized by 13 features:\n",
    "\n",
    "* CRIM - per capita crime rate by town\n",
    "* ZN - proportion of residential land zoned for lots over 25,000 sq.ft.\n",
    "* INDUS - proportion of non-retail business acres per town.\n",
    "* CHAS - Charles River dummy variable (1 if tract bounds river; 0 otherwise)\n",
    "* NOX - nitric oxides concentration (parts per 10 million)\n",
    "* RM - average number of rooms per dwelling\n",
    "* AGE - proportion of owner-occupied units built prior to 1940\n",
    "* DIS - weighted distances to five Boston employment centres\n",
    "* RAD - index of accessibility to radial highways\n",
    "* TAX - full-value property-tax rate per 10,000 USD\n",
    "* PTRATIO - pupil-teacher ratio by town\n",
    "* B - $1000(Bk - 0.63)^2$ where $Bk$ is the proportion of blacks by town\n",
    "* LSTAT - % lower status of the population\n",
    "\n",
    "Output variable:\n",
    "* MEDV - Median value of owner-occupied homes in 1000's USD\n",
    "\n",
    "**Note:** In this exercise we are going to predict the price of each estate, which is represented in the `MEDV` variable. It is important to remember that we are always aiming to predict `MEDV`, no matter which explanatory variables we are using. That means, in some cases we will use a subset of the 13 previously mentioned variables, while in other cases we will use all the 13 variables. But in no case we will change the dependent variable $y$."
   ]
  },
  {
   "cell_type": "markdown",
   "metadata": {},
   "source": [
    "Load the dataset using `from sklearn.datasets import load_boston`."
   ]
  },
  {
   "cell_type": "code",
   "execution_count": 21,
   "metadata": {},
   "outputs": [],
   "source": [
    "from sklearn.datasets import load_boston\n",
    "boston = load_boston()"
   ]
  },
  {
   "cell_type": "markdown",
   "metadata": {},
   "source": [
    "Create a DataFrame using the attribute `.data` from the loading function of Scikit-learn.\n",
    "\n",
    "Assign the columns of the DataFrame so they match the `.feature_names` attribute from the loading function of Scikit-learn."
   ]
  },
  {
   "cell_type": "code",
   "execution_count": 22,
   "metadata": {},
   "outputs": [
    {
     "data": {
      "text/html": [
       "<div>\n",
       "<style scoped>\n",
       "    .dataframe tbody tr th:only-of-type {\n",
       "        vertical-align: middle;\n",
       "    }\n",
       "\n",
       "    .dataframe tbody tr th {\n",
       "        vertical-align: top;\n",
       "    }\n",
       "\n",
       "    .dataframe thead th {\n",
       "        text-align: right;\n",
       "    }\n",
       "</style>\n",
       "<table border=\"1\" class=\"dataframe\">\n",
       "  <thead>\n",
       "    <tr style=\"text-align: right;\">\n",
       "      <th></th>\n",
       "      <th>CRIM</th>\n",
       "      <th>ZN</th>\n",
       "      <th>INDUS</th>\n",
       "      <th>CHAS</th>\n",
       "      <th>NOX</th>\n",
       "      <th>RM</th>\n",
       "      <th>AGE</th>\n",
       "      <th>DIS</th>\n",
       "      <th>RAD</th>\n",
       "      <th>TAX</th>\n",
       "      <th>PTRATIO</th>\n",
       "      <th>B</th>\n",
       "      <th>LSTAT</th>\n",
       "    </tr>\n",
       "  </thead>\n",
       "  <tbody>\n",
       "    <tr>\n",
       "      <th>0</th>\n",
       "      <td>0.00632</td>\n",
       "      <td>18.0</td>\n",
       "      <td>2.31</td>\n",
       "      <td>0.0</td>\n",
       "      <td>0.538</td>\n",
       "      <td>6.575</td>\n",
       "      <td>65.2</td>\n",
       "      <td>4.0900</td>\n",
       "      <td>1.0</td>\n",
       "      <td>296.0</td>\n",
       "      <td>15.3</td>\n",
       "      <td>396.90</td>\n",
       "      <td>4.98</td>\n",
       "    </tr>\n",
       "    <tr>\n",
       "      <th>1</th>\n",
       "      <td>0.02731</td>\n",
       "      <td>0.0</td>\n",
       "      <td>7.07</td>\n",
       "      <td>0.0</td>\n",
       "      <td>0.469</td>\n",
       "      <td>6.421</td>\n",
       "      <td>78.9</td>\n",
       "      <td>4.9671</td>\n",
       "      <td>2.0</td>\n",
       "      <td>242.0</td>\n",
       "      <td>17.8</td>\n",
       "      <td>396.90</td>\n",
       "      <td>9.14</td>\n",
       "    </tr>\n",
       "    <tr>\n",
       "      <th>2</th>\n",
       "      <td>0.02729</td>\n",
       "      <td>0.0</td>\n",
       "      <td>7.07</td>\n",
       "      <td>0.0</td>\n",
       "      <td>0.469</td>\n",
       "      <td>7.185</td>\n",
       "      <td>61.1</td>\n",
       "      <td>4.9671</td>\n",
       "      <td>2.0</td>\n",
       "      <td>242.0</td>\n",
       "      <td>17.8</td>\n",
       "      <td>392.83</td>\n",
       "      <td>4.03</td>\n",
       "    </tr>\n",
       "  </tbody>\n",
       "</table>\n",
       "</div>"
      ],
      "text/plain": [
       "      CRIM    ZN  INDUS  CHAS    NOX     RM   AGE     DIS  RAD    TAX  \\\n",
       "0  0.00632  18.0   2.31   0.0  0.538  6.575  65.2  4.0900  1.0  296.0   \n",
       "1  0.02731   0.0   7.07   0.0  0.469  6.421  78.9  4.9671  2.0  242.0   \n",
       "2  0.02729   0.0   7.07   0.0  0.469  7.185  61.1  4.9671  2.0  242.0   \n",
       "\n",
       "   PTRATIO       B  LSTAT  \n",
       "0     15.3  396.90   4.98  \n",
       "1     17.8  396.90   9.14  \n",
       "2     17.8  392.83   4.03  "
      ]
     },
     "execution_count": 22,
     "metadata": {},
     "output_type": "execute_result"
    }
   ],
   "source": [
    "data=pd.DataFrame(boston.data, columns=boston.feature_names)\n",
    "data.head(3)"
   ]
  },
  {
   "cell_type": "markdown",
   "metadata": {},
   "source": [
    "Assign a new column to the DataFrame which holds the value to predict, that means, the `.target` attribute of the loading function of Scikit-learn. The name of this columns must be `MEDV`."
   ]
  },
  {
   "cell_type": "code",
   "execution_count": 23,
   "metadata": {},
   "outputs": [
    {
     "data": {
      "text/html": [
       "<div>\n",
       "<style scoped>\n",
       "    .dataframe tbody tr th:only-of-type {\n",
       "        vertical-align: middle;\n",
       "    }\n",
       "\n",
       "    .dataframe tbody tr th {\n",
       "        vertical-align: top;\n",
       "    }\n",
       "\n",
       "    .dataframe thead th {\n",
       "        text-align: right;\n",
       "    }\n",
       "</style>\n",
       "<table border=\"1\" class=\"dataframe\">\n",
       "  <thead>\n",
       "    <tr style=\"text-align: right;\">\n",
       "      <th></th>\n",
       "      <th>CRIM</th>\n",
       "      <th>ZN</th>\n",
       "      <th>INDUS</th>\n",
       "      <th>CHAS</th>\n",
       "      <th>NOX</th>\n",
       "      <th>RM</th>\n",
       "      <th>AGE</th>\n",
       "      <th>DIS</th>\n",
       "      <th>RAD</th>\n",
       "      <th>TAX</th>\n",
       "      <th>PTRATIO</th>\n",
       "      <th>B</th>\n",
       "      <th>LSTAT</th>\n",
       "      <th>MEDV</th>\n",
       "    </tr>\n",
       "  </thead>\n",
       "  <tbody>\n",
       "    <tr>\n",
       "      <th>0</th>\n",
       "      <td>0.00632</td>\n",
       "      <td>18.0</td>\n",
       "      <td>2.31</td>\n",
       "      <td>0.0</td>\n",
       "      <td>0.538</td>\n",
       "      <td>6.575</td>\n",
       "      <td>65.2</td>\n",
       "      <td>4.0900</td>\n",
       "      <td>1.0</td>\n",
       "      <td>296.0</td>\n",
       "      <td>15.3</td>\n",
       "      <td>396.90</td>\n",
       "      <td>4.98</td>\n",
       "      <td>24.0</td>\n",
       "    </tr>\n",
       "    <tr>\n",
       "      <th>1</th>\n",
       "      <td>0.02731</td>\n",
       "      <td>0.0</td>\n",
       "      <td>7.07</td>\n",
       "      <td>0.0</td>\n",
       "      <td>0.469</td>\n",
       "      <td>6.421</td>\n",
       "      <td>78.9</td>\n",
       "      <td>4.9671</td>\n",
       "      <td>2.0</td>\n",
       "      <td>242.0</td>\n",
       "      <td>17.8</td>\n",
       "      <td>396.90</td>\n",
       "      <td>9.14</td>\n",
       "      <td>21.6</td>\n",
       "    </tr>\n",
       "    <tr>\n",
       "      <th>2</th>\n",
       "      <td>0.02729</td>\n",
       "      <td>0.0</td>\n",
       "      <td>7.07</td>\n",
       "      <td>0.0</td>\n",
       "      <td>0.469</td>\n",
       "      <td>7.185</td>\n",
       "      <td>61.1</td>\n",
       "      <td>4.9671</td>\n",
       "      <td>2.0</td>\n",
       "      <td>242.0</td>\n",
       "      <td>17.8</td>\n",
       "      <td>392.83</td>\n",
       "      <td>4.03</td>\n",
       "      <td>34.7</td>\n",
       "    </tr>\n",
       "  </tbody>\n",
       "</table>\n",
       "</div>"
      ],
      "text/plain": [
       "      CRIM    ZN  INDUS  CHAS    NOX     RM   AGE     DIS  RAD    TAX  \\\n",
       "0  0.00632  18.0   2.31   0.0  0.538  6.575  65.2  4.0900  1.0  296.0   \n",
       "1  0.02731   0.0   7.07   0.0  0.469  6.421  78.9  4.9671  2.0  242.0   \n",
       "2  0.02729   0.0   7.07   0.0  0.469  7.185  61.1  4.9671  2.0  242.0   \n",
       "\n",
       "   PTRATIO       B  LSTAT  MEDV  \n",
       "0     15.3  396.90   4.98  24.0  \n",
       "1     17.8  396.90   9.14  21.6  \n",
       "2     17.8  392.83   4.03  34.7  "
      ]
     },
     "execution_count": 23,
     "metadata": {},
     "output_type": "execute_result"
    }
   ],
   "source": [
    "data[\"MEDV\"]=boston.target\n",
    "data.head(3)"
   ]
  },
  {
   "cell_type": "markdown",
   "metadata": {},
   "source": [
    "Use the function `.describe()` from Pandas for obtaining statistics about each column."
   ]
  },
  {
   "cell_type": "code",
   "execution_count": 24,
   "metadata": {},
   "outputs": [
    {
     "data": {
      "text/html": [
       "<div>\n",
       "<style scoped>\n",
       "    .dataframe tbody tr th:only-of-type {\n",
       "        vertical-align: middle;\n",
       "    }\n",
       "\n",
       "    .dataframe tbody tr th {\n",
       "        vertical-align: top;\n",
       "    }\n",
       "\n",
       "    .dataframe thead th {\n",
       "        text-align: right;\n",
       "    }\n",
       "</style>\n",
       "<table border=\"1\" class=\"dataframe\">\n",
       "  <thead>\n",
       "    <tr style=\"text-align: right;\">\n",
       "      <th></th>\n",
       "      <th>CRIM</th>\n",
       "      <th>ZN</th>\n",
       "      <th>INDUS</th>\n",
       "      <th>CHAS</th>\n",
       "      <th>NOX</th>\n",
       "      <th>RM</th>\n",
       "      <th>AGE</th>\n",
       "      <th>DIS</th>\n",
       "      <th>RAD</th>\n",
       "      <th>TAX</th>\n",
       "      <th>PTRATIO</th>\n",
       "      <th>B</th>\n",
       "      <th>LSTAT</th>\n",
       "      <th>MEDV</th>\n",
       "    </tr>\n",
       "  </thead>\n",
       "  <tbody>\n",
       "    <tr>\n",
       "      <th>count</th>\n",
       "      <td>506.000000</td>\n",
       "      <td>506.000000</td>\n",
       "      <td>506.000000</td>\n",
       "      <td>506.000000</td>\n",
       "      <td>506.000000</td>\n",
       "      <td>506.000000</td>\n",
       "      <td>506.000000</td>\n",
       "      <td>506.000000</td>\n",
       "      <td>506.000000</td>\n",
       "      <td>506.000000</td>\n",
       "      <td>506.000000</td>\n",
       "      <td>506.000000</td>\n",
       "      <td>506.000000</td>\n",
       "      <td>506.000000</td>\n",
       "    </tr>\n",
       "    <tr>\n",
       "      <th>mean</th>\n",
       "      <td>3.593761</td>\n",
       "      <td>11.363636</td>\n",
       "      <td>11.136779</td>\n",
       "      <td>0.069170</td>\n",
       "      <td>0.554695</td>\n",
       "      <td>6.284634</td>\n",
       "      <td>68.574901</td>\n",
       "      <td>3.795043</td>\n",
       "      <td>9.549407</td>\n",
       "      <td>408.237154</td>\n",
       "      <td>18.455534</td>\n",
       "      <td>356.674032</td>\n",
       "      <td>12.653063</td>\n",
       "      <td>22.532806</td>\n",
       "    </tr>\n",
       "    <tr>\n",
       "      <th>std</th>\n",
       "      <td>8.596783</td>\n",
       "      <td>23.322453</td>\n",
       "      <td>6.860353</td>\n",
       "      <td>0.253994</td>\n",
       "      <td>0.115878</td>\n",
       "      <td>0.702617</td>\n",
       "      <td>28.148861</td>\n",
       "      <td>2.105710</td>\n",
       "      <td>8.707259</td>\n",
       "      <td>168.537116</td>\n",
       "      <td>2.164946</td>\n",
       "      <td>91.294864</td>\n",
       "      <td>7.141062</td>\n",
       "      <td>9.197104</td>\n",
       "    </tr>\n",
       "    <tr>\n",
       "      <th>min</th>\n",
       "      <td>0.006320</td>\n",
       "      <td>0.000000</td>\n",
       "      <td>0.460000</td>\n",
       "      <td>0.000000</td>\n",
       "      <td>0.385000</td>\n",
       "      <td>3.561000</td>\n",
       "      <td>2.900000</td>\n",
       "      <td>1.129600</td>\n",
       "      <td>1.000000</td>\n",
       "      <td>187.000000</td>\n",
       "      <td>12.600000</td>\n",
       "      <td>0.320000</td>\n",
       "      <td>1.730000</td>\n",
       "      <td>5.000000</td>\n",
       "    </tr>\n",
       "    <tr>\n",
       "      <th>25%</th>\n",
       "      <td>0.082045</td>\n",
       "      <td>0.000000</td>\n",
       "      <td>5.190000</td>\n",
       "      <td>0.000000</td>\n",
       "      <td>0.449000</td>\n",
       "      <td>5.885500</td>\n",
       "      <td>45.025000</td>\n",
       "      <td>2.100175</td>\n",
       "      <td>4.000000</td>\n",
       "      <td>279.000000</td>\n",
       "      <td>17.400000</td>\n",
       "      <td>375.377500</td>\n",
       "      <td>6.950000</td>\n",
       "      <td>17.025000</td>\n",
       "    </tr>\n",
       "    <tr>\n",
       "      <th>50%</th>\n",
       "      <td>0.256510</td>\n",
       "      <td>0.000000</td>\n",
       "      <td>9.690000</td>\n",
       "      <td>0.000000</td>\n",
       "      <td>0.538000</td>\n",
       "      <td>6.208500</td>\n",
       "      <td>77.500000</td>\n",
       "      <td>3.207450</td>\n",
       "      <td>5.000000</td>\n",
       "      <td>330.000000</td>\n",
       "      <td>19.050000</td>\n",
       "      <td>391.440000</td>\n",
       "      <td>11.360000</td>\n",
       "      <td>21.200000</td>\n",
       "    </tr>\n",
       "    <tr>\n",
       "      <th>75%</th>\n",
       "      <td>3.647423</td>\n",
       "      <td>12.500000</td>\n",
       "      <td>18.100000</td>\n",
       "      <td>0.000000</td>\n",
       "      <td>0.624000</td>\n",
       "      <td>6.623500</td>\n",
       "      <td>94.075000</td>\n",
       "      <td>5.188425</td>\n",
       "      <td>24.000000</td>\n",
       "      <td>666.000000</td>\n",
       "      <td>20.200000</td>\n",
       "      <td>396.225000</td>\n",
       "      <td>16.955000</td>\n",
       "      <td>25.000000</td>\n",
       "    </tr>\n",
       "    <tr>\n",
       "      <th>max</th>\n",
       "      <td>88.976200</td>\n",
       "      <td>100.000000</td>\n",
       "      <td>27.740000</td>\n",
       "      <td>1.000000</td>\n",
       "      <td>0.871000</td>\n",
       "      <td>8.780000</td>\n",
       "      <td>100.000000</td>\n",
       "      <td>12.126500</td>\n",
       "      <td>24.000000</td>\n",
       "      <td>711.000000</td>\n",
       "      <td>22.000000</td>\n",
       "      <td>396.900000</td>\n",
       "      <td>37.970000</td>\n",
       "      <td>50.000000</td>\n",
       "    </tr>\n",
       "  </tbody>\n",
       "</table>\n",
       "</div>"
      ],
      "text/plain": [
       "             CRIM          ZN       INDUS        CHAS         NOX          RM  \\\n",
       "count  506.000000  506.000000  506.000000  506.000000  506.000000  506.000000   \n",
       "mean     3.593761   11.363636   11.136779    0.069170    0.554695    6.284634   \n",
       "std      8.596783   23.322453    6.860353    0.253994    0.115878    0.702617   \n",
       "min      0.006320    0.000000    0.460000    0.000000    0.385000    3.561000   \n",
       "25%      0.082045    0.000000    5.190000    0.000000    0.449000    5.885500   \n",
       "50%      0.256510    0.000000    9.690000    0.000000    0.538000    6.208500   \n",
       "75%      3.647423   12.500000   18.100000    0.000000    0.624000    6.623500   \n",
       "max     88.976200  100.000000   27.740000    1.000000    0.871000    8.780000   \n",
       "\n",
       "              AGE         DIS         RAD         TAX     PTRATIO           B  \\\n",
       "count  506.000000  506.000000  506.000000  506.000000  506.000000  506.000000   \n",
       "mean    68.574901    3.795043    9.549407  408.237154   18.455534  356.674032   \n",
       "std     28.148861    2.105710    8.707259  168.537116    2.164946   91.294864   \n",
       "min      2.900000    1.129600    1.000000  187.000000   12.600000    0.320000   \n",
       "25%     45.025000    2.100175    4.000000  279.000000   17.400000  375.377500   \n",
       "50%     77.500000    3.207450    5.000000  330.000000   19.050000  391.440000   \n",
       "75%     94.075000    5.188425   24.000000  666.000000   20.200000  396.225000   \n",
       "max    100.000000   12.126500   24.000000  711.000000   22.000000  396.900000   \n",
       "\n",
       "            LSTAT        MEDV  \n",
       "count  506.000000  506.000000  \n",
       "mean    12.653063   22.532806  \n",
       "std      7.141062    9.197104  \n",
       "min      1.730000    5.000000  \n",
       "25%      6.950000   17.025000  \n",
       "50%     11.360000   21.200000  \n",
       "75%     16.955000   25.000000  \n",
       "max     37.970000   50.000000  "
      ]
     },
     "execution_count": 24,
     "metadata": {},
     "output_type": "execute_result"
    }
   ],
   "source": [
    "data.describe()"
   ]
  },
  {
   "cell_type": "markdown",
   "metadata": {},
   "source": [
    "## 4.3 Feature analysis:"
   ]
  },
  {
   "cell_type": "markdown",
   "metadata": {},
   "source": [
    "Using the DataFrame generated in the previous section:\n",
    "* Filter the dataset to just these features:\n",
    "     * Explanatory: 'LSTAT', 'INDUS', 'NOX', 'RM', 'AGE'\n",
    "     * Dependent: 'MEDV'."
   ]
  },
  {
   "cell_type": "code",
   "execution_count": 25,
   "metadata": {},
   "outputs": [
    {
     "data": {
      "text/html": [
       "<div>\n",
       "<style scoped>\n",
       "    .dataframe tbody tr th:only-of-type {\n",
       "        vertical-align: middle;\n",
       "    }\n",
       "\n",
       "    .dataframe tbody tr th {\n",
       "        vertical-align: top;\n",
       "    }\n",
       "\n",
       "    .dataframe thead th {\n",
       "        text-align: right;\n",
       "    }\n",
       "</style>\n",
       "<table border=\"1\" class=\"dataframe\">\n",
       "  <thead>\n",
       "    <tr style=\"text-align: right;\">\n",
       "      <th></th>\n",
       "      <th>LSTAT</th>\n",
       "      <th>INDUS</th>\n",
       "      <th>NOX</th>\n",
       "      <th>RM</th>\n",
       "      <th>AGE</th>\n",
       "      <th>MEDV</th>\n",
       "    </tr>\n",
       "  </thead>\n",
       "  <tbody>\n",
       "    <tr>\n",
       "      <th>0</th>\n",
       "      <td>4.98</td>\n",
       "      <td>2.31</td>\n",
       "      <td>0.538</td>\n",
       "      <td>6.575</td>\n",
       "      <td>65.2</td>\n",
       "      <td>24.0</td>\n",
       "    </tr>\n",
       "    <tr>\n",
       "      <th>1</th>\n",
       "      <td>9.14</td>\n",
       "      <td>7.07</td>\n",
       "      <td>0.469</td>\n",
       "      <td>6.421</td>\n",
       "      <td>78.9</td>\n",
       "      <td>21.6</td>\n",
       "    </tr>\n",
       "    <tr>\n",
       "      <th>2</th>\n",
       "      <td>4.03</td>\n",
       "      <td>7.07</td>\n",
       "      <td>0.469</td>\n",
       "      <td>7.185</td>\n",
       "      <td>61.1</td>\n",
       "      <td>34.7</td>\n",
       "    </tr>\n",
       "  </tbody>\n",
       "</table>\n",
       "</div>"
      ],
      "text/plain": [
       "   LSTAT  INDUS    NOX     RM   AGE  MEDV\n",
       "0   4.98   2.31  0.538  6.575  65.2  24.0\n",
       "1   9.14   7.07  0.469  6.421  78.9  21.6\n",
       "2   4.03   7.07  0.469  7.185  61.1  34.7"
      ]
     },
     "execution_count": 25,
     "metadata": {},
     "output_type": "execute_result"
    }
   ],
   "source": [
    "features=['LSTAT', 'INDUS', 'NOX', 'RM', 'AGE', 'MEDV']\n",
    "db=data[features]\n",
    "db.head(3)"
   ]
  },
  {
   "cell_type": "markdown",
   "metadata": {},
   "source": [
    "* Generate a scatter matrix among the features mentioned above using Pandas (`scatter_matrix`) or Seaborn (` pairplot`)."
   ]
  },
  {
   "cell_type": "code",
   "execution_count": 26,
   "metadata": {},
   "outputs": [
    {
     "data": {
      "image/png": "[encoded data removed]",
      "text/plain": [
       "<matplotlib.figure.Figure at 0x1e292dbf6a0>"
      ]
     },
     "metadata": {},
     "output_type": "display_data"
    }
   ],
   "source": [
    "%matplotlib inline\n",
    "import seaborn as sns\n",
    "g = sns.pairplot(db, size=2, kind=\"reg\", diag_kind =\"kde\", plot_kws={'line_kws':{'color':'red'}})\n"
   ]
  },
  {
   "cell_type": "markdown",
   "metadata": {},
   "source": [
    "    A partir de las relaciones por pares recién generadas, podemos decir, entre otros, que la relación entre el porcentaje de población de bajo estrato (LSTAT) es inversamente proporcional al número promedio de habitaciones (RM) así como valor (MEDV). Otra de las tenencias marcadas es la concentración de óxido de nitrógeno (nox) y la presencia industrial (INDUS). Para algunos pares de variables, si bien existe una tendencia positiva o negativa, no se observa una clara relación entre los datos. Adicionalmente parecen existir relaciones no lineales entre algunas variables.\n"
   ]
  },
  {
   "cell_type": "markdown",
   "metadata": {},
   "source": [
    "* Generate the correlation matrix between these variables using `numpy.corrcoef`. Also include `MEDV`.\n",
    "     * Which characteristics are more correlated?    "
   ]
  },
  {
   "cell_type": "code",
   "execution_count": 27,
   "metadata": {},
   "outputs": [
    {
     "data": {
      "text/html": [
       "<div>\n",
       "<style scoped>\n",
       "    .dataframe tbody tr th:only-of-type {\n",
       "        vertical-align: middle;\n",
       "    }\n",
       "\n",
       "    .dataframe tbody tr th {\n",
       "        vertical-align: top;\n",
       "    }\n",
       "\n",
       "    .dataframe thead th {\n",
       "        text-align: right;\n",
       "    }\n",
       "</style>\n",
       "<table border=\"1\" class=\"dataframe\">\n",
       "  <thead>\n",
       "    <tr style=\"text-align: right;\">\n",
       "      <th></th>\n",
       "      <th>LSTAT</th>\n",
       "      <th>INDUS</th>\n",
       "      <th>NOX</th>\n",
       "      <th>RM</th>\n",
       "      <th>AGE</th>\n",
       "      <th>MEDV</th>\n",
       "    </tr>\n",
       "  </thead>\n",
       "  <tbody>\n",
       "    <tr>\n",
       "      <th>LSTAT</th>\n",
       "      <td>1.000000</td>\n",
       "      <td>0.603800</td>\n",
       "      <td>0.590879</td>\n",
       "      <td>-0.613808</td>\n",
       "      <td>0.602339</td>\n",
       "      <td>-0.737663</td>\n",
       "    </tr>\n",
       "    <tr>\n",
       "      <th>INDUS</th>\n",
       "      <td>0.603800</td>\n",
       "      <td>1.000000</td>\n",
       "      <td>0.763651</td>\n",
       "      <td>-0.391676</td>\n",
       "      <td>0.644779</td>\n",
       "      <td>-0.483725</td>\n",
       "    </tr>\n",
       "    <tr>\n",
       "      <th>NOX</th>\n",
       "      <td>0.590879</td>\n",
       "      <td>0.763651</td>\n",
       "      <td>1.000000</td>\n",
       "      <td>-0.302188</td>\n",
       "      <td>0.731470</td>\n",
       "      <td>-0.427321</td>\n",
       "    </tr>\n",
       "    <tr>\n",
       "      <th>RM</th>\n",
       "      <td>-0.613808</td>\n",
       "      <td>-0.391676</td>\n",
       "      <td>-0.302188</td>\n",
       "      <td>1.000000</td>\n",
       "      <td>-0.240265</td>\n",
       "      <td>0.695360</td>\n",
       "    </tr>\n",
       "    <tr>\n",
       "      <th>AGE</th>\n",
       "      <td>0.602339</td>\n",
       "      <td>0.644779</td>\n",
       "      <td>0.731470</td>\n",
       "      <td>-0.240265</td>\n",
       "      <td>1.000000</td>\n",
       "      <td>-0.376955</td>\n",
       "    </tr>\n",
       "    <tr>\n",
       "      <th>MEDV</th>\n",
       "      <td>-0.737663</td>\n",
       "      <td>-0.483725</td>\n",
       "      <td>-0.427321</td>\n",
       "      <td>0.695360</td>\n",
       "      <td>-0.376955</td>\n",
       "      <td>1.000000</td>\n",
       "    </tr>\n",
       "  </tbody>\n",
       "</table>\n",
       "</div>"
      ],
      "text/plain": [
       "          LSTAT     INDUS       NOX        RM       AGE      MEDV\n",
       "LSTAT  1.000000  0.603800  0.590879 -0.613808  0.602339 -0.737663\n",
       "INDUS  0.603800  1.000000  0.763651 -0.391676  0.644779 -0.483725\n",
       "NOX    0.590879  0.763651  1.000000 -0.302188  0.731470 -0.427321\n",
       "RM    -0.613808 -0.391676 -0.302188  1.000000 -0.240265  0.695360\n",
       "AGE    0.602339  0.644779  0.731470 -0.240265  1.000000 -0.376955\n",
       "MEDV  -0.737663 -0.483725 -0.427321  0.695360 -0.376955  1.000000"
      ]
     },
     "execution_count": 27,
     "metadata": {},
     "output_type": "execute_result"
    }
   ],
   "source": [
    "db.corr()"
   ]
  },
  {
   "cell_type": "markdown",
   "metadata": {},
   "source": [
    "De la matriz de correlaciones podemos decir que existen algunas relaciones inversamente proporcionales muy marcadas, tales como el valor de las vivienda (MEDV) y el porcentaje de población de bajo estrato (LSTAT), o la cantidad de habitaciones (RM) y el porcentaje de población de bajo estrato; Otras muestran relacion directamente proporcional, como es el caso del nivel de óxido de Nitrógeno (NOX) y la antiguedad de los edificios (AGE), tambien se observa que entre más alto el número promedio de habitaciones, más alto el valor de las viviendas."
   ]
  },
  {
   "cell_type": "markdown",
   "metadata": {},
   "source": [
    " * BONUS: Visualize this matrix as heat map using Pandas, Matplotlib or Seaborn."
   ]
  },
  {
   "cell_type": "code",
   "execution_count": 28,
   "metadata": {},
   "outputs": [
    {
     "data": {
      "text/plain": [
       "<matplotlib.axes._subplots.AxesSubplot at 0x1e294386710>"
      ]
     },
     "execution_count": 28,
     "metadata": {},
     "output_type": "execute_result"
    },
    {
     "data": {
      "image/png": "[encoded data removed]",
      "text/plain": [
       "<matplotlib.figure.Figure at 0x1e29405aef0>"
      ]
     },
     "metadata": {},
     "output_type": "display_data"
    }
   ],
   "source": [
    "sns.heatmap(db.corr(), center=0)"
   ]
  },
  {
   "cell_type": "markdown",
   "metadata": {},
   "source": [
    "## 4.4 Modeling linear and non linear relationships\n",
    "\n",
    "* How does the model perform on $ D_1 $ and $ D_2 $? Why?"
   ]
  },
  {
   "cell_type": "markdown",
   "metadata": {},
   "source": [
    "* Generate two new subsets filtering these characteristics:\n",
    "     * $D_1$:  $X = \\textit{'RM'}$, $y = \\textit{'MEDV'}$\n",
    "     * $D_2$:  $X = \\textit{'LSTAT'}$, $y = \\textit{'MEDV'}$"
   ]
  },
  {
   "cell_type": "code",
   "execution_count": 29,
   "metadata": {},
   "outputs": [],
   "source": [
    "D1_X, D1_y= data[\"RM\"], data[\"MEDV\"]\n",
    "D2_X, D2_y= data[\"LSTAT\"], data[\"MEDV\"]"
   ]
  },
  {
   "cell_type": "markdown",
   "metadata": {},
   "source": [
    "* For each subset, generate a training partition and a test partition using a ratio of $ 70 \\% - 30 \\% $"
   ]
  },
  {
   "cell_type": "code",
   "execution_count": 30,
   "metadata": {},
   "outputs": [],
   "source": [
    "from sklearn.model_selection import train_test_split\n",
    "D1_X_train, D1_X_test, D1_y_train, D1_y_test = train_test_split(D1_X, D1_y, test_size=0.3, random_state=31415)\n",
    "D2_X_train, D2_X_test, D2_y_train, D2_y_test = train_test_split(D2_X, D2_y, test_size=0.3, random_state=31415)"
   ]
  },
  {
   "cell_type": "markdown",
   "metadata": {},
   "source": [
    "* Train a linear regression model on both subsets of data:"
   ]
  },
  {
   "cell_type": "code",
   "execution_count": 31,
   "metadata": {},
   "outputs": [],
   "source": [
    "from sklearn.linear_model import LinearRegression\n",
    "\n",
    "# Definición del objeto\n",
    "logreg_D1 = LinearRegression()\n",
    "logreg_D2 = LinearRegression()"
   ]
  },
  {
   "cell_type": "code",
   "execution_count": 32,
   "metadata": {},
   "outputs": [
    {
     "data": {
      "text/plain": [
       "LinearRegression(copy_X=True, fit_intercept=True, n_jobs=1, normalize=False)"
      ]
     },
     "execution_count": 32,
     "metadata": {},
     "output_type": "execute_result"
    }
   ],
   "source": [
    "# Ajuste del modelo en cunjunto de entrenamiento.\n",
    "logreg_D1.fit(D1_X_train.values.reshape(-1, 1),D1_y_train.values.reshape(-1, 1))\n",
    "logreg_D2.fit(D2_X_train.values.reshape(-1, 1),D2_y_train.values.reshape(-1, 1))"
   ]
  },
  {
   "cell_type": "code",
   "execution_count": 33,
   "metadata": {},
   "outputs": [],
   "source": [
    "# Predecir en Conjunto de Test\n",
    "y_pred_D1=logreg_D1.predict(D1_X_test.values.reshape(-1, 1))\n",
    "y_pred_D2=logreg_D2.predict(D2_X_test.values.reshape(-1, 1))"
   ]
  },
  {
   "cell_type": "markdown",
   "metadata": {},
   "source": [
    "* Report the mean square error on the test set"
   ]
  },
  {
   "cell_type": "code",
   "execution_count": 34,
   "metadata": {},
   "outputs": [],
   "source": [
    "from sklearn.metrics import mean_squared_error, r2_score"
   ]
  },
  {
   "cell_type": "markdown",
   "metadata": {},
   "source": [
    "$D_1$:  $X = \\textit{'RM'}$, $y = \\textit{'MEDV'}$"
   ]
  },
  {
   "cell_type": "code",
   "execution_count": 35,
   "metadata": {
    "scrolled": true
   },
   "outputs": [
    {
     "name": "stdout",
     "output_type": "stream",
     "text": [
      "MSE: 44.92\n",
      "R Cuadrado: 0.39\n"
     ]
    }
   ],
   "source": [
    "print(\"MSE: %.2f\"% mean_squared_error(D1_y_test, y_pred_D1))\n",
    "print('R Cuadrado: %.2f' % r2_score(D1_y_test, y_pred_D1))"
   ]
  },
  {
   "cell_type": "markdown",
   "metadata": {},
   "source": [
    "$D_2$:  $X = \\textit{'LSTAT'}$, $y = \\textit{'MEDV'}$"
   ]
  },
  {
   "cell_type": "code",
   "execution_count": 36,
   "metadata": {},
   "outputs": [
    {
     "name": "stdout",
     "output_type": "stream",
     "text": [
      "MSE: 36.26\n",
      "R Cuadrado: 0.50\n"
     ]
    }
   ],
   "source": [
    "print(\"MSE: %.2f\"% mean_squared_error(D2_y_test, y_pred_D2))\n",
    "print('R Cuadrado: %.2f' % r2_score(D2_y_test, y_pred_D2))"
   ]
  },
  {
   "cell_type": "markdown",
   "metadata": {},
   "source": [
    "* Print the values of $ w $ and $ w_0 $ of the regression equation"
   ]
  },
  {
   "cell_type": "markdown",
   "metadata": {},
   "source": [
    "$D_1$:  $X = \\textit{'RM'}$, $y = \\textit{'MEDV'}$"
   ]
  },
  {
   "cell_type": "code",
   "execution_count": 37,
   "metadata": {},
   "outputs": [
    {
     "name": "stdout",
     "output_type": "stream",
     "text": [
      "Intercepto:  [-36.95044205]\n",
      "Coeficiente:  [[9.51620105]]\n"
     ]
    }
   ],
   "source": [
    "print('Intercepto: ',logreg_D1.intercept_)\n",
    "print('Coeficiente: ',logreg_D1.coef_)"
   ]
  },
  {
   "cell_type": "markdown",
   "metadata": {},
   "source": [
    "$D_2$:  $X = \\textit{'LSTAT'}$, $y = \\textit{'MEDV'}$"
   ]
  },
  {
   "cell_type": "code",
   "execution_count": 38,
   "metadata": {},
   "outputs": [
    {
     "name": "stdout",
     "output_type": "stream",
     "text": [
      "Intercepto:  [34.85763354]\n",
      "Coeficiente:  [[-0.96303512]]\n"
     ]
    }
   ],
   "source": [
    "print('Intercepto: ',logreg_D2.intercept_)\n",
    "print('Coeficiente: ',logreg_D2.coef_)"
   ]
  },
  {
   "cell_type": "markdown",
   "metadata": {},
   "source": [
    "* Generate a graph where you visualize the line obtained by the regression model in conjunction with the training data and the test data"
   ]
  },
  {
   "cell_type": "markdown",
   "metadata": {},
   "source": [
    "$D_1$:  $X = \\textit{'RM'}$, $y = \\textit{'MEDV'}$"
   ]
  },
  {
   "cell_type": "code",
   "execution_count": 39,
   "metadata": {
    "scrolled": true
   },
   "outputs": [
    {
     "data": {
      "text/plain": [
       "<matplotlib.legend.Legend at 0x1e2946cba58>"
      ]
     },
     "execution_count": 39,
     "metadata": {},
     "output_type": "execute_result"
    },
    {
     "data": {
      "image/png": "[encoded data removed]",
      "text/plain": [
       "<matplotlib.figure.Figure at 0x1e29468f160>"
      ]
     },
     "metadata": {},
     "output_type": "display_data"
    }
   ],
   "source": [
    "f = lambda x: logreg_D1.coef_*x + logreg_D1.intercept_\n",
    "x_line = np.array([min(D1_X_train),max(D1_X_train)])\n",
    "\n",
    "plt.xlabel(\"RM\")\n",
    "plt.ylabel(\"MEDV\")\n",
    "plt.title(\"Rooms per Dewlling vs Median value\")\n",
    "plt.plot(D1_X_train, D1_y_train, 'bo', c=\"salmon\", label=\"Train\")\n",
    "plt.plot(D1_X_test, D1_y_test, 'bo', c=\"lightsteelblue\", label=\"Test\")\n",
    "plt.plot(x_line, f(x_line)[0,], c=\"blue\", label=\"Ajuste Lineal\")\n",
    "plt.legend()"
   ]
  },
  {
   "cell_type": "markdown",
   "metadata": {},
   "source": [
    "$D_2$:  $X = \\textit{'LSTAT'}$, $y = \\textit{'MEDV'}$"
   ]
  },
  {
   "cell_type": "code",
   "execution_count": 40,
   "metadata": {
    "scrolled": false
   },
   "outputs": [
    {
     "data": {
      "text/plain": [
       "<matplotlib.legend.Legend at 0x1e29470f358>"
      ]
     },
     "execution_count": 40,
     "metadata": {},
     "output_type": "execute_result"
    },
    {
     "data": {
      "image/png": "[encoded data removed]",
      "text/plain": [
       "<matplotlib.figure.Figure at 0x1e29468f198>"
      ]
     },
     "metadata": {},
     "output_type": "display_data"
    }
   ],
   "source": [
    "f = lambda x: logreg_D2.coef_*x + logreg_D2.intercept_\n",
    "x_line = np.array([min(D2_X_train),max(D2_X_train)])\n",
    "\n",
    "plt.xlabel(\"LSTAT\")\n",
    "plt.ylabel(\"MEDV\")\n",
    "plt.title(\" % lower status vs Median value\")\n",
    "plt.plot(D2_X_train, D2_y_train, 'bo', c=\"salmon\", label=\"Train\")\n",
    "plt.plot(D2_X_test, D2_y_test, 'bo', c=\"lightsteelblue\", label=\"Test\")\n",
    "plt.plot(x_line, f(x_line)[0,], c=\"blue\", label=\"Ajuste Lineal\")\n",
    "plt.legend()"
   ]
  },
  {
   "cell_type": "markdown",
   "metadata": {},
   "source": [
    "* How does the model perform on $ D_1 $ and $ D_2 $? Why?"
   ]
  },
  {
   "cell_type": "markdown",
   "metadata": {},
   "source": [
    "El modelo que utiliza el número de habitaciones para predecir el valor (D1) tiene un error cuadrático medio de 44.92, mientras que el modelo que utiliza el porcentaje de población de bajo estrato tiene un desempeño de 36.26, además el R cuadrado de los modelos corresponde a 0.39 y 0.50 respectivamente. De allí se puede decir que es mejor el desempeño del modelo D2 (LSTAT), Adicionalmente, como lo observábamos en la matriz de correlaciones, la pendiente de regresión del modelo D1 resultó ser positiva (a mayor número de habitaciones, mayor el valor de la vivienda) mientras que para el segundo modelo negativa ( a mayor porcentaje de personas de bajo estrato, menor el precio de la vivienda)."
   ]
  },
  {
   "cell_type": "markdown",
   "metadata": {},
   "source": [
    "## 4.5 Training a regression model\n",
    "\n",
    "* Generate a 70-30 partitioning of the data **using all the features**. (Do not include the dependent variable `MEDV`)\n",
    "* Train a linear regression model with the objective of predicting the output variable `MEDV`.\n",
    "     * Report the mean square error on the test set\n",
    "* Train a regression model using `MLPRegressor` in order to predict the output variable` MEDV`.\n",
    "     * Report the mean square error on the test set\n",
    "* Scale the data so that they have zero mean variance one per feature (only $ X $). You can use the following piece of code:\n",
    "\n",
    "```python\n",
    "from sklearn.preprocessing import StandardScaler\n",
    "\n",
    "sc_x = StandardScaler()\n",
    "sc_x.fit(X)\n",
    "X_train_s = sc_x.transform(X_train)\n",
    "X_test_s = sc_x.transform(X_test)\n",
    "```\n",
    "Check more information about `StandardScaler` [here](http://scikit-learn.org/stable/modules/generated/sklearn.preprocessing.StandardScaler.html).\n",
    "\n",
    "* Train the following models:\n",
    "     1. Train a linear regression model using the scaled data.\n",
    "         * Report the mean square error on the test set\n",
    "     2. Train a regression model using a 2-layer MultiLayer Perceptron (128 neurons in the first and 512 in the second) and with the **scaled data**.\n",
    "         * Report the mean square error on the test set\n",
    "     3. Which model has better performance? Why?"
   ]
  },
  {
   "cell_type": "markdown",
   "metadata": {},
   "source": [
    "Generate a 70-30 partitioning of the data using all the features. (Do not include the dependent variable MEDV)"
   ]
  },
  {
   "cell_type": "code",
   "execution_count": 41,
   "metadata": {},
   "outputs": [],
   "source": [
    "feature_cols=['CRIM', 'ZN', 'INDUS', 'CHAS', 'NOX', 'RM', 'AGE', 'DIS', 'RAD', 'TAX','PTRATIO', 'B', 'LSTAT']\n",
    "X=data[feature_cols]\n",
    "y=data['MEDV']"
   ]
  },
  {
   "cell_type": "code",
   "execution_count": 42,
   "metadata": {},
   "outputs": [],
   "source": [
    "X_train, X_test, y_train, y_test = train_test_split(X, y, test_size=0.3, random_state=31415)"
   ]
  },
  {
   "cell_type": "markdown",
   "metadata": {},
   "source": [
    "* Train a linear regression model with the objective of predicting the output variable `MEDV`.\n",
    "     * Report the mean square error on the test set"
   ]
  },
  {
   "cell_type": "code",
   "execution_count": 43,
   "metadata": {},
   "outputs": [
    {
     "name": "stdout",
     "output_type": "stream",
     "text": [
      "MSE: 25.99\n",
      "R Cuadrado: 0.65\n"
     ]
    }
   ],
   "source": [
    "linreg=LinearRegression()\n",
    "linreg.fit(X_train,y_train)\n",
    "\n",
    "# Prediccion sobre el conjunto test\n",
    "y_pred=linreg.predict(X_test)\n",
    "\n",
    "print(\"MSE: %.2f\"% mean_squared_error(y_test, y_pred))\n",
    "print('R Cuadrado: %.2f'% r2_score(y_test, y_pred))"
   ]
  },
  {
   "cell_type": "markdown",
   "metadata": {},
   "source": [
    "* Train a regression model using `MLPRegressor` in order to predict the output variable` MEDV`.\n",
    "     * Report the mean square error on the test set"
   ]
  },
  {
   "cell_type": "markdown",
   "metadata": {},
   "source": [
    "Calibración dela red:"
   ]
  },
  {
   "cell_type": "code",
   "execution_count": 44,
   "metadata": {},
   "outputs": [],
   "source": [
    "from sklearn.neural_network import MLPRegressor\n",
    "res=[]\n",
    "n_neu=[]\n",
    "for i in range(1800,1850,1):\n",
    "    n_neu.append(i)\n",
    "    \n",
    "    nnet=MLPRegressor(solver='adam',alpha=1e-5, hidden_layer_sizes=(i,), random_state=31415, max_iter=20000)\n",
    "    nnet_fit=nnet.fit(X_train,y_train)\n",
    "    nnet_pred=nnet.predict(X_test)\n",
    "    mse_nnet=mean_squared_error(y_test, nnet_pred)    \n",
    "  \n",
    "    res.append(mse_nnet)"
   ]
  },
  {
   "cell_type": "code",
   "execution_count": 45,
   "metadata": {
    "scrolled": true
   },
   "outputs": [
    {
     "data": {
      "image/png": "[encoded data removed]",
      "text/plain": [
       "<matplotlib.figure.Figure at 0x1e2946de2b0>"
      ]
     },
     "metadata": {},
     "output_type": "display_data"
    }
   ],
   "source": [
    "plt.style.use('seaborn-whitegrid')\n",
    "fig = plt.figure()\n",
    "ax = plt.axes()\n",
    "plt.title(\"Ganancia en MSE\")\n",
    "plt.xlabel(\"Tamaño de Capa Oculta\")\n",
    "plt.ylabel(\"MSE\")\n",
    "plt.plot(n_neu, res)\n",
    "plt.show()"
   ]
  },
  {
   "cell_type": "code",
   "execution_count": 46,
   "metadata": {},
   "outputs": [
    {
     "data": {
      "text/plain": [
       "1837"
      ]
     },
     "execution_count": 46,
     "metadata": {},
     "output_type": "execute_result"
    }
   ],
   "source": [
    "MSE_min=n_neu[res.index(min(res))]\n",
    "MSE_min\n"
   ]
  },
  {
   "cell_type": "code",
   "execution_count": 47,
   "metadata": {
    "scrolled": true
   },
   "outputs": [
    {
     "data": {
      "text/plain": [
       "29.829668114262834"
      ]
     },
     "execution_count": 47,
     "metadata": {},
     "output_type": "execute_result"
    }
   ],
   "source": [
    "min(res)"
   ]
  },
  {
   "cell_type": "code",
   "execution_count": 48,
   "metadata": {},
   "outputs": [
    {
     "data": {
      "text/plain": [
       "MLPRegressor(activation='relu', alpha=1e-05, batch_size='auto', beta_1=0.9,\n",
       "       beta_2=0.999, early_stopping=False, epsilon=1e-08,\n",
       "       hidden_layer_sizes=1837, learning_rate='constant',\n",
       "       learning_rate_init=0.001, max_iter=20000, momentum=0.9,\n",
       "       nesterovs_momentum=True, power_t=0.5, random_state=31415,\n",
       "       shuffle=True, solver='adam', tol=0.0001, validation_fraction=0.1,\n",
       "       verbose=False, warm_start=False)"
      ]
     },
     "execution_count": 48,
     "metadata": {},
     "output_type": "execute_result"
    }
   ],
   "source": [
    "nn3 = MLPRegressor(solver='adam', alpha=1e-5, hidden_layer_sizes=(1837), random_state=31415, max_iter=20000)\n",
    "nn3.fit(X_train,y_train)"
   ]
  },
  {
   "cell_type": "markdown",
   "metadata": {},
   "source": [
    "Curva de costo vs iteración"
   ]
  },
  {
   "cell_type": "code",
   "execution_count": 49,
   "metadata": {
    "scrolled": true
   },
   "outputs": [
    {
     "data": {
      "image/png": "[encoded data removed]",
      "text/plain": [
       "<matplotlib.figure.Figure at 0x1e2947d2c88>"
      ]
     },
     "metadata": {},
     "output_type": "display_data"
    }
   ],
   "source": [
    "plt.ylabel('cost')\n",
    "plt.xlabel('iterations')\n",
    "plt.title(\"Learning rate =\" + str(0.001))\n",
    "plt.plot(nn3.loss_curve_)\n",
    "plt.show()"
   ]
  },
  {
   "cell_type": "code",
   "execution_count": 50,
   "metadata": {},
   "outputs": [],
   "source": [
    "# Prediccion sobre el conjunto test\n",
    "y_pred_nn=nn3.predict(X_test)"
   ]
  },
  {
   "cell_type": "code",
   "execution_count": 51,
   "metadata": {},
   "outputs": [
    {
     "name": "stdout",
     "output_type": "stream",
     "text": [
      "MSE: 29.83\n"
     ]
    }
   ],
   "source": [
    "print(\"MSE: %.2f\"% mean_squared_error(y_test, y_pred_nn))"
   ]
  },
  {
   "cell_type": "markdown",
   "metadata": {},
   "source": [
    "* Scale the data so that they have zero mean variance one per feature (only $ X $). You can use the following piece of code:\n",
    "\n",
    "```python\n",
    "from sklearn.preprocessing import StandardScaler\n",
    "\n",
    "sc_x = StandardScaler()\n",
    "sc_x.fit(X)\n",
    "X_train_s = sc_x.transform(X_train)\n",
    "X_test_s = sc_x.transform(X_test)\n",
    "```"
   ]
  },
  {
   "cell_type": "code",
   "execution_count": 52,
   "metadata": {},
   "outputs": [],
   "source": [
    "from sklearn.preprocessing import StandardScaler\n",
    "\n",
    "sc_x = StandardScaler()\n",
    "sc_x.fit(X)\n",
    "X_train_s = sc_x.transform(X_train)\n",
    "X_test_s = sc_x.transform(X_test)"
   ]
  },
  {
   "cell_type": "markdown",
   "metadata": {},
   "source": [
    "Train a linear regression model using the scaled data.\n",
    "* Report the mean square error on the test set\n"
   ]
  },
  {
   "cell_type": "code",
   "execution_count": 53,
   "metadata": {},
   "outputs": [
    {
     "name": "stdout",
     "output_type": "stream",
     "text": [
      "MSE: 25.99\n"
     ]
    }
   ],
   "source": [
    "linreg=LinearRegression()\n",
    "linreg.fit(X_train_s,y_train)\n",
    "\n",
    "# Prediccion sobre el conjunto test\n",
    "y_pred_s=linreg.predict(X_test_s)\n",
    "\n",
    "print(\"MSE: %.2f\"% mean_squared_error(y_test, y_pred_s))"
   ]
  },
  {
   "cell_type": "markdown",
   "metadata": {},
   "source": [
    "Train a regression model using a 2-layer MultiLayer Perceptron (128 neurons in the first and 512 in the second) and with the **scaled data**.\n",
    "* Report the mean square error on the test set\n"
   ]
  },
  {
   "cell_type": "code",
   "execution_count": 54,
   "metadata": {},
   "outputs": [
    {
     "data": {
      "text/plain": [
       "MLPRegressor(activation='relu', alpha=1e-05, batch_size='auto', beta_1=0.9,\n",
       "       beta_2=0.999, early_stopping=False, epsilon=1e-08,\n",
       "       hidden_layer_sizes=(128, 512), learning_rate='constant',\n",
       "       learning_rate_init=0.001, max_iter=20000, momentum=0.9,\n",
       "       nesterovs_momentum=True, power_t=0.5, random_state=31415,\n",
       "       shuffle=True, solver='adam', tol=0.0001, validation_fraction=0.1,\n",
       "       verbose=False, warm_start=False)"
      ]
     },
     "execution_count": 54,
     "metadata": {},
     "output_type": "execute_result"
    }
   ],
   "source": [
    "nn4 = MLPRegressor(solver='adam', alpha=1e-5, hidden_layer_sizes=(128,512), random_state=31415, max_iter=20000)\n",
    "nn4.fit(X_train_s,y_train)"
   ]
  },
  {
   "cell_type": "code",
   "execution_count": 55,
   "metadata": {},
   "outputs": [],
   "source": [
    "y_pred_nn4=nn4.predict(X_test_s)"
   ]
  },
  {
   "cell_type": "code",
   "execution_count": 56,
   "metadata": {},
   "outputs": [
    {
     "name": "stdout",
     "output_type": "stream",
     "text": [
      "MSE: 12.88\n"
     ]
    }
   ],
   "source": [
    "print(\"MSE: %.2f\"% mean_squared_error(y_test, y_pred_nn4))"
   ]
  },
  {
   "cell_type": "markdown",
   "metadata": {},
   "source": [
    "Which model has better performance? Why?"
   ]
  },
  {
   "cell_type": "markdown",
   "metadata": {},
   "source": [
    "El modelo que reporta un mejor desempeño es la red con las variables escaladas y los parámetros proporcionados, esto con un error cuadrático medio de 12.88, considerablemente menor al 25 de la regresión lineal que hasta el momento mostraba el mejor desempeño.\n",
    "Esto se debe a que las variables escaladas mejoran el desempeño del modelo pues ahora los valores de las variables se comportan dentro de rangos similares, se pierde interpretación de las variables, pero se gana asertividad en la predicción, adicionalmente la red Neuronal ganadora tiene dos capas que se acomodan al comportamiento de los datos y mejoran el nivel de predicción del modelo. La red captura relaciones no lineales entre los datos, cosa que no funcionan muy bien con la regresión lineal."
   ]
  }
 ],
 "metadata": {
  "kernelspec": {
   "display_name": "Python 3",
   "language": "python",
   "name": "python3"
  },
  "language_info": {
   "codemirror_mode": {
    "name": "ipython",
    "version": 3
   },
   "file_extension": ".py",
   "mimetype": "text/x-python",
   "name": "python",
   "nbconvert_exporter": "python",
   "pygments_lexer": "ipython3",
   "version": "3.6.4"
  }
 },
 "nbformat": 4,
 "nbformat_minor": 2
}
