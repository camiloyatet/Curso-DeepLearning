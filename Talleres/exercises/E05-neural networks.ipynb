{
 "cells": [
  {
   "cell_type": "markdown",
   "metadata": {},
   "source": [
    "## Exercise 05\n",
    "\n",
    "# Neural networks"
   ]
  },
  {
   "cell_type": "markdown",
   "metadata": {
    "collapsed": true
   },
   "source": [
    "## 4.1 Little Red Riding Hood Network\n",
    "\n",
    "Train a neural network to solve the  Little Red Riding Hood problem in sklern and Keras. Try the neural networ with different inputs and report the results.\n"
   ]
  },
  {
   "cell_type": "markdown",
   "metadata": {},
   "source": [
    "### Usando Scikit Learn"
   ]
  },
  {
   "cell_type": "code",
   "execution_count": 1,
   "metadata": {},
   "outputs": [],
   "source": [
    "import pandas as pd\n",
    "import numpy as np\n",
    "from sklearn.neural_network import MLPClassifier"
   ]
  },
  {
   "cell_type": "code",
   "execution_count": 2,
   "metadata": {},
   "outputs": [],
   "source": [
    "X = np.array ([[1,1,0,0], [0,1,1,0], [0,0,0,1]])"
   ]
  },
  {
   "cell_type": "code",
   "execution_count": 3,
   "metadata": {},
   "outputs": [],
   "source": [
    "y = np.array ([[1,0,0,0], [0,0,1,1], [0,1,1,0]])"
   ]
  },
  {
   "cell_type": "code",
   "execution_count": 4,
   "metadata": {},
   "outputs": [],
   "source": [
    "nn1 = MLPClassifier(solver='adam', alpha=1e-5, hidden_layer_sizes=(3), random_state=31415, max_iter=2500)"
   ]
  },
  {
   "cell_type": "code",
   "execution_count": 5,
   "metadata": {},
   "outputs": [
    {
     "data": {
      "text/plain": [
       "MLPClassifier(activation='relu', alpha=1e-05, batch_size='auto', beta_1=0.9,\n",
       "       beta_2=0.999, early_stopping=False, epsilon=1e-08,\n",
       "       hidden_layer_sizes=3, learning_rate='constant',\n",
       "       learning_rate_init=0.001, max_iter=2500, momentum=0.9,\n",
       "       nesterovs_momentum=True, power_t=0.5, random_state=31415,\n",
       "       shuffle=True, solver='adam', tol=0.0001, validation_fraction=0.1,\n",
       "       verbose=False, warm_start=False)"
      ]
     },
     "execution_count": 5,
     "metadata": {},
     "output_type": "execute_result"
    }
   ],
   "source": [
    "nn1.fit(X, y)"
   ]
  },
  {
   "cell_type": "code",
   "execution_count": 6,
   "metadata": {},
   "outputs": [
    {
     "data": {
      "text/plain": [
       "array([[1, 0, 0, 0],\n",
       "       [0, 0, 1, 1],\n",
       "       [0, 1, 1, 0]])"
      ]
     },
     "execution_count": 6,
     "metadata": {},
     "output_type": "execute_result"
    }
   ],
   "source": [
    "nn1.predict(X)"
   ]
  },
  {
   "cell_type": "code",
   "execution_count": 7,
   "metadata": {},
   "outputs": [
    {
     "data": {
      "text/plain": [
       "<matplotlib.figure.Figure at 0x1e596479ef0>"
      ]
     },
     "metadata": {},
     "output_type": "display_data"
    }
   ],
   "source": [
    "import matplotlib.pyplot as plt\n",
    "\n",
    "plt.ylabel('cost')\n",
    "plt.xlabel('iterations')\n",
    "plt.title(\"Learning rate =\" + str(0.001))\n",
    "plt.plot(nn1.loss_curve_)\n",
    "plt.show()"
   ]
  },
  {
   "cell_type": "markdown",
   "metadata": {},
   "source": [
    "#### Prueba de la red en diferentes escenarios"
   ]
  },
  {
   "cell_type": "markdown",
   "metadata": {},
   "source": [
    "Teniendo en cuenta que solo existen 2 opciones por cada variable, se evaluarán las 16 posibles alternativas:"
   ]
  },
  {
   "cell_type": "code",
   "execution_count": 8,
   "metadata": {},
   "outputs": [],
   "source": [
    "X_test=np.array([[1,1,1,1],[1,1,1,0],[1,1,0,1],[1,1,0,0],[1,0,1,1],[1,0,1,0],[1,0,0,1],[1,0,0,0],\n",
    "                 [0,1,1,1],[0,1,1,0],[0,1,0,1],[0,1,0,0],[0,0,1,1],[0,0,1,0],[0,0,0,1],[0,0,0,0],])\n",
    "y_pred=nn1.predict(X_test)"
   ]
  },
  {
   "cell_type": "code",
   "execution_count": 9,
   "metadata": {},
   "outputs": [
    {
     "data": {
      "text/html": [
       "<div>\n",
       "<style scoped>\n",
       "    .dataframe tbody tr th:only-of-type {\n",
       "        vertical-align: middle;\n",
       "    }\n",
       "\n",
       "    .dataframe tbody tr th {\n",
       "        vertical-align: top;\n",
       "    }\n",
       "\n",
       "    .dataframe thead th {\n",
       "        text-align: right;\n",
       "    }\n",
       "</style>\n",
       "<table border=\"1\" class=\"dataframe\">\n",
       "  <thead>\n",
       "    <tr style=\"text-align: right;\">\n",
       "      <th></th>\n",
       "      <th>Big Ears</th>\n",
       "      <th>Big Teeth</th>\n",
       "      <th>Handsome</th>\n",
       "      <th>Wrinkled</th>\n",
       "      <th>Scream</th>\n",
       "      <th>Hug</th>\n",
       "      <th>Food</th>\n",
       "      <th>Kiss</th>\n",
       "    </tr>\n",
       "  </thead>\n",
       "  <tbody>\n",
       "    <tr>\n",
       "      <th>0</th>\n",
       "      <td>1</td>\n",
       "      <td>1</td>\n",
       "      <td>1</td>\n",
       "      <td>1</td>\n",
       "      <td>0</td>\n",
       "      <td>0</td>\n",
       "      <td>1</td>\n",
       "      <td>0</td>\n",
       "    </tr>\n",
       "    <tr>\n",
       "      <th>1</th>\n",
       "      <td>1</td>\n",
       "      <td>1</td>\n",
       "      <td>1</td>\n",
       "      <td>0</td>\n",
       "      <td>1</td>\n",
       "      <td>0</td>\n",
       "      <td>0</td>\n",
       "      <td>1</td>\n",
       "    </tr>\n",
       "    <tr>\n",
       "      <th>2</th>\n",
       "      <td>1</td>\n",
       "      <td>1</td>\n",
       "      <td>0</td>\n",
       "      <td>1</td>\n",
       "      <td>1</td>\n",
       "      <td>0</td>\n",
       "      <td>0</td>\n",
       "      <td>0</td>\n",
       "    </tr>\n",
       "    <tr>\n",
       "      <th>3</th>\n",
       "      <td>1</td>\n",
       "      <td>1</td>\n",
       "      <td>0</td>\n",
       "      <td>0</td>\n",
       "      <td>1</td>\n",
       "      <td>0</td>\n",
       "      <td>0</td>\n",
       "      <td>0</td>\n",
       "    </tr>\n",
       "    <tr>\n",
       "      <th>4</th>\n",
       "      <td>1</td>\n",
       "      <td>0</td>\n",
       "      <td>1</td>\n",
       "      <td>1</td>\n",
       "      <td>0</td>\n",
       "      <td>1</td>\n",
       "      <td>1</td>\n",
       "      <td>0</td>\n",
       "    </tr>\n",
       "    <tr>\n",
       "      <th>5</th>\n",
       "      <td>1</td>\n",
       "      <td>0</td>\n",
       "      <td>1</td>\n",
       "      <td>0</td>\n",
       "      <td>0</td>\n",
       "      <td>0</td>\n",
       "      <td>1</td>\n",
       "      <td>1</td>\n",
       "    </tr>\n",
       "    <tr>\n",
       "      <th>6</th>\n",
       "      <td>1</td>\n",
       "      <td>0</td>\n",
       "      <td>0</td>\n",
       "      <td>1</td>\n",
       "      <td>0</td>\n",
       "      <td>1</td>\n",
       "      <td>1</td>\n",
       "      <td>0</td>\n",
       "    </tr>\n",
       "    <tr>\n",
       "      <th>7</th>\n",
       "      <td>1</td>\n",
       "      <td>0</td>\n",
       "      <td>0</td>\n",
       "      <td>0</td>\n",
       "      <td>1</td>\n",
       "      <td>0</td>\n",
       "      <td>0</td>\n",
       "      <td>0</td>\n",
       "    </tr>\n",
       "    <tr>\n",
       "      <th>8</th>\n",
       "      <td>0</td>\n",
       "      <td>1</td>\n",
       "      <td>1</td>\n",
       "      <td>1</td>\n",
       "      <td>0</td>\n",
       "      <td>0</td>\n",
       "      <td>1</td>\n",
       "      <td>1</td>\n",
       "    </tr>\n",
       "    <tr>\n",
       "      <th>9</th>\n",
       "      <td>0</td>\n",
       "      <td>1</td>\n",
       "      <td>1</td>\n",
       "      <td>0</td>\n",
       "      <td>0</td>\n",
       "      <td>0</td>\n",
       "      <td>1</td>\n",
       "      <td>1</td>\n",
       "    </tr>\n",
       "    <tr>\n",
       "      <th>10</th>\n",
       "      <td>0</td>\n",
       "      <td>1</td>\n",
       "      <td>0</td>\n",
       "      <td>1</td>\n",
       "      <td>0</td>\n",
       "      <td>0</td>\n",
       "      <td>1</td>\n",
       "      <td>0</td>\n",
       "    </tr>\n",
       "    <tr>\n",
       "      <th>11</th>\n",
       "      <td>0</td>\n",
       "      <td>1</td>\n",
       "      <td>0</td>\n",
       "      <td>0</td>\n",
       "      <td>0</td>\n",
       "      <td>0</td>\n",
       "      <td>1</td>\n",
       "      <td>0</td>\n",
       "    </tr>\n",
       "    <tr>\n",
       "      <th>12</th>\n",
       "      <td>0</td>\n",
       "      <td>0</td>\n",
       "      <td>1</td>\n",
       "      <td>1</td>\n",
       "      <td>0</td>\n",
       "      <td>1</td>\n",
       "      <td>1</td>\n",
       "      <td>0</td>\n",
       "    </tr>\n",
       "    <tr>\n",
       "      <th>13</th>\n",
       "      <td>0</td>\n",
       "      <td>0</td>\n",
       "      <td>1</td>\n",
       "      <td>0</td>\n",
       "      <td>0</td>\n",
       "      <td>0</td>\n",
       "      <td>1</td>\n",
       "      <td>1</td>\n",
       "    </tr>\n",
       "    <tr>\n",
       "      <th>14</th>\n",
       "      <td>0</td>\n",
       "      <td>0</td>\n",
       "      <td>0</td>\n",
       "      <td>1</td>\n",
       "      <td>0</td>\n",
       "      <td>1</td>\n",
       "      <td>1</td>\n",
       "      <td>0</td>\n",
       "    </tr>\n",
       "    <tr>\n",
       "      <th>15</th>\n",
       "      <td>0</td>\n",
       "      <td>0</td>\n",
       "      <td>0</td>\n",
       "      <td>0</td>\n",
       "      <td>0</td>\n",
       "      <td>1</td>\n",
       "      <td>1</td>\n",
       "      <td>0</td>\n",
       "    </tr>\n",
       "  </tbody>\n",
       "</table>\n",
       "</div>"
      ],
      "text/plain": [
       "    Big Ears  Big Teeth  Handsome  Wrinkled  Scream  Hug  Food  Kiss\n",
       "0          1          1         1         1       0    0     1     0\n",
       "1          1          1         1         0       1    0     0     1\n",
       "2          1          1         0         1       1    0     0     0\n",
       "3          1          1         0         0       1    0     0     0\n",
       "4          1          0         1         1       0    1     1     0\n",
       "5          1          0         1         0       0    0     1     1\n",
       "6          1          0         0         1       0    1     1     0\n",
       "7          1          0         0         0       1    0     0     0\n",
       "8          0          1         1         1       0    0     1     1\n",
       "9          0          1         1         0       0    0     1     1\n",
       "10         0          1         0         1       0    0     1     0\n",
       "11         0          1         0         0       0    0     1     0\n",
       "12         0          0         1         1       0    1     1     0\n",
       "13         0          0         1         0       0    0     1     1\n",
       "14         0          0         0         1       0    1     1     0\n",
       "15         0          0         0         0       0    1     1     0"
      ]
     },
     "execution_count": 9,
     "metadata": {},
     "output_type": "execute_result"
    }
   ],
   "source": [
    "Try_nn1=pd.DataFrame(np.concatenate((X_test,y_pred),axis=1),\n",
    "             columns=['Big Ears', 'Big Teeth', 'Handsome', 'Wrinkled', 'Scream', 'Hug','Food','Kiss'])\n",
    "Try_nn1"
   ]
  },
  {
   "cell_type": "markdown",
   "metadata": {},
   "source": [
    "A partir de todas las posibles opciones se opuede notar que la respuesta más frecuente será ofrecer comida (75% de las veces), seguidas por besar y abrazar (30% de las veces) mientars que gritar es el resultdo menos frecuento con solo el 25% de las veces."
   ]
  },
  {
   "cell_type": "markdown",
   "metadata": {},
   "source": [
    "### Usando Keras"
   ]
  },
  {
   "cell_type": "code",
   "execution_count": 10,
   "metadata": {},
   "outputs": [],
   "source": [
    "import pandas as pd\n",
    "import numpy as np\n",
    "X = np.array ([[1,1,0,0], [0,1,1,0], [0,0,0,1]])\n",
    "y = np.array ([[1,0,0,0], [0,0,1,1], [0,1,1,0]])"
   ]
  },
  {
   "cell_type": "code",
   "execution_count": 11,
   "metadata": {
    "scrolled": true
   },
   "outputs": [
    {
     "name": "stderr",
     "output_type": "stream",
     "text": [
      "C:\\Anaconda3\\lib\\site-packages\\h5py\\__init__.py:36: FutureWarning: Conversion of the second argument of issubdtype from `float` to `np.floating` is deprecated. In future, it will be treated as `np.float64 == np.dtype(float).type`.\n",
      "  from ._conv import register_converters as _register_converters\n",
      "Using TensorFlow backend.\n"
     ]
    }
   ],
   "source": [
    "from keras.models import Sequential\n",
    "from keras.layers.core import Dense"
   ]
  },
  {
   "cell_type": "markdown",
   "metadata": {},
   "source": [
    "#### Variación del número de neuronas "
   ]
  },
  {
   "cell_type": "code",
   "execution_count": 12,
   "metadata": {
    "collapsed": true
   },
   "outputs": [
    {
     "name": "stdout",
     "output_type": "stream",
     "text": [
      "3/3 [==============================] - 0s 19ms/step\n",
      "3/3 [==============================] - 0s 20ms/step\n",
      "3/3 [==============================] - 0s 31ms/step\n",
      "3/3 [==============================] - 0s 34ms/step\n",
      "3/3 [==============================] - 0s 45ms/step\n",
      "3/3 [==============================] - 0s 44ms/step\n",
      "3/3 [==============================] - 0s 50ms/step\n",
      "3/3 [==============================] - 0s 60ms/step\n",
      "3/3 [==============================] - 0s 56ms/step\n",
      "3/3 [==============================] - 0s 75ms/step\n",
      "3/3 [==============================] - 0s 94ms/step\n",
      "3/3 [==============================] - 1s 231ms/step\n",
      "3/3 [==============================] - 0s 161ms/step\n",
      "3/3 [==============================] - 0s 130ms/step\n",
      "3/3 [==============================] - 1s 169ms/step\n",
      "3/3 [==============================] - 0s 133ms/step\n",
      "3/3 [==============================] - 0s 139ms/step\n",
      "3/3 [==============================] - 0s 129ms/step\n",
      "3/3 [==============================] - 0s 152ms/step\n",
      "3/3 [==============================] - 0s 143ms/step\n",
      "3/3 [==============================] - 1s 174ms/step\n",
      "3/3 [==============================] - 0s 156ms/step\n",
      "3/3 [==============================] - 0s 163ms/step\n",
      "3/3 [==============================] - 1s 177ms/step\n",
      "3/3 [==============================] - 1s 177ms/step\n",
      "3/3 [==============================] - 1s 208ms/step\n",
      "3/3 [==============================] - 1s 174ms/step\n",
      "3/3 [==============================] - 0s 167ms/step\n",
      "3/3 [==============================] - 1s 188ms/step\n",
      "3/3 [==============================] - 1s 177ms/step\n",
      "3/3 [==============================] - 1s 224ms/step\n",
      "3/3 [==============================] - 1s 204ms/step\n",
      "3/3 [==============================] - 1s 262ms/step\n",
      "3/3 [==============================] - 1s 205ms/step\n",
      "3/3 [==============================] - 1s 213ms/step\n",
      "3/3 [==============================] - 1s 210ms/step\n",
      "3/3 [==============================] - 1s 219ms/step\n",
      "3/3 [==============================] - 1s 228ms/step\n",
      "3/3 [==============================] - 1s 232ms/step\n",
      "3/3 [==============================] - 1s 275ms/step\n",
      "3/3 [==============================] - 1s 239ms/step\n",
      "3/3 [==============================] - 1s 267ms/step\n",
      "3/3 [==============================] - 1s 258ms/step\n",
      "3/3 [==============================] - 1s 312ms/step\n",
      "3/3 [==============================] - 1s 272ms/step\n",
      "3/3 [==============================] - 1s 275ms/step\n",
      "3/3 [==============================] - 1s 282ms/step\n",
      "3/3 [==============================] - 1s 435ms/step\n",
      "3/3 [==============================] - 1s 313ms/step\n",
      "3/3 [==============================] - 1s 303ms/step\n",
      "3/3 [==============================] - 1s 340ms/step\n",
      "3/3 [==============================] - 1s 312ms/step\n",
      "3/3 [==============================] - 1s 305ms/step\n",
      "3/3 [==============================] - 1s 324ms/step\n",
      "3/3 [==============================] - 1s 334ms/step\n",
      "3/3 [==============================] - 1s 336ms/step\n",
      "3/3 [==============================] - 1s 382ms/step\n",
      "3/3 [==============================] - 1s 406ms/step\n",
      "3/3 [==============================] - 1s 342ms/step\n",
      "3/3 [==============================] - 1s 372ms/step\n",
      "3/3 [==============================] - 1s 399ms/step\n",
      "3/3 [==============================] - 1s 370ms/step\n",
      "3/3 [==============================] - 1s 372ms/step\n",
      "3/3 [==============================] - 1s 374ms/step\n",
      "3/3 [==============================] - 1s 382ms/step\n",
      "3/3 [==============================] - 1s 392ms/step\n",
      "3/3 [==============================] - 1s 388ms/step\n",
      "3/3 [==============================] - 1s 413ms/step\n",
      "3/3 [==============================] - 1s 469ms/step\n",
      "3/3 [==============================] - 1s 483ms/step\n",
      "3/3 [==============================] - 1s 420ms/step\n",
      "3/3 [==============================] - 1s 494ms/step\n",
      "3/3 [==============================] - 2s 516ms/step\n",
      "3/3 [==============================] - 1s 434ms/step\n",
      "3/3 [==============================] - 1s 452ms/step\n",
      "3/3 [==============================] - 1s 470ms/step\n",
      "3/3 [==============================] - 1s 456ms/step\n",
      "3/3 [==============================] - 1s 458ms/step\n",
      "3/3 [==============================] - 1s 473ms/step\n",
      "3/3 [==============================] - 1s 491ms/step\n",
      "3/3 [==============================] - 2s 590ms/step\n",
      "3/3 [==============================] - 2s 555ms/step\n",
      "3/3 [==============================] - 1s 494ms/step\n",
      "3/3 [==============================] - 2s 501ms/step\n",
      "3/3 [==============================] - 2s 506ms/step\n",
      "3/3 [==============================] - 2s 604ms/step\n",
      "3/3 [==============================] - 2s 525ms/step\n",
      "3/3 [==============================] - 2s 607ms/step\n",
      "3/3 [==============================] - 2s 548ms/step\n",
      "3/3 [==============================] - 2s 545ms/step\n",
      "3/3 [==============================] - 2s 657ms/step\n",
      "3/3 [==============================] - 2s 569ms/step\n",
      "3/3 [==============================] - 2s 584ms/step\n",
      "3/3 [==============================] - 2s 576ms/step\n",
      "3/3 [==============================] - 2s 683ms/step\n",
      "3/3 [==============================] - 2s 603ms/step\n",
      "3/3 [==============================] - 2s 656ms/step\n",
      "3/3 [==============================] - 2s 598ms/step\n",
      "3/3 [==============================] - 2s 624ms/step\n",
      "3/3 [==============================] - 2s 606ms/step\n"
     ]
    }
   ],
   "source": [
    "res=[]\n",
    "n_neu=[]\n",
    "for i in range(1,101):\n",
    "    n_neu.append(i)\n",
    "    nn2 = Sequential()\n",
    "    nn2.add(Dense(i, input_dim=4, activation='relu'))\n",
    "    nn2.add(Dense(4, activation='sigmoid'))\n",
    "    \n",
    "    nn2.compile(loss='mean_squared_error',\n",
    "              optimizer='adam',\n",
    "              metrics=['binary_accuracy'])\n",
    "    \n",
    "    nn2.fit(X, y, epochs=100, verbose=0)\n",
    "    \n",
    "    scores = nn2.evaluate(X, y)\n",
    "    \n",
    "    res.append(scores[1])"
   ]
  },
  {
   "cell_type": "markdown",
   "metadata": {},
   "source": [
    "#### Gráfico de Cambio en Accuracy según el aumento en las neuronas."
   ]
  },
  {
   "cell_type": "code",
   "execution_count": 13,
   "metadata": {},
   "outputs": [
    {
     "data": {
      "image/png": "[encoded data removed]",
      "text/plain": [
       "<matplotlib.figure.Figure at 0x1e5981b7f28>"
      ]
     },
     "metadata": {},
     "output_type": "display_data"
    }
   ],
   "source": [
    "import matplotlib.pyplot as plt\n",
    "plt.style.use('seaborn-whitegrid')\n",
    "fig = plt.figure()\n",
    "ax = plt.axes()\n",
    "plt.title(\"Ganancia en Accuracy\")\n",
    "plt.xlabel(\"Número de Neuronas\")\n",
    "plt.ylabel(\"Accuracy\")\n",
    "plt.plot(n_neu, res)\n",
    "plt.show()"
   ]
  },
  {
   "cell_type": "markdown",
   "metadata": {},
   "source": [
    "Se seleccionarán 40 neuronas densamente conectadas."
   ]
  },
  {
   "cell_type": "markdown",
   "metadata": {},
   "source": [
    "#### Entrenamiento de la red Final"
   ]
  },
  {
   "cell_type": "code",
   "execution_count": 14,
   "metadata": {},
   "outputs": [],
   "source": [
    "nn2 = Sequential()\n",
    "nn2.add(Dense(40, input_dim=4, activation='relu'))\n",
    "nn2.add(Dense(4, activation='sigmoid'))"
   ]
  },
  {
   "cell_type": "code",
   "execution_count": 15,
   "metadata": {},
   "outputs": [],
   "source": [
    "nn2.compile(loss='mean_squared_error',\n",
    "              optimizer='adam',\n",
    "              metrics=['binary_accuracy'])"
   ]
  },
  {
   "cell_type": "code",
   "execution_count": 16,
   "metadata": {
    "collapsed": true
   },
   "outputs": [
    {
     "name": "stdout",
     "output_type": "stream",
     "text": [
      "Epoch 1/100\n",
      " - 4s - loss: 0.2617 - binary_accuracy: 0.4167\n",
      "Epoch 2/100\n",
      " - 0s - loss: 0.2604 - binary_accuracy: 0.4167\n",
      "Epoch 3/100\n",
      " - 0s - loss: 0.2586 - binary_accuracy: 0.4167\n",
      "Epoch 4/100\n",
      " - 0s - loss: 0.2569 - binary_accuracy: 0.4167\n",
      "Epoch 5/100\n",
      " - 0s - loss: 0.2552 - binary_accuracy: 0.5000\n",
      "Epoch 6/100\n",
      " - 0s - loss: 0.2534 - binary_accuracy: 0.5000\n",
      "Epoch 7/100\n",
      " - 0s - loss: 0.2517 - binary_accuracy: 0.5000\n",
      "Epoch 8/100\n",
      " - 0s - loss: 0.2500 - binary_accuracy: 0.5000\n",
      "Epoch 9/100\n",
      " - 0s - loss: 0.2483 - binary_accuracy: 0.5000\n",
      "Epoch 10/100\n",
      " - 0s - loss: 0.2466 - binary_accuracy: 0.5000\n",
      "Epoch 11/100\n",
      " - 0s - loss: 0.2449 - binary_accuracy: 0.5000\n",
      "Epoch 12/100\n",
      " - 0s - loss: 0.2433 - binary_accuracy: 0.5000\n",
      "Epoch 13/100\n",
      " - 0s - loss: 0.2416 - binary_accuracy: 0.5000\n",
      "Epoch 14/100\n",
      " - 0s - loss: 0.2400 - binary_accuracy: 0.5000\n",
      "Epoch 15/100\n",
      " - 0s - loss: 0.2383 - binary_accuracy: 0.5833\n",
      "Epoch 16/100\n",
      " - 0s - loss: 0.2367 - binary_accuracy: 0.5833\n",
      "Epoch 17/100\n",
      " - 0s - loss: 0.2350 - binary_accuracy: 0.5833\n",
      "Epoch 18/100\n",
      " - 0s - loss: 0.2334 - binary_accuracy: 0.5833\n",
      "Epoch 19/100\n",
      " - 0s - loss: 0.2317 - binary_accuracy: 0.5833\n",
      "Epoch 20/100\n",
      " - 0s - loss: 0.2301 - binary_accuracy: 0.5833\n",
      "Epoch 21/100\n",
      " - 0s - loss: 0.2285 - binary_accuracy: 0.5833\n",
      "Epoch 22/100\n",
      " - 0s - loss: 0.2269 - binary_accuracy: 0.5833\n",
      "Epoch 23/100\n",
      " - 0s - loss: 0.2252 - binary_accuracy: 0.5833\n",
      "Epoch 24/100\n",
      " - 0s - loss: 0.2236 - binary_accuracy: 0.5833\n",
      "Epoch 25/100\n",
      " - 0s - loss: 0.2221 - binary_accuracy: 0.5833\n",
      "Epoch 26/100\n",
      " - 0s - loss: 0.2205 - binary_accuracy: 0.5833\n",
      "Epoch 27/100\n",
      " - 0s - loss: 0.2189 - binary_accuracy: 0.5833\n",
      "Epoch 28/100\n",
      " - 0s - loss: 0.2173 - binary_accuracy: 0.5833\n",
      "Epoch 29/100\n",
      " - 0s - loss: 0.2158 - binary_accuracy: 0.5833\n",
      "Epoch 30/100\n",
      " - 0s - loss: 0.2142 - binary_accuracy: 0.5833\n",
      "Epoch 31/100\n",
      " - 0s - loss: 0.2126 - binary_accuracy: 0.5833\n",
      "Epoch 32/100\n",
      " - 0s - loss: 0.2111 - binary_accuracy: 0.5833\n",
      "Epoch 33/100\n",
      " - 0s - loss: 0.2095 - binary_accuracy: 0.5833\n",
      "Epoch 34/100\n",
      " - 0s - loss: 0.2080 - binary_accuracy: 0.6667\n",
      "Epoch 35/100\n",
      " - 0s - loss: 0.2064 - binary_accuracy: 0.7500\n",
      "Epoch 36/100\n",
      " - 0s - loss: 0.2049 - binary_accuracy: 0.7500\n",
      "Epoch 37/100\n",
      " - 0s - loss: 0.2033 - binary_accuracy: 0.8333\n",
      "Epoch 38/100\n",
      " - 0s - loss: 0.2018 - binary_accuracy: 0.8333\n",
      "Epoch 39/100\n",
      " - 0s - loss: 0.2003 - binary_accuracy: 0.8333\n",
      "Epoch 40/100\n",
      " - 0s - loss: 0.1987 - binary_accuracy: 0.9167\n",
      "Epoch 41/100\n",
      " - 0s - loss: 0.1972 - binary_accuracy: 0.9167\n",
      "Epoch 42/100\n",
      " - 0s - loss: 0.1957 - binary_accuracy: 0.9167\n",
      "Epoch 43/100\n",
      " - 0s - loss: 0.1942 - binary_accuracy: 0.9167\n",
      "Epoch 44/100\n",
      " - 0s - loss: 0.1927 - binary_accuracy: 0.9167\n",
      "Epoch 45/100\n",
      " - 0s - loss: 0.1911 - binary_accuracy: 0.9167\n",
      "Epoch 46/100\n",
      " - 0s - loss: 0.1896 - binary_accuracy: 0.9167\n",
      "Epoch 47/100\n",
      " - 0s - loss: 0.1881 - binary_accuracy: 0.9167\n",
      "Epoch 48/100\n",
      " - 0s - loss: 0.1866 - binary_accuracy: 0.9167\n",
      "Epoch 49/100\n",
      " - 0s - loss: 0.1851 - binary_accuracy: 0.9167\n",
      "Epoch 50/100\n",
      " - 0s - loss: 0.1836 - binary_accuracy: 0.9167\n",
      "Epoch 51/100\n",
      " - 0s - loss: 0.1822 - binary_accuracy: 0.9167\n",
      "Epoch 52/100\n",
      " - 0s - loss: 0.1807 - binary_accuracy: 1.0000\n",
      "Epoch 53/100\n",
      " - 0s - loss: 0.1792 - binary_accuracy: 1.0000\n",
      "Epoch 54/100\n",
      " - 0s - loss: 0.1778 - binary_accuracy: 1.0000\n",
      "Epoch 55/100\n",
      " - 0s - loss: 0.1763 - binary_accuracy: 1.0000\n",
      "Epoch 56/100\n",
      " - 0s - loss: 0.1748 - binary_accuracy: 1.0000\n",
      "Epoch 57/100\n",
      " - 0s - loss: 0.1734 - binary_accuracy: 1.0000\n",
      "Epoch 58/100\n",
      " - 0s - loss: 0.1719 - binary_accuracy: 1.0000\n",
      "Epoch 59/100\n",
      " - 0s - loss: 0.1705 - binary_accuracy: 1.0000\n",
      "Epoch 60/100\n",
      " - 0s - loss: 0.1691 - binary_accuracy: 1.0000\n",
      "Epoch 61/100\n",
      " - 0s - loss: 0.1677 - binary_accuracy: 1.0000\n",
      "Epoch 62/100\n",
      " - 0s - loss: 0.1662 - binary_accuracy: 1.0000\n",
      "Epoch 63/100\n",
      " - 0s - loss: 0.1648 - binary_accuracy: 1.0000\n",
      "Epoch 64/100\n",
      " - 0s - loss: 0.1634 - binary_accuracy: 1.0000\n",
      "Epoch 65/100\n",
      " - 0s - loss: 0.1620 - binary_accuracy: 1.0000\n",
      "Epoch 66/100\n",
      " - 0s - loss: 0.1606 - binary_accuracy: 1.0000\n",
      "Epoch 67/100\n",
      " - 0s - loss: 0.1592 - binary_accuracy: 1.0000\n",
      "Epoch 68/100\n",
      " - 0s - loss: 0.1578 - binary_accuracy: 1.0000\n",
      "Epoch 69/100\n",
      " - 0s - loss: 0.1564 - binary_accuracy: 1.0000\n",
      "Epoch 70/100\n",
      " - 0s - loss: 0.1550 - binary_accuracy: 1.0000\n",
      "Epoch 71/100\n",
      " - 0s - loss: 0.1536 - binary_accuracy: 1.0000\n",
      "Epoch 72/100\n",
      " - 0s - loss: 0.1522 - binary_accuracy: 1.0000\n",
      "Epoch 73/100\n",
      " - 0s - loss: 0.1508 - binary_accuracy: 1.0000\n",
      "Epoch 74/100\n",
      " - 0s - loss: 0.1494 - binary_accuracy: 1.0000\n",
      "Epoch 75/100\n",
      " - 0s - loss: 0.1480 - binary_accuracy: 1.0000\n",
      "Epoch 76/100\n",
      " - 0s - loss: 0.1467 - binary_accuracy: 1.0000\n",
      "Epoch 77/100\n",
      " - 0s - loss: 0.1453 - binary_accuracy: 1.0000\n",
      "Epoch 78/100\n",
      " - 0s - loss: 0.1439 - binary_accuracy: 1.0000\n",
      "Epoch 79/100\n",
      " - 0s - loss: 0.1426 - binary_accuracy: 1.0000\n",
      "Epoch 80/100\n",
      " - 0s - loss: 0.1412 - binary_accuracy: 1.0000\n",
      "Epoch 81/100\n",
      " - 0s - loss: 0.1399 - binary_accuracy: 1.0000\n",
      "Epoch 82/100\n",
      " - 0s - loss: 0.1385 - binary_accuracy: 1.0000\n",
      "Epoch 83/100\n",
      " - 0s - loss: 0.1372 - binary_accuracy: 1.0000\n",
      "Epoch 84/100\n",
      " - 0s - loss: 0.1359 - binary_accuracy: 1.0000\n",
      "Epoch 85/100\n",
      " - 0s - loss: 0.1346 - binary_accuracy: 1.0000\n",
      "Epoch 86/100\n",
      " - 0s - loss: 0.1333 - binary_accuracy: 1.0000\n",
      "Epoch 87/100\n",
      " - 0s - loss: 0.1320 - binary_accuracy: 1.0000\n",
      "Epoch 88/100\n",
      " - 0s - loss: 0.1307 - binary_accuracy: 1.0000\n",
      "Epoch 89/100\n",
      " - 0s - loss: 0.1294 - binary_accuracy: 1.0000\n",
      "Epoch 90/100\n",
      " - 0s - loss: 0.1281 - binary_accuracy: 1.0000\n",
      "Epoch 91/100\n",
      " - 0s - loss: 0.1268 - binary_accuracy: 1.0000\n",
      "Epoch 92/100\n",
      " - 0s - loss: 0.1255 - binary_accuracy: 1.0000\n",
      "Epoch 93/100\n",
      " - 0s - loss: 0.1242 - binary_accuracy: 1.0000\n",
      "Epoch 94/100\n",
      " - 0s - loss: 0.1230 - binary_accuracy: 1.0000\n",
      "Epoch 95/100\n",
      " - 0s - loss: 0.1217 - binary_accuracy: 1.0000\n",
      "Epoch 96/100\n",
      " - 0s - loss: 0.1205 - binary_accuracy: 1.0000\n",
      "Epoch 97/100\n",
      " - 0s - loss: 0.1192 - binary_accuracy: 1.0000\n",
      "Epoch 98/100\n",
      " - 0s - loss: 0.1180 - binary_accuracy: 1.0000\n",
      "Epoch 99/100\n",
      " - 0s - loss: 0.1168 - binary_accuracy: 1.0000\n",
      "Epoch 100/100\n",
      " - 0s - loss: 0.1155 - binary_accuracy: 1.0000\n"
     ]
    },
    {
     "data": {
      "text/plain": [
       "<keras.callbacks.History at 0x1e59bc3c550>"
      ]
     },
     "execution_count": 16,
     "metadata": {},
     "output_type": "execute_result"
    }
   ],
   "source": [
    "nn2.fit(X, y, epochs=100, verbose=2)"
   ]
  },
  {
   "cell_type": "code",
   "execution_count": 17,
   "metadata": {},
   "outputs": [
    {
     "name": "stdout",
     "output_type": "stream",
     "text": [
      "3/3 [==============================] - 2s 655ms/step\n",
      "('binary_accuracy', 100.0)\n",
      "[[1. 0. 0. 0.]\n",
      " [0. 0. 1. 1.]\n",
      " [0. 1. 1. 0.]]\n"
     ]
    }
   ],
   "source": [
    "scores = nn2.evaluate(X, y)\n",
    "print((nn2.metrics_names[1], scores[1]*100))\n",
    "print (nn2.predict(X).round())"
   ]
  },
  {
   "cell_type": "markdown",
   "metadata": {},
   "source": [
    "#### Prueba de la red en diferentes escenarios"
   ]
  },
  {
   "cell_type": "code",
   "execution_count": 18,
   "metadata": {},
   "outputs": [],
   "source": [
    "X_test=np.array([[1,1,1,1],[1,1,1,0],[1,1,0,1],[1,1,0,0],[1,0,1,1],[1,0,1,0],[1,0,0,1],[1,0,0,0],\n",
    "                 [0,1,1,1],[0,1,1,0],[0,1,0,1],[0,1,0,0],[0,0,1,1],[0,0,1,0],[0,0,0,1],[0,0,0,0],])"
   ]
  },
  {
   "cell_type": "code",
   "execution_count": 19,
   "metadata": {},
   "outputs": [],
   "source": [
    "y_pred_nn2=nn2.predict(X_test).round(0)"
   ]
  },
  {
   "cell_type": "code",
   "execution_count": 20,
   "metadata": {},
   "outputs": [
    {
     "data": {
      "text/html": [
       "<div>\n",
       "<style scoped>\n",
       "    .dataframe tbody tr th:only-of-type {\n",
       "        vertical-align: middle;\n",
       "    }\n",
       "\n",
       "    .dataframe tbody tr th {\n",
       "        vertical-align: top;\n",
       "    }\n",
       "\n",
       "    .dataframe thead th {\n",
       "        text-align: right;\n",
       "    }\n",
       "</style>\n",
       "<table border=\"1\" class=\"dataframe\">\n",
       "  <thead>\n",
       "    <tr style=\"text-align: right;\">\n",
       "      <th></th>\n",
       "      <th>Big Ears</th>\n",
       "      <th>Big Teeth</th>\n",
       "      <th>Handsome</th>\n",
       "      <th>Wrinkled</th>\n",
       "      <th>Scream</th>\n",
       "      <th>Hug</th>\n",
       "      <th>Food</th>\n",
       "      <th>Kiss</th>\n",
       "    </tr>\n",
       "  </thead>\n",
       "  <tbody>\n",
       "    <tr>\n",
       "      <th>0</th>\n",
       "      <td>1.0</td>\n",
       "      <td>1.0</td>\n",
       "      <td>1.0</td>\n",
       "      <td>1.0</td>\n",
       "      <td>0.0</td>\n",
       "      <td>0.0</td>\n",
       "      <td>1.0</td>\n",
       "      <td>0.0</td>\n",
       "    </tr>\n",
       "    <tr>\n",
       "      <th>1</th>\n",
       "      <td>1.0</td>\n",
       "      <td>1.0</td>\n",
       "      <td>1.0</td>\n",
       "      <td>0.0</td>\n",
       "      <td>1.0</td>\n",
       "      <td>0.0</td>\n",
       "      <td>1.0</td>\n",
       "      <td>0.0</td>\n",
       "    </tr>\n",
       "    <tr>\n",
       "      <th>2</th>\n",
       "      <td>1.0</td>\n",
       "      <td>1.0</td>\n",
       "      <td>0.0</td>\n",
       "      <td>1.0</td>\n",
       "      <td>0.0</td>\n",
       "      <td>0.0</td>\n",
       "      <td>1.0</td>\n",
       "      <td>0.0</td>\n",
       "    </tr>\n",
       "    <tr>\n",
       "      <th>3</th>\n",
       "      <td>1.0</td>\n",
       "      <td>1.0</td>\n",
       "      <td>0.0</td>\n",
       "      <td>0.0</td>\n",
       "      <td>1.0</td>\n",
       "      <td>0.0</td>\n",
       "      <td>0.0</td>\n",
       "      <td>0.0</td>\n",
       "    </tr>\n",
       "    <tr>\n",
       "      <th>4</th>\n",
       "      <td>1.0</td>\n",
       "      <td>0.0</td>\n",
       "      <td>1.0</td>\n",
       "      <td>1.0</td>\n",
       "      <td>0.0</td>\n",
       "      <td>0.0</td>\n",
       "      <td>1.0</td>\n",
       "      <td>0.0</td>\n",
       "    </tr>\n",
       "    <tr>\n",
       "      <th>5</th>\n",
       "      <td>1.0</td>\n",
       "      <td>0.0</td>\n",
       "      <td>1.0</td>\n",
       "      <td>0.0</td>\n",
       "      <td>1.0</td>\n",
       "      <td>0.0</td>\n",
       "      <td>1.0</td>\n",
       "      <td>0.0</td>\n",
       "    </tr>\n",
       "    <tr>\n",
       "      <th>6</th>\n",
       "      <td>1.0</td>\n",
       "      <td>0.0</td>\n",
       "      <td>0.0</td>\n",
       "      <td>1.0</td>\n",
       "      <td>0.0</td>\n",
       "      <td>1.0</td>\n",
       "      <td>1.0</td>\n",
       "      <td>0.0</td>\n",
       "    </tr>\n",
       "    <tr>\n",
       "      <th>7</th>\n",
       "      <td>1.0</td>\n",
       "      <td>0.0</td>\n",
       "      <td>0.0</td>\n",
       "      <td>0.0</td>\n",
       "      <td>1.0</td>\n",
       "      <td>0.0</td>\n",
       "      <td>0.0</td>\n",
       "      <td>0.0</td>\n",
       "    </tr>\n",
       "    <tr>\n",
       "      <th>8</th>\n",
       "      <td>0.0</td>\n",
       "      <td>1.0</td>\n",
       "      <td>1.0</td>\n",
       "      <td>1.0</td>\n",
       "      <td>0.0</td>\n",
       "      <td>0.0</td>\n",
       "      <td>1.0</td>\n",
       "      <td>1.0</td>\n",
       "    </tr>\n",
       "    <tr>\n",
       "      <th>9</th>\n",
       "      <td>0.0</td>\n",
       "      <td>1.0</td>\n",
       "      <td>1.0</td>\n",
       "      <td>0.0</td>\n",
       "      <td>0.0</td>\n",
       "      <td>0.0</td>\n",
       "      <td>1.0</td>\n",
       "      <td>1.0</td>\n",
       "    </tr>\n",
       "    <tr>\n",
       "      <th>10</th>\n",
       "      <td>0.0</td>\n",
       "      <td>1.0</td>\n",
       "      <td>0.0</td>\n",
       "      <td>1.0</td>\n",
       "      <td>0.0</td>\n",
       "      <td>1.0</td>\n",
       "      <td>1.0</td>\n",
       "      <td>0.0</td>\n",
       "    </tr>\n",
       "    <tr>\n",
       "      <th>11</th>\n",
       "      <td>0.0</td>\n",
       "      <td>1.0</td>\n",
       "      <td>0.0</td>\n",
       "      <td>0.0</td>\n",
       "      <td>1.0</td>\n",
       "      <td>0.0</td>\n",
       "      <td>1.0</td>\n",
       "      <td>0.0</td>\n",
       "    </tr>\n",
       "    <tr>\n",
       "      <th>12</th>\n",
       "      <td>0.0</td>\n",
       "      <td>0.0</td>\n",
       "      <td>1.0</td>\n",
       "      <td>1.0</td>\n",
       "      <td>0.0</td>\n",
       "      <td>0.0</td>\n",
       "      <td>1.0</td>\n",
       "      <td>0.0</td>\n",
       "    </tr>\n",
       "    <tr>\n",
       "      <th>13</th>\n",
       "      <td>0.0</td>\n",
       "      <td>0.0</td>\n",
       "      <td>1.0</td>\n",
       "      <td>0.0</td>\n",
       "      <td>0.0</td>\n",
       "      <td>0.0</td>\n",
       "      <td>1.0</td>\n",
       "      <td>1.0</td>\n",
       "    </tr>\n",
       "    <tr>\n",
       "      <th>14</th>\n",
       "      <td>0.0</td>\n",
       "      <td>0.0</td>\n",
       "      <td>0.0</td>\n",
       "      <td>1.0</td>\n",
       "      <td>0.0</td>\n",
       "      <td>1.0</td>\n",
       "      <td>1.0</td>\n",
       "      <td>0.0</td>\n",
       "    </tr>\n",
       "    <tr>\n",
       "      <th>15</th>\n",
       "      <td>0.0</td>\n",
       "      <td>0.0</td>\n",
       "      <td>0.0</td>\n",
       "      <td>0.0</td>\n",
       "      <td>0.0</td>\n",
       "      <td>0.0</td>\n",
       "      <td>1.0</td>\n",
       "      <td>0.0</td>\n",
       "    </tr>\n",
       "  </tbody>\n",
       "</table>\n",
       "</div>"
      ],
      "text/plain": [
       "    Big Ears  Big Teeth  Handsome  Wrinkled  Scream  Hug  Food  Kiss\n",
       "0        1.0        1.0       1.0       1.0     0.0  0.0   1.0   0.0\n",
       "1        1.0        1.0       1.0       0.0     1.0  0.0   1.0   0.0\n",
       "2        1.0        1.0       0.0       1.0     0.0  0.0   1.0   0.0\n",
       "3        1.0        1.0       0.0       0.0     1.0  0.0   0.0   0.0\n",
       "4        1.0        0.0       1.0       1.0     0.0  0.0   1.0   0.0\n",
       "5        1.0        0.0       1.0       0.0     1.0  0.0   1.0   0.0\n",
       "6        1.0        0.0       0.0       1.0     0.0  1.0   1.0   0.0\n",
       "7        1.0        0.0       0.0       0.0     1.0  0.0   0.0   0.0\n",
       "8        0.0        1.0       1.0       1.0     0.0  0.0   1.0   1.0\n",
       "9        0.0        1.0       1.0       0.0     0.0  0.0   1.0   1.0\n",
       "10       0.0        1.0       0.0       1.0     0.0  1.0   1.0   0.0\n",
       "11       0.0        1.0       0.0       0.0     1.0  0.0   1.0   0.0\n",
       "12       0.0        0.0       1.0       1.0     0.0  0.0   1.0   0.0\n",
       "13       0.0        0.0       1.0       0.0     0.0  0.0   1.0   1.0\n",
       "14       0.0        0.0       0.0       1.0     0.0  1.0   1.0   0.0\n",
       "15       0.0        0.0       0.0       0.0     0.0  0.0   1.0   0.0"
      ]
     },
     "execution_count": 20,
     "metadata": {},
     "output_type": "execute_result"
    }
   ],
   "source": [
    "Try_nn2=pd.DataFrame(np.concatenate((X_test,y_pred_nn2),axis=1),\n",
    "             columns=['Big Ears', 'Big Teeth', 'Handsome', 'Wrinkled', 'Scream', 'Hug','Food','Kiss'])\n",
    "Try_nn2"
   ]
  },
  {
   "cell_type": "markdown",
   "metadata": {},
   "source": [
    "A partir de todas las posibles opciones se opuede notar que la respuesta más frecuente será ofrecer comida (63% de las veces), seguidas por besar y abrazar (31% de las veces) mientars que gritar es el resultdo menos frecuento con solo el 19% de las veces.\n",
    "\n",
    "Comparando con el resultado de la red neutranal entrenada en Scikit Learn se nota que la observacion 6: Big ears, handsome and wrinkled, ya que este da como resultado ofrecer comida y besar. Por otro lado la red entrenada en Keras da como resultado gritar, frecer comida y besar"
   ]
  },
  {
   "cell_type": "markdown",
   "metadata": {},
   "source": [
    "## 4.2 Boston House Price Prediction\n",
    "\n",
    "In the next questions we are going to work using the dataset *Boston*. This dataset measures the influence of socioeconomical factors on the price of several estates of the city of Boston. This dataset has 506 instances, each one characterized by 13 features:\n",
    "\n",
    "* CRIM - per capita crime rate by town\n",
    "* ZN - proportion of residential land zoned for lots over 25,000 sq.ft.\n",
    "* INDUS - proportion of non-retail business acres per town.\n",
    "* CHAS - Charles River dummy variable (1 if tract bounds river; 0 otherwise)\n",
    "* NOX - nitric oxides concentration (parts per 10 million)\n",
    "* RM - average number of rooms per dwelling\n",
    "* AGE - proportion of owner-occupied units built prior to 1940\n",
    "* DIS - weighted distances to five Boston employment centres\n",
    "* RAD - index of accessibility to radial highways\n",
    "* TAX - full-value property-tax rate per 10,000 USD\n",
    "* PTRATIO - pupil-teacher ratio by town\n",
    "* B - $1000(Bk - 0.63)^2$ where $Bk$ is the proportion of blacks by town\n",
    "* LSTAT - % lower status of the population\n",
    "\n",
    "Output variable:\n",
    "* MEDV - Median value of owner-occupied homes in 1000's USD\n",
    "\n",
    "**Note:** In this exercise we are going to predict the price of each estate, which is represented in the `MEDV` variable. It is important to remember that we are always aiming to predict `MEDV`, no matter which explanatory variables we are using. That means, in some cases we will use a subset of the 13 previously mentioned variables, while in other cases we will use all the 13 variables. But in no case we will change the dependent variable $y$."
   ]
  },
  {
   "cell_type": "markdown",
   "metadata": {},
   "source": [
    "Load the dataset using `from sklearn.datasets import load_boston`."
   ]
  },
  {
   "cell_type": "code",
   "execution_count": 21,
   "metadata": {},
   "outputs": [],
   "source": [
    "from sklearn.datasets import load_boston\n",
    "boston = load_boston()"
   ]
  },
  {
   "cell_type": "markdown",
   "metadata": {},
   "source": [
    "Create a DataFrame using the attribute `.data` from the loading function of Scikit-learn.\n",
    "\n",
    "Assign the columns of the DataFrame so they match the `.feature_names` attribute from the loading function of Scikit-learn."
   ]
  },
  {
   "cell_type": "code",
   "execution_count": 22,
   "metadata": {},
   "outputs": [
    {
     "data": {
      "text/html": [
       "<div>\n",
       "<style scoped>\n",
       "    .dataframe tbody tr th:only-of-type {\n",
       "        vertical-align: middle;\n",
       "    }\n",
       "\n",
       "    .dataframe tbody tr th {\n",
       "        vertical-align: top;\n",
       "    }\n",
       "\n",
       "    .dataframe thead th {\n",
       "        text-align: right;\n",
       "    }\n",
       "</style>\n",
       "<table border=\"1\" class=\"dataframe\">\n",
       "  <thead>\n",
       "    <tr style=\"text-align: right;\">\n",
       "      <th></th>\n",
       "      <th>CRIM</th>\n",
       "      <th>ZN</th>\n",
       "      <th>INDUS</th>\n",
       "      <th>CHAS</th>\n",
       "      <th>NOX</th>\n",
       "      <th>RM</th>\n",
       "      <th>AGE</th>\n",
       "      <th>DIS</th>\n",
       "      <th>RAD</th>\n",
       "      <th>TAX</th>\n",
       "      <th>PTRATIO</th>\n",
       "      <th>B</th>\n",
       "      <th>LSTAT</th>\n",
       "    </tr>\n",
       "  </thead>\n",
       "  <tbody>\n",
       "    <tr>\n",
       "      <th>0</th>\n",
       "      <td>0.00632</td>\n",
       "      <td>18.0</td>\n",
       "      <td>2.31</td>\n",
       "      <td>0.0</td>\n",
       "      <td>0.538</td>\n",
       "      <td>6.575</td>\n",
       "      <td>65.2</td>\n",
       "      <td>4.0900</td>\n",
       "      <td>1.0</td>\n",
       "      <td>296.0</td>\n",
       "      <td>15.3</td>\n",
       "      <td>396.90</td>\n",
       "      <td>4.98</td>\n",
       "    </tr>\n",
       "    <tr>\n",
       "      <th>1</th>\n",
       "      <td>0.02731</td>\n",
       "      <td>0.0</td>\n",
       "      <td>7.07</td>\n",
       "      <td>0.0</td>\n",
       "      <td>0.469</td>\n",
       "      <td>6.421</td>\n",
       "      <td>78.9</td>\n",
       "      <td>4.9671</td>\n",
       "      <td>2.0</td>\n",
       "      <td>242.0</td>\n",
       "      <td>17.8</td>\n",
       "      <td>396.90</td>\n",
       "      <td>9.14</td>\n",
       "    </tr>\n",
       "    <tr>\n",
       "      <th>2</th>\n",
       "      <td>0.02729</td>\n",
       "      <td>0.0</td>\n",
       "      <td>7.07</td>\n",
       "      <td>0.0</td>\n",
       "      <td>0.469</td>\n",
       "      <td>7.185</td>\n",
       "      <td>61.1</td>\n",
       "      <td>4.9671</td>\n",
       "      <td>2.0</td>\n",
       "      <td>242.0</td>\n",
       "      <td>17.8</td>\n",
       "      <td>392.83</td>\n",
       "      <td>4.03</td>\n",
       "    </tr>\n",
       "  </tbody>\n",
       "</table>\n",
       "</div>"
      ],
      "text/plain": [
       "      CRIM    ZN  INDUS  CHAS    NOX     RM   AGE     DIS  RAD    TAX  \\\n",
       "0  0.00632  18.0   2.31   0.0  0.538  6.575  65.2  4.0900  1.0  296.0   \n",
       "1  0.02731   0.0   7.07   0.0  0.469  6.421  78.9  4.9671  2.0  242.0   \n",
       "2  0.02729   0.0   7.07   0.0  0.469  7.185  61.1  4.9671  2.0  242.0   \n",
       "\n",
       "   PTRATIO       B  LSTAT  \n",
       "0     15.3  396.90   4.98  \n",
       "1     17.8  396.90   9.14  \n",
       "2     17.8  392.83   4.03  "
      ]
     },
     "execution_count": 22,
     "metadata": {},
     "output_type": "execute_result"
    }
   ],
   "source": [
    "data=pd.DataFrame(boston.data, columns=boston.feature_names)\n",
    "data.head(3)"
   ]
  },
  {
   "cell_type": "markdown",
   "metadata": {},
   "source": [
    "Assign a new column to the DataFrame which holds the value to predict, that means, the `.target` attribute of the loading function of Scikit-learn. The name of this columns must be `MEDV`."
   ]
  },
  {
   "cell_type": "code",
   "execution_count": 23,
   "metadata": {},
   "outputs": [
    {
     "data": {
      "text/html": [
       "<div>\n",
       "<style scoped>\n",
       "    .dataframe tbody tr th:only-of-type {\n",
       "        vertical-align: middle;\n",
       "    }\n",
       "\n",
       "    .dataframe tbody tr th {\n",
       "        vertical-align: top;\n",
       "    }\n",
       "\n",
       "    .dataframe thead th {\n",
       "        text-align: right;\n",
       "    }\n",
       "</style>\n",
       "<table border=\"1\" class=\"dataframe\">\n",
       "  <thead>\n",
       "    <tr style=\"text-align: right;\">\n",
       "      <th></th>\n",
       "      <th>CRIM</th>\n",
       "      <th>ZN</th>\n",
       "      <th>INDUS</th>\n",
       "      <th>CHAS</th>\n",
       "      <th>NOX</th>\n",
       "      <th>RM</th>\n",
       "      <th>AGE</th>\n",
       "      <th>DIS</th>\n",
       "      <th>RAD</th>\n",
       "      <th>TAX</th>\n",
       "      <th>PTRATIO</th>\n",
       "      <th>B</th>\n",
       "      <th>LSTAT</th>\n",
       "      <th>MEDV</th>\n",
       "    </tr>\n",
       "  </thead>\n",
       "  <tbody>\n",
       "    <tr>\n",
       "      <th>0</th>\n",
       "      <td>0.00632</td>\n",
       "      <td>18.0</td>\n",
       "      <td>2.31</td>\n",
       "      <td>0.0</td>\n",
       "      <td>0.538</td>\n",
       "      <td>6.575</td>\n",
       "      <td>65.2</td>\n",
       "      <td>4.0900</td>\n",
       "      <td>1.0</td>\n",
       "      <td>296.0</td>\n",
       "      <td>15.3</td>\n",
       "      <td>396.90</td>\n",
       "      <td>4.98</td>\n",
       "      <td>24.0</td>\n",
       "    </tr>\n",
       "    <tr>\n",
       "      <th>1</th>\n",
       "      <td>0.02731</td>\n",
       "      <td>0.0</td>\n",
       "      <td>7.07</td>\n",
       "      <td>0.0</td>\n",
       "      <td>0.469</td>\n",
       "      <td>6.421</td>\n",
       "      <td>78.9</td>\n",
       "      <td>4.9671</td>\n",
       "      <td>2.0</td>\n",
       "      <td>242.0</td>\n",
       "      <td>17.8</td>\n",
       "      <td>396.90</td>\n",
       "      <td>9.14</td>\n",
       "      <td>21.6</td>\n",
       "    </tr>\n",
       "    <tr>\n",
       "      <th>2</th>\n",
       "      <td>0.02729</td>\n",
       "      <td>0.0</td>\n",
       "      <td>7.07</td>\n",
       "      <td>0.0</td>\n",
       "      <td>0.469</td>\n",
       "      <td>7.185</td>\n",
       "      <td>61.1</td>\n",
       "      <td>4.9671</td>\n",
       "      <td>2.0</td>\n",
       "      <td>242.0</td>\n",
       "      <td>17.8</td>\n",
       "      <td>392.83</td>\n",
       "      <td>4.03</td>\n",
       "      <td>34.7</td>\n",
       "    </tr>\n",
       "  </tbody>\n",
       "</table>\n",
       "</div>"
      ],
      "text/plain": [
       "      CRIM    ZN  INDUS  CHAS    NOX     RM   AGE     DIS  RAD    TAX  \\\n",
       "0  0.00632  18.0   2.31   0.0  0.538  6.575  65.2  4.0900  1.0  296.0   \n",
       "1  0.02731   0.0   7.07   0.0  0.469  6.421  78.9  4.9671  2.0  242.0   \n",
       "2  0.02729   0.0   7.07   0.0  0.469  7.185  61.1  4.9671  2.0  242.0   \n",
       "\n",
       "   PTRATIO       B  LSTAT  MEDV  \n",
       "0     15.3  396.90   4.98  24.0  \n",
       "1     17.8  396.90   9.14  21.6  \n",
       "2     17.8  392.83   4.03  34.7  "
      ]
     },
     "execution_count": 23,
     "metadata": {},
     "output_type": "execute_result"
    }
   ],
   "source": [
    "data[\"MEDV\"]=boston.target\n",
    "data.head(3)"
   ]
  },
  {
   "cell_type": "markdown",
   "metadata": {},
   "source": [
    "Use the function `.describe()` from Pandas for obtaining statistics about each column."
   ]
  },
  {
   "cell_type": "code",
   "execution_count": 24,
   "metadata": {},
   "outputs": [
    {
     "data": {
      "text/html": [
       "<div>\n",
       "<style scoped>\n",
       "    .dataframe tbody tr th:only-of-type {\n",
       "        vertical-align: middle;\n",
       "    }\n",
       "\n",
       "    .dataframe tbody tr th {\n",
       "        vertical-align: top;\n",
       "    }\n",
       "\n",
       "    .dataframe thead th {\n",
       "        text-align: right;\n",
       "    }\n",
       "</style>\n",
       "<table border=\"1\" class=\"dataframe\">\n",
       "  <thead>\n",
       "    <tr style=\"text-align: right;\">\n",
       "      <th></th>\n",
       "      <th>CRIM</th>\n",
       "      <th>ZN</th>\n",
       "      <th>INDUS</th>\n",
       "      <th>CHAS</th>\n",
       "      <th>NOX</th>\n",
       "      <th>RM</th>\n",
       "      <th>AGE</th>\n",
       "      <th>DIS</th>\n",
       "      <th>RAD</th>\n",
       "      <th>TAX</th>\n",
       "      <th>PTRATIO</th>\n",
       "      <th>B</th>\n",
       "      <th>LSTAT</th>\n",
       "      <th>MEDV</th>\n",
       "    </tr>\n",
       "  </thead>\n",
       "  <tbody>\n",
       "    <tr>\n",
       "      <th>count</th>\n",
       "      <td>506.000000</td>\n",
       "      <td>506.000000</td>\n",
       "      <td>506.000000</td>\n",
       "      <td>506.000000</td>\n",
       "      <td>506.000000</td>\n",
       "      <td>506.000000</td>\n",
       "      <td>506.000000</td>\n",
       "      <td>506.000000</td>\n",
       "      <td>506.000000</td>\n",
       "      <td>506.000000</td>\n",
       "      <td>506.000000</td>\n",
       "      <td>506.000000</td>\n",
       "      <td>506.000000</td>\n",
       "      <td>506.000000</td>\n",
       "    </tr>\n",
       "    <tr>\n",
       "      <th>mean</th>\n",
       "      <td>3.593761</td>\n",
       "      <td>11.363636</td>\n",
       "      <td>11.136779</td>\n",
       "      <td>0.069170</td>\n",
       "      <td>0.554695</td>\n",
       "      <td>6.284634</td>\n",
       "      <td>68.574901</td>\n",
       "      <td>3.795043</td>\n",
       "      <td>9.549407</td>\n",
       "      <td>408.237154</td>\n",
       "      <td>18.455534</td>\n",
       "      <td>356.674032</td>\n",
       "      <td>12.653063</td>\n",
       "      <td>22.532806</td>\n",
       "    </tr>\n",
       "    <tr>\n",
       "      <th>std</th>\n",
       "      <td>8.596783</td>\n",
       "      <td>23.322453</td>\n",
       "      <td>6.860353</td>\n",
       "      <td>0.253994</td>\n",
       "      <td>0.115878</td>\n",
       "      <td>0.702617</td>\n",
       "      <td>28.148861</td>\n",
       "      <td>2.105710</td>\n",
       "      <td>8.707259</td>\n",
       "      <td>168.537116</td>\n",
       "      <td>2.164946</td>\n",
       "      <td>91.294864</td>\n",
       "      <td>7.141062</td>\n",
       "      <td>9.197104</td>\n",
       "    </tr>\n",
       "    <tr>\n",
       "      <th>min</th>\n",
       "      <td>0.006320</td>\n",
       "      <td>0.000000</td>\n",
       "      <td>0.460000</td>\n",
       "      <td>0.000000</td>\n",
       "      <td>0.385000</td>\n",
       "      <td>3.561000</td>\n",
       "      <td>2.900000</td>\n",
       "      <td>1.129600</td>\n",
       "      <td>1.000000</td>\n",
       "      <td>187.000000</td>\n",
       "      <td>12.600000</td>\n",
       "      <td>0.320000</td>\n",
       "      <td>1.730000</td>\n",
       "      <td>5.000000</td>\n",
       "    </tr>\n",
       "    <tr>\n",
       "      <th>25%</th>\n",
       "      <td>0.082045</td>\n",
       "      <td>0.000000</td>\n",
       "      <td>5.190000</td>\n",
       "      <td>0.000000</td>\n",
       "      <td>0.449000</td>\n",
       "      <td>5.885500</td>\n",
       "      <td>45.025000</td>\n",
       "      <td>2.100175</td>\n",
       "      <td>4.000000</td>\n",
       "      <td>279.000000</td>\n",
       "      <td>17.400000</td>\n",
       "      <td>375.377500</td>\n",
       "      <td>6.950000</td>\n",
       "      <td>17.025000</td>\n",
       "    </tr>\n",
       "    <tr>\n",
       "      <th>50%</th>\n",
       "      <td>0.256510</td>\n",
       "      <td>0.000000</td>\n",
       "      <td>9.690000</td>\n",
       "      <td>0.000000</td>\n",
       "      <td>0.538000</td>\n",
       "      <td>6.208500</td>\n",
       "      <td>77.500000</td>\n",
       "      <td>3.207450</td>\n",
       "      <td>5.000000</td>\n",
       "      <td>330.000000</td>\n",
       "      <td>19.050000</td>\n",
       "      <td>391.440000</td>\n",
       "      <td>11.360000</td>\n",
       "      <td>21.200000</td>\n",
       "    </tr>\n",
       "    <tr>\n",
       "      <th>75%</th>\n",
       "      <td>3.647423</td>\n",
       "      <td>12.500000</td>\n",
       "      <td>18.100000</td>\n",
       "      <td>0.000000</td>\n",
       "      <td>0.624000</td>\n",
       "      <td>6.623500</td>\n",
       "      <td>94.075000</td>\n",
       "      <td>5.188425</td>\n",
       "      <td>24.000000</td>\n",
       "      <td>666.000000</td>\n",
       "      <td>20.200000</td>\n",
       "      <td>396.225000</td>\n",
       "      <td>16.955000</td>\n",
       "      <td>25.000000</td>\n",
       "    </tr>\n",
       "    <tr>\n",
       "      <th>max</th>\n",
       "      <td>88.976200</td>\n",
       "      <td>100.000000</td>\n",
       "      <td>27.740000</td>\n",
       "      <td>1.000000</td>\n",
       "      <td>0.871000</td>\n",
       "      <td>8.780000</td>\n",
       "      <td>100.000000</td>\n",
       "      <td>12.126500</td>\n",
       "      <td>24.000000</td>\n",
       "      <td>711.000000</td>\n",
       "      <td>22.000000</td>\n",
       "      <td>396.900000</td>\n",
       "      <td>37.970000</td>\n",
       "      <td>50.000000</td>\n",
       "    </tr>\n",
       "  </tbody>\n",
       "</table>\n",
       "</div>"
      ],
      "text/plain": [
       "             CRIM          ZN       INDUS        CHAS         NOX          RM  \\\n",
       "count  506.000000  506.000000  506.000000  506.000000  506.000000  506.000000   \n",
       "mean     3.593761   11.363636   11.136779    0.069170    0.554695    6.284634   \n",
       "std      8.596783   23.322453    6.860353    0.253994    0.115878    0.702617   \n",
       "min      0.006320    0.000000    0.460000    0.000000    0.385000    3.561000   \n",
       "25%      0.082045    0.000000    5.190000    0.000000    0.449000    5.885500   \n",
       "50%      0.256510    0.000000    9.690000    0.000000    0.538000    6.208500   \n",
       "75%      3.647423   12.500000   18.100000    0.000000    0.624000    6.623500   \n",
       "max     88.976200  100.000000   27.740000    1.000000    0.871000    8.780000   \n",
       "\n",
       "              AGE         DIS         RAD         TAX     PTRATIO           B  \\\n",
       "count  506.000000  506.000000  506.000000  506.000000  506.000000  506.000000   \n",
       "mean    68.574901    3.795043    9.549407  408.237154   18.455534  356.674032   \n",
       "std     28.148861    2.105710    8.707259  168.537116    2.164946   91.294864   \n",
       "min      2.900000    1.129600    1.000000  187.000000   12.600000    0.320000   \n",
       "25%     45.025000    2.100175    4.000000  279.000000   17.400000  375.377500   \n",
       "50%     77.500000    3.207450    5.000000  330.000000   19.050000  391.440000   \n",
       "75%     94.075000    5.188425   24.000000  666.000000   20.200000  396.225000   \n",
       "max    100.000000   12.126500   24.000000  711.000000   22.000000  396.900000   \n",
       "\n",
       "            LSTAT        MEDV  \n",
       "count  506.000000  506.000000  \n",
       "mean    12.653063   22.532806  \n",
       "std      7.141062    9.197104  \n",
       "min      1.730000    5.000000  \n",
       "25%      6.950000   17.025000  \n",
       "50%     11.360000   21.200000  \n",
       "75%     16.955000   25.000000  \n",
       "max     37.970000   50.000000  "
      ]
     },
     "execution_count": 24,
     "metadata": {},
     "output_type": "execute_result"
    }
   ],
   "source": [
    "data.describe()"
   ]
  },
  {
   "cell_type": "markdown",
   "metadata": {},
   "source": [
    "## 4.3 Feature analysis:"
   ]
  },
  {
   "cell_type": "markdown",
   "metadata": {},
   "source": [
    "Using the DataFrame generated in the previous section:\n",
    "* Filter the dataset to just these features:\n",
    "     * Explanatory: 'LSTAT', 'INDUS', 'NOX', 'RM', 'AGE'\n",
    "     * Dependent: 'MEDV'."
   ]
  },
  {
   "cell_type": "code",
   "execution_count": 25,
   "metadata": {},
   "outputs": [
    {
     "data": {
      "text/html": [
       "<div>\n",
       "<style scoped>\n",
       "    .dataframe tbody tr th:only-of-type {\n",
       "        vertical-align: middle;\n",
       "    }\n",
       "\n",
       "    .dataframe tbody tr th {\n",
       "        vertical-align: top;\n",
       "    }\n",
       "\n",
       "    .dataframe thead th {\n",
       "        text-align: right;\n",
       "    }\n",
       "</style>\n",
       "<table border=\"1\" class=\"dataframe\">\n",
       "  <thead>\n",
       "    <tr style=\"text-align: right;\">\n",
       "      <th></th>\n",
       "      <th>LSTAT</th>\n",
       "      <th>INDUS</th>\n",
       "      <th>NOX</th>\n",
       "      <th>RM</th>\n",
       "      <th>AGE</th>\n",
       "      <th>MEDV</th>\n",
       "    </tr>\n",
       "  </thead>\n",
       "  <tbody>\n",
       "    <tr>\n",
       "      <th>0</th>\n",
       "      <td>4.98</td>\n",
       "      <td>2.31</td>\n",
       "      <td>0.538</td>\n",
       "      <td>6.575</td>\n",
       "      <td>65.2</td>\n",
       "      <td>24.0</td>\n",
       "    </tr>\n",
       "    <tr>\n",
       "      <th>1</th>\n",
       "      <td>9.14</td>\n",
       "      <td>7.07</td>\n",
       "      <td>0.469</td>\n",
       "      <td>6.421</td>\n",
       "      <td>78.9</td>\n",
       "      <td>21.6</td>\n",
       "    </tr>\n",
       "    <tr>\n",
       "      <th>2</th>\n",
       "      <td>4.03</td>\n",
       "      <td>7.07</td>\n",
       "      <td>0.469</td>\n",
       "      <td>7.185</td>\n",
       "      <td>61.1</td>\n",
       "      <td>34.7</td>\n",
       "    </tr>\n",
       "  </tbody>\n",
       "</table>\n",
       "</div>"
      ],
      "text/plain": [
       "   LSTAT  INDUS    NOX     RM   AGE  MEDV\n",
       "0   4.98   2.31  0.538  6.575  65.2  24.0\n",
       "1   9.14   7.07  0.469  6.421  78.9  21.6\n",
       "2   4.03   7.07  0.469  7.185  61.1  34.7"
      ]
     },
     "execution_count": 25,
     "metadata": {},
     "output_type": "execute_result"
    }
   ],
   "source": [
    "features=['LSTAT', 'INDUS', 'NOX', 'RM', 'AGE', 'MEDV']\n",
    "db=data[features]\n",
    "db.head(3)"
   ]
  },
  {
   "cell_type": "markdown",
   "metadata": {},
   "source": [
    "* Generate a scatter matrix among the features mentioned above using Pandas (`scatter_matrix`) or Seaborn (` pairplot`)."
   ]
  },
  {
   "cell_type": "code",
   "execution_count": 26,
   "metadata": {},
   "outputs": [],
   "source": [
    "#pd.plotting.scatter_matrix(db, alpha=0.2)"
   ]
  },
  {
   "cell_type": "code",
   "execution_count": 27,
   "metadata": {},
   "outputs": [],
   "source": [
    "#sns.pairplot(db, size=2, palette=sns.color_palette(\"hls\", 8))"
   ]
  },
  {
   "cell_type": "code",
   "execution_count": 28,
   "metadata": {},
   "outputs": [
    {
     "data": {
      "image/png": "[encoded data removed]",
      "text/plain": [
       "<matplotlib.figure.Figure at 0x1e5cbda8b00>"
      ]
     },
     "metadata": {},
     "output_type": "display_data"
    }
   ],
   "source": [
    "import seaborn as sns\n",
    "g = sns.pairplot(db, size=2, kind=\"reg\", diag_kind =\"kde\", plot_kws={'line_kws':{'color':'red'}})"
   ]
  },
  {
   "cell_type": "markdown",
   "metadata": {},
   "source": [
    "XXXXX  Escribir las correlaciones aparentes a partir de la a grafica XXXXXX"
   ]
  },
  {
   "cell_type": "markdown",
   "metadata": {},
   "source": [
    "* Generate the correlation matrix between these variables using `numpy.corrcoef`. Also include `MEDV`.\n",
    "     * Which characteristics are more correlated?    "
   ]
  },
  {
   "cell_type": "code",
   "execution_count": 29,
   "metadata": {},
   "outputs": [
    {
     "data": {
      "text/html": [
       "<div>\n",
       "<style scoped>\n",
       "    .dataframe tbody tr th:only-of-type {\n",
       "        vertical-align: middle;\n",
       "    }\n",
       "\n",
       "    .dataframe tbody tr th {\n",
       "        vertical-align: top;\n",
       "    }\n",
       "\n",
       "    .dataframe thead th {\n",
       "        text-align: right;\n",
       "    }\n",
       "</style>\n",
       "<table border=\"1\" class=\"dataframe\">\n",
       "  <thead>\n",
       "    <tr style=\"text-align: right;\">\n",
       "      <th></th>\n",
       "      <th>LSTAT</th>\n",
       "      <th>INDUS</th>\n",
       "      <th>NOX</th>\n",
       "      <th>RM</th>\n",
       "      <th>AGE</th>\n",
       "      <th>MEDV</th>\n",
       "    </tr>\n",
       "  </thead>\n",
       "  <tbody>\n",
       "    <tr>\n",
       "      <th>LSTAT</th>\n",
       "      <td>1.000000</td>\n",
       "      <td>0.603800</td>\n",
       "      <td>0.590879</td>\n",
       "      <td>-0.613808</td>\n",
       "      <td>0.602339</td>\n",
       "      <td>-0.737663</td>\n",
       "    </tr>\n",
       "    <tr>\n",
       "      <th>INDUS</th>\n",
       "      <td>0.603800</td>\n",
       "      <td>1.000000</td>\n",
       "      <td>0.763651</td>\n",
       "      <td>-0.391676</td>\n",
       "      <td>0.644779</td>\n",
       "      <td>-0.483725</td>\n",
       "    </tr>\n",
       "    <tr>\n",
       "      <th>NOX</th>\n",
       "      <td>0.590879</td>\n",
       "      <td>0.763651</td>\n",
       "      <td>1.000000</td>\n",
       "      <td>-0.302188</td>\n",
       "      <td>0.731470</td>\n",
       "      <td>-0.427321</td>\n",
       "    </tr>\n",
       "    <tr>\n",
       "      <th>RM</th>\n",
       "      <td>-0.613808</td>\n",
       "      <td>-0.391676</td>\n",
       "      <td>-0.302188</td>\n",
       "      <td>1.000000</td>\n",
       "      <td>-0.240265</td>\n",
       "      <td>0.695360</td>\n",
       "    </tr>\n",
       "    <tr>\n",
       "      <th>AGE</th>\n",
       "      <td>0.602339</td>\n",
       "      <td>0.644779</td>\n",
       "      <td>0.731470</td>\n",
       "      <td>-0.240265</td>\n",
       "      <td>1.000000</td>\n",
       "      <td>-0.376955</td>\n",
       "    </tr>\n",
       "    <tr>\n",
       "      <th>MEDV</th>\n",
       "      <td>-0.737663</td>\n",
       "      <td>-0.483725</td>\n",
       "      <td>-0.427321</td>\n",
       "      <td>0.695360</td>\n",
       "      <td>-0.376955</td>\n",
       "      <td>1.000000</td>\n",
       "    </tr>\n",
       "  </tbody>\n",
       "</table>\n",
       "</div>"
      ],
      "text/plain": [
       "          LSTAT     INDUS       NOX        RM       AGE      MEDV\n",
       "LSTAT  1.000000  0.603800  0.590879 -0.613808  0.602339 -0.737663\n",
       "INDUS  0.603800  1.000000  0.763651 -0.391676  0.644779 -0.483725\n",
       "NOX    0.590879  0.763651  1.000000 -0.302188  0.731470 -0.427321\n",
       "RM    -0.613808 -0.391676 -0.302188  1.000000 -0.240265  0.695360\n",
       "AGE    0.602339  0.644779  0.731470 -0.240265  1.000000 -0.376955\n",
       "MEDV  -0.737663 -0.483725 -0.427321  0.695360 -0.376955  1.000000"
      ]
     },
     "execution_count": 29,
     "metadata": {},
     "output_type": "execute_result"
    }
   ],
   "source": [
    "db.corr()"
   ]
  },
  {
   "cell_type": "markdown",
   "metadata": {},
   "source": [
    "XXXX Notar caracteristicas de la matriz de correlacion XXXXX"
   ]
  },
  {
   "cell_type": "markdown",
   "metadata": {},
   "source": [
    " * BONUS: Visualize this matrix as heat map using Pandas, Matplotlib or Seaborn."
   ]
  },
  {
   "cell_type": "code",
   "execution_count": 30,
   "metadata": {},
   "outputs": [
    {
     "data": {
      "text/plain": [
       "<matplotlib.axes._subplots.AxesSubplot at 0x1e5cd37a2e8>"
      ]
     },
     "execution_count": 30,
     "metadata": {},
     "output_type": "execute_result"
    },
    {
     "data": {
      "image/png": "[encoded data removed]",
      "text/plain": [
       "<matplotlib.figure.Figure at 0x1e5cd043c88>"
      ]
     },
     "metadata": {},
     "output_type": "display_data"
    }
   ],
   "source": [
    "sns.heatmap(db.corr(), center=0)"
   ]
  },
  {
   "cell_type": "markdown",
   "metadata": {},
   "source": [
    "## 4.4 Modeling linear and non linear relationships\n",
    "\n",
    "* How does the model perform on $ D_1 $ and $ D_2 $? Why?"
   ]
  },
  {
   "cell_type": "markdown",
   "metadata": {},
   "source": [
    "* Generate two new subsets filtering these characteristics:\n",
    "     * $D_1$:  $X = \\textit{'RM'}$, $y = \\textit{'MEDV'}$\n",
    "     * $D_2$:  $X = \\textit{'LSTAT'}$, $y = \\textit{'MEDV'}$"
   ]
  },
  {
   "cell_type": "code",
   "execution_count": 31,
   "metadata": {},
   "outputs": [],
   "source": [
    "D1_X, D1_y= data[\"RM\"], data[\"MEDV\"]\n",
    "D2_X, D2_y= data[\"LSTAT\"], data[\"MEDV\"]"
   ]
  },
  {
   "cell_type": "markdown",
   "metadata": {},
   "source": [
    "* For each subset, generate a training partition and a test partition using a ratio of $ 70 \\% - 30 \\% $"
   ]
  },
  {
   "cell_type": "code",
   "execution_count": 32,
   "metadata": {},
   "outputs": [],
   "source": [
    "from sklearn.model_selection import train_test_split\n",
    "D1_X_train, D1_X_test, D1_y_train, D1_y_test = train_test_split(D1_X, D1_y, test_size=0.3, random_state=31415)\n",
    "D2_X_train, D2_X_test, D2_y_train, D2_y_test = train_test_split(D2_X, D2_y, test_size=0.3, random_state=31415)"
   ]
  },
  {
   "cell_type": "markdown",
   "metadata": {},
   "source": [
    "* Train a linear regression model on both subsets of data:"
   ]
  },
  {
   "cell_type": "code",
   "execution_count": 33,
   "metadata": {},
   "outputs": [],
   "source": [
    "from sklearn.linear_model import LinearRegression\n",
    "\n",
    "# Definición del objeto\n",
    "logreg_D1 = LinearRegression()\n",
    "logreg_D2 = LinearRegression()"
   ]
  },
  {
   "cell_type": "code",
   "execution_count": 34,
   "metadata": {},
   "outputs": [
    {
     "data": {
      "text/plain": [
       "LinearRegression(copy_X=True, fit_intercept=True, n_jobs=1, normalize=False)"
      ]
     },
     "execution_count": 34,
     "metadata": {},
     "output_type": "execute_result"
    }
   ],
   "source": [
    "# Ajuste del modelo en cunjunto de entrenamiento.\n",
    "logreg_D1.fit(D1_X_train.values.reshape(-1, 1),D1_y_train.values.reshape(-1, 1))\n",
    "logreg_D2.fit(D2_X_train.values.reshape(-1, 1),D2_y_train.values.reshape(-1, 1))"
   ]
  },
  {
   "cell_type": "code",
   "execution_count": 35,
   "metadata": {},
   "outputs": [],
   "source": [
    "# Predecir en Conjunto de Test\n",
    "y_pred_D1=logreg_D1.predict(D1_X_test.values.reshape(-1, 1))\n",
    "y_pred_D2=logreg_D2.predict(D2_X_test.values.reshape(-1, 1))"
   ]
  },
  {
   "cell_type": "markdown",
   "metadata": {},
   "source": [
    "* Report the mean square error on the test set"
   ]
  },
  {
   "cell_type": "code",
   "execution_count": 36,
   "metadata": {},
   "outputs": [],
   "source": [
    "from sklearn.metrics import mean_squared_error, r2_score"
   ]
  },
  {
   "cell_type": "markdown",
   "metadata": {},
   "source": [
    "$D_1$:  $X = \\textit{'RM'}$, $y = \\textit{'MEDV'}$"
   ]
  },
  {
   "cell_type": "code",
   "execution_count": 37,
   "metadata": {
    "scrolled": true
   },
   "outputs": [
    {
     "name": "stdout",
     "output_type": "stream",
     "text": [
      "MSE: 44.92\n",
      "R Cuadrado: 0.39\n"
     ]
    }
   ],
   "source": [
    "print(\"MSE: %.2f\"% mean_squared_error(D1_y_test, y_pred_D1))\n",
    "print('R Cuadrado: %.2f' % r2_score(D1_y_test, y_pred_D1))"
   ]
  },
  {
   "cell_type": "markdown",
   "metadata": {},
   "source": [
    "$D_2$:  $X = \\textit{'LSTAT'}$, $y = \\textit{'MEDV'}$"
   ]
  },
  {
   "cell_type": "code",
   "execution_count": 38,
   "metadata": {},
   "outputs": [
    {
     "name": "stdout",
     "output_type": "stream",
     "text": [
      "MSE: 36.26\n",
      "R Cuadrado: 0.50\n"
     ]
    }
   ],
   "source": [
    "print(\"MSE: %.2f\"% mean_squared_error(D2_y_test, y_pred_D2))\n",
    "print('R Cuadrado: %.2f' % r2_score(D2_y_test, y_pred_D2))"
   ]
  },
  {
   "cell_type": "markdown",
   "metadata": {},
   "source": [
    "* Print the values of $ w $ and $ w_0 $ of the regression equation"
   ]
  },
  {
   "cell_type": "markdown",
   "metadata": {},
   "source": [
    "$D_1$:  $X = \\textit{'RM'}$, $y = \\textit{'MEDV'}$"
   ]
  },
  {
   "cell_type": "code",
   "execution_count": 39,
   "metadata": {},
   "outputs": [
    {
     "name": "stdout",
     "output_type": "stream",
     "text": [
      "Intercepto:  [-36.95044205]\n",
      "Coeficiente:  [[9.51620105]]\n"
     ]
    }
   ],
   "source": [
    "print('Intercepto: ',logreg_D1.intercept_)\n",
    "print('Coeficiente: ',logreg_D1.coef_)"
   ]
  },
  {
   "cell_type": "markdown",
   "metadata": {},
   "source": [
    "$D_2$:  $X = \\textit{'LSTAT'}$, $y = \\textit{'MEDV'}$"
   ]
  },
  {
   "cell_type": "code",
   "execution_count": 40,
   "metadata": {},
   "outputs": [
    {
     "name": "stdout",
     "output_type": "stream",
     "text": [
      "Intercepto:  [34.85763354]\n",
      "Coeficiente:  [[-0.96303512]]\n"
     ]
    }
   ],
   "source": [
    "print('Intercepto: ',logreg_D2.intercept_)\n",
    "print('Coeficiente: ',logreg_D2.coef_)"
   ]
  },
  {
   "cell_type": "markdown",
   "metadata": {},
   "source": [
    "* Generate a graph where you visualize the line obtained by the regression model in conjunction with the training data and the test data"
   ]
  },
  {
   "cell_type": "markdown",
   "metadata": {},
   "source": [
    "$D_1$:  $X = \\textit{'RM'}$, $y = \\textit{'MEDV'}$"
   ]
  },
  {
   "cell_type": "code",
   "execution_count": 41,
   "metadata": {
    "scrolled": true
   },
   "outputs": [
    {
     "data": {
      "text/plain": [
       "<matplotlib.legend.Legend at 0x1e5cd677908>"
      ]
     },
     "execution_count": 41,
     "metadata": {},
     "output_type": "execute_result"
    },
    {
     "data": {
      "image/png": "[encoded data removed]",
      "text/plain": [
       "<matplotlib.figure.Figure at 0x1e5cd673048>"
      ]
     },
     "metadata": {},
     "output_type": "display_data"
    }
   ],
   "source": [
    "f = lambda x: logreg_D1.coef_*x + logreg_D1.intercept_\n",
    "x_line = np.array([min(D1_X_train),max(D1_X_train)])\n",
    "\n",
    "plt.xlabel(\"RM\")\n",
    "plt.ylabel(\"MEDV\")\n",
    "plt.title(\"Rooms per Dewlling vs Median value\")\n",
    "plt.plot(D1_X_train, D1_y_train, 'bo', c=\"salmon\", label=\"Train\")\n",
    "plt.plot(D1_X_test, D1_y_test, 'bo', c=\"lightsteelblue\", label=\"Test\")\n",
    "plt.plot(x_line, f(x_line)[0,], c=\"blue\", label=\"Ajuste Lineal\")\n",
    "plt.legend()"
   ]
  },
  {
   "cell_type": "markdown",
   "metadata": {},
   "source": [
    "$D_2$:  $X = \\textit{'LSTAT'}$, $y = \\textit{'MEDV'}$"
   ]
  },
  {
   "cell_type": "code",
   "execution_count": 42,
   "metadata": {
    "scrolled": false
   },
   "outputs": [
    {
     "data": {
      "text/plain": [
       "<matplotlib.legend.Legend at 0x1e5cd739240>"
      ]
     },
     "execution_count": 42,
     "metadata": {},
     "output_type": "execute_result"
    },
    {
     "data": {
      "image/png": "[encoded data removed]",
      "text/plain": [
       "<matplotlib.figure.Figure at 0x1e5cd667710>"
      ]
     },
     "metadata": {},
     "output_type": "display_data"
    }
   ],
   "source": [
    "f = lambda x: logreg_D2.coef_*x + logreg_D2.intercept_\n",
    "x_line = np.array([min(D2_X_train),max(D2_X_train)])\n",
    "\n",
    "plt.xlabel(\"LSTAT\")\n",
    "plt.ylabel(\"MEDV\")\n",
    "plt.title(\" % lower status vs Median value\")\n",
    "plt.plot(D2_X_train, D2_y_train, 'bo', c=\"salmon\", label=\"Train\")\n",
    "plt.plot(D2_X_test, D2_y_test, 'bo', c=\"lightsteelblue\", label=\"Test\")\n",
    "plt.plot(x_line, f(x_line)[0,], c=\"blue\", label=\"Ajuste Lineal\")\n",
    "plt.legend()"
   ]
  },
  {
   "cell_type": "markdown",
   "metadata": {},
   "source": [
    "* How does the model perform on $ D_1 $ and $ D_2 $? Why?"
   ]
  },
  {
   "cell_type": "markdown",
   "metadata": {},
   "source": [
    "XXXX Escribir los resultados de los modelos en terminos de MSE y R cuadrado, adicionalmente las interpretaciones de los ajustes lineales de las graficas anteriroes XXXX"
   ]
  },
  {
   "cell_type": "markdown",
   "metadata": {},
   "source": [
    "## 4.5 Training a regression model\n",
    "\n",
    "* Generate a 70-30 partitioning of the data **using all the features**. (Do not include the dependent variable `MEDV`)\n",
    "* Train a linear regression model with the objective of predicting the output variable `MEDV`.\n",
    "     * Report the mean square error on the test set\n",
    "* Train a regression model using `MLPRegressor` in order to predict the output variable` MEDV`.\n",
    "     * Report the mean square error on the test set\n",
    "* Scale the data so that they have zero mean variance one per feature (only $ X $). You can use the following piece of code:\n",
    "\n",
    "```python\n",
    "from sklearn.preprocessing import StandardScaler\n",
    "\n",
    "sc_x = StandardScaler()\n",
    "sc_x.fit(X)\n",
    "X_train_s = sc_x.transform(X_train)\n",
    "X_test_s = sc_x.transform(X_test)\n",
    "```\n",
    "Check more information about `StandardScaler` [here](http://scikit-learn.org/stable/modules/generated/sklearn.preprocessing.StandardScaler.html).\n",
    "\n",
    "* Train the following models:\n",
    "     1. Train a linear regression model using the scaled data.\n",
    "         * Report the mean square error on the test set\n",
    "     2. Train a regression model using a 2-layer MultiLayer Perceptron (128 neurons in the first and 512 in the second) and with the **scaled data**.\n",
    "         * Report the mean square error on the test set\n",
    "     3. Which model has better performance? Why?"
   ]
  },
  {
   "cell_type": "markdown",
   "metadata": {},
   "source": [
    "Generate a 70-30 partitioning of the data using all the features. (Do not include the dependent variable MEDV)"
   ]
  },
  {
   "cell_type": "code",
   "execution_count": 43,
   "metadata": {},
   "outputs": [],
   "source": [
    "feature_cols=['CRIM', 'ZN', 'INDUS', 'CHAS', 'NOX', 'RM', 'AGE', 'DIS', 'RAD', 'TAX','PTRATIO', 'B', 'LSTAT']\n",
    "X=data[feature_cols]\n",
    "y=data['MEDV']"
   ]
  },
  {
   "cell_type": "code",
   "execution_count": 44,
   "metadata": {},
   "outputs": [],
   "source": [
    "X_train, X_test, y_train, y_test = train_test_split(X, y, test_size=0.3, random_state=31415)"
   ]
  },
  {
   "cell_type": "markdown",
   "metadata": {},
   "source": [
    "* Train a linear regression model with the objective of predicting the output variable `MEDV`.\n",
    "     * Report the mean square error on the test set"
   ]
  },
  {
   "cell_type": "code",
   "execution_count": 45,
   "metadata": {},
   "outputs": [
    {
     "name": "stdout",
     "output_type": "stream",
     "text": [
      "MSE: 25.99\n",
      "R Cuadrado: 0.65\n"
     ]
    }
   ],
   "source": [
    "linreg=LinearRegression()\n",
    "linreg.fit(X_train,y_train)\n",
    "\n",
    "# Prediccion sobre el conjunto test\n",
    "y_pred=linreg.predict(X_test)\n",
    "\n",
    "print(\"MSE: %.2f\"% mean_squared_error(y_test, y_pred))\n",
    "print('R Cuadrado: %.2f'% r2_score(y_test, y_pred))"
   ]
  },
  {
   "cell_type": "markdown",
   "metadata": {},
   "source": [
    "* Train a regression model using `MLPRegressor` in order to predict the output variable` MEDV`.\n",
    "     * Report the mean square error on the test set"
   ]
  },
  {
   "cell_type": "code",
   "execution_count": 116,
   "metadata": {},
   "outputs": [],
   "source": [
    "from sklearn.neural_network import MLPRegressor\n",
    "res=[]\n",
    "n_neu=[]\n",
    "for i in range(1800,1850,1):\n",
    "    n_neu.append(i)\n",
    "    \n",
    "    nnet=MLPRegressor(solver='adam',alpha=1e-5, hidden_layer_sizes=(i,), random_state=31415, max_iter=20000)\n",
    "    nnet_fit=nnet.fit(X_train,y_train)\n",
    "    nnet_pred=nnet.predict(X_test)\n",
    "    mse_nnet=mean_squared_error(y_test, nnet_pred)    \n",
    "  \n",
    "    res.append(mse_nnet)"
   ]
  },
  {
   "cell_type": "code",
   "execution_count": 117,
   "metadata": {
    "scrolled": true
   },
   "outputs": [
    {
     "data": {
      "image/png": "[encoded data removed]",
      "text/plain": [
       "<matplotlib.figure.Figure at 0x1e5cef4f3c8>"
      ]
     },
     "metadata": {},
     "output_type": "display_data"
    }
   ],
   "source": [
    "plt.style.use('seaborn-whitegrid')\n",
    "fig = plt.figure()\n",
    "ax = plt.axes()\n",
    "plt.title(\"Ganancia en MSE\")\n",
    "plt.xlabel(\"Tamaño de Capa Oculta\")\n",
    "plt.ylabel(\"MSE\")\n",
    "plt.plot(n_neu, res)\n",
    "plt.show()"
   ]
  },
  {
   "cell_type": "code",
   "execution_count": 118,
   "metadata": {},
   "outputs": [
    {
     "data": {
      "text/plain": [
       "1837"
      ]
     },
     "execution_count": 118,
     "metadata": {},
     "output_type": "execute_result"
    }
   ],
   "source": [
    "MSE_min=n_neu[res.index(min(res))]\n",
    "MSE_min\n"
   ]
  },
  {
   "cell_type": "code",
   "execution_count": 120,
   "metadata": {
    "scrolled": true
   },
   "outputs": [
    {
     "data": {
      "text/plain": [
       "29.829668114262834"
      ]
     },
     "execution_count": 120,
     "metadata": {},
     "output_type": "execute_result"
    }
   ],
   "source": [
    "min(res)"
   ]
  },
  {
   "cell_type": "code",
   "execution_count": 123,
   "metadata": {},
   "outputs": [
    {
     "data": {
      "text/plain": [
       "MLPRegressor(activation='relu', alpha=1e-05, batch_size='auto', beta_1=0.9,\n",
       "       beta_2=0.999, early_stopping=False, epsilon=1e-08,\n",
       "       hidden_layer_sizes=1837, learning_rate='constant',\n",
       "       learning_rate_init=0.001, max_iter=20000, momentum=0.9,\n",
       "       nesterovs_momentum=True, power_t=0.5, random_state=31415,\n",
       "       shuffle=True, solver='adam', tol=0.0001, validation_fraction=0.1,\n",
       "       verbose=False, warm_start=False)"
      ]
     },
     "execution_count": 123,
     "metadata": {},
     "output_type": "execute_result"
    }
   ],
   "source": [
    "nn3 = MLPRegressor(solver='adam', alpha=1e-5, hidden_layer_sizes=(1837), random_state=31415, max_iter=20000)\n",
    "nn3.fit(X_train,y_train)"
   ]
  },
  {
   "cell_type": "code",
   "execution_count": 124,
   "metadata": {},
   "outputs": [
    {
     "data": {
      "image/png": "[encoded data removed]",
      "text/plain": [
       "<matplotlib.figure.Figure at 0x1e5cef5e588>"
      ]
     },
     "metadata": {},
     "output_type": "display_data"
    }
   ],
   "source": [
    "plt.ylabel('cost')\n",
    "plt.xlabel('iterations')\n",
    "plt.title(\"Learning rate =\" + str(0.001))\n",
    "plt.plot(nn3.loss_curve_)\n",
    "plt.show()"
   ]
  },
  {
   "cell_type": "code",
   "execution_count": 125,
   "metadata": {},
   "outputs": [],
   "source": [
    "# Prediccion sobre el conjunto test\n",
    "y_pred_nn=nn3.predict(X_test)"
   ]
  },
  {
   "cell_type": "code",
   "execution_count": 126,
   "metadata": {},
   "outputs": [
    {
     "name": "stdout",
     "output_type": "stream",
     "text": [
      "MSE: 29.83\n"
     ]
    }
   ],
   "source": [
    "print(\"MSE: %.2f\"% mean_squared_error(y_test, y_pred_nn))"
   ]
  },
  {
   "cell_type": "markdown",
   "metadata": {},
   "source": [
    "* Scale the data so that they have zero mean variance one per feature (only $ X $). You can use the following piece of code:\n",
    "\n",
    "```python\n",
    "from sklearn.preprocessing import StandardScaler\n",
    "\n",
    "sc_x = StandardScaler()\n",
    "sc_x.fit(X)\n",
    "X_train_s = sc_x.transform(X_train)\n",
    "X_test_s = sc_x.transform(X_test)\n",
    "```"
   ]
  },
  {
   "cell_type": "code",
   "execution_count": 129,
   "metadata": {},
   "outputs": [],
   "source": [
    "from sklearn.preprocessing import StandardScaler\n",
    "\n",
    "sc_x = StandardScaler()\n",
    "sc_x.fit(X)\n",
    "X_train_s = sc_x.transform(X_train)\n",
    "X_test_s = sc_x.transform(X_test)"
   ]
  },
  {
   "cell_type": "markdown",
   "metadata": {},
   "source": [
    "Train a linear regression model using the scaled data.\n",
    "* Report the mean square error on the test set\n"
   ]
  },
  {
   "cell_type": "code",
   "execution_count": 130,
   "metadata": {},
   "outputs": [
    {
     "name": "stdout",
     "output_type": "stream",
     "text": [
      "MSE: 25.99\n"
     ]
    }
   ],
   "source": [
    "linreg=LinearRegression()\n",
    "linreg.fit(X_train_s,y_train)\n",
    "\n",
    "# Prediccion sobre el conjunto test\n",
    "y_pred_s=linreg.predict(X_test_s)\n",
    "\n",
    "print(\"MSE: %.2f\"% mean_squared_error(y_test, y_pred_s))"
   ]
  },
  {
   "cell_type": "markdown",
   "metadata": {},
   "source": [
    "Train a regression model using a 2-layer MultiLayer Perceptron (128 neurons in the first and 512 in the second) and with the **scaled data**.\n",
    "* Report the mean square error on the test set\n"
   ]
  },
  {
   "cell_type": "code",
   "execution_count": 131,
   "metadata": {},
   "outputs": [
    {
     "data": {
      "text/plain": [
       "MLPRegressor(activation='relu', alpha=1e-05, batch_size='auto', beta_1=0.9,\n",
       "       beta_2=0.999, early_stopping=False, epsilon=1e-08,\n",
       "       hidden_layer_sizes=(128, 512), learning_rate='constant',\n",
       "       learning_rate_init=0.001, max_iter=20000, momentum=0.9,\n",
       "       nesterovs_momentum=True, power_t=0.5, random_state=31415,\n",
       "       shuffle=True, solver='adam', tol=0.0001, validation_fraction=0.1,\n",
       "       verbose=False, warm_start=False)"
      ]
     },
     "execution_count": 131,
     "metadata": {},
     "output_type": "execute_result"
    }
   ],
   "source": [
    "nn4 = MLPRegressor(solver='adam', alpha=1e-5, hidden_layer_sizes=(128,512), random_state=31415, max_iter=20000)\n",
    "nn4.fit(X_train_s,y_train)"
   ]
  },
  {
   "cell_type": "code",
   "execution_count": 133,
   "metadata": {},
   "outputs": [],
   "source": [
    "y_pred_nn4=nn4.predict(X_test_s)"
   ]
  },
  {
   "cell_type": "code",
   "execution_count": 134,
   "metadata": {},
   "outputs": [
    {
     "name": "stdout",
     "output_type": "stream",
     "text": [
      "MSE: 12.88\n"
     ]
    }
   ],
   "source": [
    "print(\"MSE: %.2f\"% mean_squared_error(y_test, y_pred_nn4))"
   ]
  },
  {
   "cell_type": "markdown",
   "metadata": {},
   "source": [
    "Which model has better performance? Why?"
   ]
  },
  {
   "cell_type": "markdown",
   "metadata": {},
   "source": [
    "XXXXXRedactar Concusiones XXXXXXXXXXXX"
   ]
  }
 ],
 "metadata": {
  "kernelspec": {
   "display_name": "Python 3",
   "language": "python",
   "name": "python3"
  },
  "language_info": {
   "codemirror_mode": {
    "name": "ipython",
    "version": 3
   },
   "file_extension": ".py",
   "mimetype": "text/x-python",
   "name": "python",
   "nbconvert_exporter": "python",
   "pygments_lexer": "ipython3",
   "version": "3.6.4"
  }
 },
 "nbformat": 4,
 "nbformat_minor": 2
}
