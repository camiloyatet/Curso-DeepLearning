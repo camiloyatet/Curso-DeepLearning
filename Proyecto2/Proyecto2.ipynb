{
  "nbformat": 4,
  "nbformat_minor": 0,
  "metadata": {
    "colab": {
      "name": "Proyecto2.ipynb",
      "version": "0.3.2",
      "provenance": [],
      "collapsed_sections": [],
      "include_colab_link": true
    },
    "kernelspec": {
      "name": "python3",
      "display_name": "Python 3"
    },
    "accelerator": "GPU"
  },
  "cells": [
    {
      "cell_type": "markdown",
      "metadata": {
        "id": "view-in-github",
        "colab_type": "text"
      },
      "source": [
        "[View in Colaboratory](https://colab.research.google.com/github/camiloyatet/Curso-DeepLearning/blob/master/Proyecto2.ipynb)"
      ]
    },
    {
      "metadata": {
        "id": "BPKH4bWTu111",
        "colab_type": "text"
      },
      "cell_type": "markdown",
      "source": [
        "#Cargue de imagenes almaceadas en Google Drive\n",
        "\n",
        "Esta forma de cargar las imagenes de Colab fue extraido de [StackOverflow](https://stackoverflow.com/questions/49351071/load-image-dataset-folder-or-zip-located-in-google-drive-to-google-colab)"
      ]
    },
    {
      "metadata": {
        "id": "Jx-KIp7Eu6el",
        "colab_type": "code",
        "colab": {}
      },
      "cell_type": "code",
      "source": [
        "!apt-get install -y -qq software-properties-common python-software-properties module-init-tools\n",
        "!add-apt-repository -y ppa:alessandro-strada/ppa 2>&1 > /dev/null\n",
        "!apt-get update -qq 2>&1 > /dev/null\n",
        "!apt-get -y install -qq google-drive-ocamlfuse fuse\n",
        "!pip install livelossplot # Instalar nuevos paquetes"
      ],
      "execution_count": 0,
      "outputs": []
    },
    {
      "metadata": {
        "id": "yQBhOX5ow8-8",
        "colab_type": "code",
        "colab": {}
      },
      "cell_type": "code",
      "source": [
        "from google.colab import auth\n",
        "auth.authenticate_user()"
      ],
      "execution_count": 0,
      "outputs": []
    },
    {
      "metadata": {
        "id": "3lxzEA81xLE1",
        "colab_type": "code",
        "colab": {
          "base_uri": "https://localhost:8080/",
          "height": 105
        },
        "outputId": "f20ae404-8972-4612-babd-8a668372cb9e"
      },
      "cell_type": "code",
      "source": [
        "from oauth2client.client import GoogleCredentials\n",
        "creds = GoogleCredentials.get_application_default()\n",
        "import getpass\n",
        "!google-drive-ocamlfuse -headless -id={creds.client_id} -secret={creds.client_secret} < /dev/null 2>&1 | grep URL\n",
        "vcode = getpass.getpass()\n",
        "!echo {vcode} | google-drive-ocamlfuse -headless -id={creds.client_id} -secret={creds.client_secret}"
      ],
      "execution_count": 4,
      "outputs": [
        {
          "output_type": "stream",
          "text": [
            "Please, open the following URL in a web browser: https://accounts.google.com/o/oauth2/auth?client_id=32555940559.apps.googleusercontent.com&redirect_uri=urn%3Aietf%3Awg%3Aoauth%3A2.0%3Aoob&scope=https%3A%2F%2Fwww.googleapis.com%2Fauth%2Fdrive&response_type=code&access_type=offline&approval_prompt=force\r\n",
            "··········\n",
            "Please, open the following URL in a web browser: https://accounts.google.com/o/oauth2/auth?client_id=32555940559.apps.googleusercontent.com&redirect_uri=urn%3Aietf%3Awg%3Aoauth%3A2.0%3Aoob&scope=https%3A%2F%2Fwww.googleapis.com%2Fauth%2Fdrive&response_type=code&access_type=offline&approval_prompt=force\n",
            "Please enter the verification code: Access token retrieved correctly.\n"
          ],
          "name": "stdout"
        }
      ]
    },
    {
      "metadata": {
        "id": "T3P1IQB_xgKE",
        "colab_type": "code",
        "colab": {}
      },
      "cell_type": "code",
      "source": [
        "!mkdir -p drive\n",
        "!google-drive-ocamlfuse drive"
      ],
      "execution_count": 0,
      "outputs": []
    },
    {
      "metadata": {
        "id": "3rQNyU8xxzzc",
        "colab_type": "code",
        "colab": {
          "base_uri": "https://localhost:8080/",
          "height": 51
        },
        "outputId": "0d26459d-7f23-491b-9eec-8de948ff86dc"
      },
      "cell_type": "code",
      "source": [
        "print('Files in Drive:')\n",
        "!ls drive/Python/Proyecto2/birds"
      ],
      "execution_count": 6,
      "outputs": [
        {
          "output_type": "stream",
          "text": [
            "Files in Drive:\n",
            "egret  mandarin  owl  puffin  toucan  wood_duck\n"
          ],
          "name": "stdout"
        }
      ]
    },
    {
      "metadata": {
        "id": "Ka8wWRezyNH1",
        "colab_type": "text"
      },
      "cell_type": "markdown",
      "source": [
        "# Prueba de Impresión de una imágen\n",
        "A continuación se probará la conexión entre PyDrive y las imagenes almacenadas en Drive"
      ]
    },
    {
      "metadata": {
        "id": "5XIj2bcqyX49",
        "colab_type": "code",
        "colab": {
          "base_uri": "https://localhost:8080/",
          "height": 303
        },
        "outputId": "663be6dc-8206-41b1-a6e0-b907ef95894e"
      },
      "cell_type": "code",
      "source": [
        "%matplotlib inline\n",
        "import matplotlib.pyplot as plt\n",
        "from keras.preprocessing.image import ImageDataGenerator, array_to_img, img_to_array, load_img\n",
        "\n",
        "img = load_img('drive/Python/Proyecto2/birds/egret/egr065.jpg')\n",
        "x = img_to_array(img)\n",
        "plt.imshow(img)"
      ],
      "execution_count": 7,
      "outputs": [
        {
          "output_type": "stream",
          "text": [
            "Using TensorFlow backend.\n"
          ],
          "name": "stderr"
        },
        {
          "output_type": "execute_result",
          "data": {
            "text/plain": [
              "<matplotlib.image.AxesImage at 0x7fcb5ad55ac8>"
            ]
          },
          "metadata": {
            "tags": []
          },
          "execution_count": 7
        },
        {
          "output_type": "display_data",
          "data": {
            "image/png": "[encoded data removed]",
            "text/plain": [
              "<matplotlib.figure.Figure at 0x7fcb9ed9d1d0>"
            ]
          },
          "metadata": {
            "tags": []
          }
        }
      ]
    },
    {
      "metadata": {
        "id": "qT85cXNo4AbN",
        "colab_type": "code",
        "colab": {
          "base_uri": "https://localhost:8080/",
          "height": 34
        },
        "outputId": "753011c2-2d78-4b17-93b0-695267f8a14b"
      },
      "cell_type": "code",
      "source": [
        "x.shape"
      ],
      "execution_count": 8,
      "outputs": [
        {
          "output_type": "execute_result",
          "data": {
            "text/plain": [
              "(512, 350, 3)"
            ]
          },
          "metadata": {
            "tags": []
          },
          "execution_count": 8
        }
      ]
    },
    {
      "metadata": {
        "id": "ifCta_0mUsbd",
        "colab_type": "code",
        "colab": {
          "base_uri": "https://localhost:8080/",
          "height": 34
        },
        "outputId": "e8263d74-48c8-408b-b8da-82371883e49e"
      },
      "cell_type": "code",
      "source": [
        "!ls"
      ],
      "execution_count": 9,
      "outputs": [
        {
          "output_type": "stream",
          "text": [
            "datalab  drive\r\n"
          ],
          "name": "stdout"
        }
      ]
    },
    {
      "metadata": {
        "id": "baJzNKn1155-",
        "colab_type": "text"
      },
      "cell_type": "markdown",
      "source": [
        "# Verificacion de procesador\n",
        "El siguiente código verifica donde se ejecutará el código"
      ]
    },
    {
      "metadata": {
        "id": "OXVJKbmx2Bnc",
        "colab_type": "code",
        "colab": {
          "base_uri": "https://localhost:8080/",
          "height": 306
        },
        "outputId": "2863accf-af58-4f4d-9f25-42ba899d957b"
      },
      "cell_type": "code",
      "source": [
        "from tensorflow.python.client import device_lib\n",
        "print(device_lib.list_local_devices())"
      ],
      "execution_count": 10,
      "outputs": [
        {
          "output_type": "stream",
          "text": [
            "[name: \"/device:CPU:0\"\n",
            "device_type: \"CPU\"\n",
            "memory_limit: 268435456\n",
            "locality {\n",
            "}\n",
            "incarnation: 5925391720052050570\n",
            ", name: \"/device:GPU:0\"\n",
            "device_type: \"GPU\"\n",
            "memory_limit: 11285974221\n",
            "locality {\n",
            "  bus_id: 1\n",
            "  links {\n",
            "  }\n",
            "}\n",
            "incarnation: 11160963318487250639\n",
            "physical_device_desc: \"device: 0, name: Tesla K80, pci bus id: 0000:00:04.0, compute capability: 3.7\"\n",
            "]\n"
          ],
          "name": "stdout"
        }
      ]
    },
    {
      "metadata": {
        "id": "RaeRuz1sQLXo",
        "colab_type": "text"
      },
      "cell_type": "markdown",
      "source": [
        ""
      ]
    },
    {
      "metadata": {
        "id": "_BumZUcqPmFZ",
        "colab_type": "code",
        "colab": {}
      },
      "cell_type": "code",
      "source": [
        "from numpy.random import seed\n",
        "seed(1)\n",
        "from tensorflow import set_random_seed\n",
        "set_random_seed(2)"
      ],
      "execution_count": 0,
      "outputs": []
    },
    {
      "metadata": {
        "id": "nsAcjCC_2Ppm",
        "colab_type": "text"
      },
      "cell_type": "markdown",
      "source": [
        "# Project 2\n",
        "## Image Classification with CNN\n",
        "-------------------------------"
      ]
    },
    {
      "metadata": {
        "id": "W4QCnl682WtJ",
        "colab_type": "text"
      },
      "cell_type": "markdown",
      "source": [
        "## 1. Direct prediction\n",
        "   * Download the dataset birds from http://www-cvr.ai.uiuc.edu/ponce_grp/data/.\n",
        "  \n"
      ]
    },
    {
      "metadata": {
        "id": "hrmJiPPI2rLl",
        "colab_type": "text"
      },
      "cell_type": "markdown",
      "source": [
        " \n",
        "   Los datos fueron descargados y cargados a la unidad de Google Drive. A continuación el código para cargarlos a python."
      ]
    },
    {
      "metadata": {
        "id": "Nkv-N0CSWKmE",
        "colab_type": "code",
        "colab": {
          "base_uri": "https://localhost:8080/",
          "height": 34
        },
        "outputId": "b3868bed-f819-4705-f564-c1fd3333d8f4"
      },
      "cell_type": "code",
      "source": [
        "datagen = ImageDataGenerator(rescale=1. / 255)\n",
        "itr = train_generator = datagen.flow_from_directory(\n",
        "'drive/Python/Proyecto2/birds',\n",
        "target_size=(224, 224),\n",
        "batch_size=600,\n",
        "class_mode='categorical')"
      ],
      "execution_count": 11,
      "outputs": [
        {
          "output_type": "stream",
          "text": [
            "Found 600 images belonging to 6 classes.\n"
          ],
          "name": "stdout"
        }
      ]
    },
    {
      "metadata": {
        "id": "dcVqSiW7jefU",
        "colab_type": "code",
        "colab": {
          "base_uri": "https://localhost:8080/",
          "height": 34
        },
        "outputId": "144f3e75-f0fc-444a-ef3b-4b4e83358669"
      },
      "cell_type": "code",
      "source": [
        "itr.class_indices"
      ],
      "execution_count": 12,
      "outputs": [
        {
          "output_type": "execute_result",
          "data": {
            "text/plain": [
              "{'egret': 0, 'mandarin': 1, 'owl': 2, 'puffin': 3, 'toucan': 4, 'wood_duck': 5}"
            ]
          },
          "metadata": {
            "tags": []
          },
          "execution_count": 12
        }
      ]
    },
    {
      "metadata": {
        "id": "qqnD_w6MWiIb",
        "colab_type": "code",
        "colab": {
          "base_uri": "https://localhost:8080/",
          "height": 34
        },
        "outputId": "aba72743-43af-4a0c-a748-a8344b61a04a"
      },
      "cell_type": "code",
      "source": [
        "X, y = itr.next()\n",
        "print(X.shape, y.shape)"
      ],
      "execution_count": 13,
      "outputs": [
        {
          "output_type": "stream",
          "text": [
            "(600, 224, 224, 3) (600, 6)\n"
          ],
          "name": "stdout"
        }
      ]
    },
    {
      "metadata": {
        "id": "Thfcs3eCYDPm",
        "colab_type": "text"
      },
      "cell_type": "markdown",
      "source": [
        "### Partición en Train y Test"
      ]
    },
    {
      "metadata": {
        "id": "xFxaTrxPX_TJ",
        "colab_type": "code",
        "colab": {
          "base_uri": "https://localhost:8080/",
          "height": 34
        },
        "outputId": "a73253b0-2ef0-4456-eb74-0eb515ac23f3"
      },
      "cell_type": "code",
      "source": [
        "from sklearn.model_selection import train_test_split\n",
        "X_train, X_test, y_train, y_test = train_test_split(X, y, test_size=0.33, random_state=31415)\n",
        "print(X_train.shape, X_test.shape, y_train.shape, y_test.shape)"
      ],
      "execution_count": 14,
      "outputs": [
        {
          "output_type": "stream",
          "text": [
            "(402, 224, 224, 3) (198, 224, 224, 3) (402, 6) (198, 6)\n"
          ],
          "name": "stdout"
        }
      ]
    },
    {
      "metadata": {
        "id": "Zh6VfS3H2wnF",
        "colab_type": "text"
      },
      "cell_type": "markdown",
      "source": [
        "   * Use [Keras](https://keras.io/) and a CNN from Keras [Applications](https://keras.io/applications/) pretrained on ImageNet, to classify the images in the birds dataset. Construct a confusion matrix that relates the bird classes with the 10 most frequent classes from ImageNet predicted by the model."
      ]
    },
    {
      "metadata": {
        "id": "m4AW4SzP4ove",
        "colab_type": "text"
      },
      "cell_type": "markdown",
      "source": [
        "### Carga del modelo MobileNet\n",
        "\n",
        "   \n",
        " A continuación se descargará el modelo [MobileNet](https://keras.io/applications/#mobilenet)"
      ]
    },
    {
      "metadata": {
        "id": "1F2zivSC3HYt",
        "colab_type": "code",
        "colab": {}
      },
      "cell_type": "code",
      "source": [
        "import numpy as np\n",
        "from keras.preprocessing.image import ImageDataGenerator\n",
        "from keras.models import Sequential\n",
        "from keras.layers import Dropout, Flatten, Dense\n",
        "from keras import applications\n",
        "from keras import optimizers\n",
        "\n",
        "model = applications.MobileNet(weights='imagenet')\n",
        "# Las dimensiones de la imagen deben ser (224, 224, 3)\n",
        "# Las imagenes de las aves son (320,320,3)\n"
      ],
      "execution_count": 0,
      "outputs": []
    },
    {
      "metadata": {
        "id": "sUW7UYD84aeV",
        "colab_type": "text"
      },
      "cell_type": "markdown",
      "source": [
        "### Clasificación de las aves con MobileNet"
      ]
    },
    {
      "metadata": {
        "id": "HGLMfIcCXAbc",
        "colab_type": "code",
        "colab": {}
      },
      "cell_type": "code",
      "source": [
        "y_pred=model.predict(X)"
      ],
      "execution_count": 0,
      "outputs": []
    },
    {
      "metadata": {
        "id": "jmSV4bacY3c4",
        "colab_type": "code",
        "colab": {
          "base_uri": "https://localhost:8080/",
          "height": 51
        },
        "outputId": "5d35d057-f4de-493f-a61d-d83bc187f239"
      },
      "cell_type": "code",
      "source": [
        "from keras.applications.resnet50 import decode_predictions\n",
        "pred_class=decode_predictions(y_pred, top=1)"
      ],
      "execution_count": 17,
      "outputs": [
        {
          "output_type": "stream",
          "text": [
            "Downloading data from https://s3.amazonaws.com/deep-learning-models/image-models/imagenet_class_index.json\n",
            "40960/35363 [==================================] - 0s 1us/step\n"
          ],
          "name": "stdout"
        }
      ]
    },
    {
      "metadata": {
        "id": "pisFhewZN0BH",
        "colab_type": "text"
      },
      "cell_type": "markdown",
      "source": [
        "## Construcción de la Matriz de Confusión"
      ]
    },
    {
      "metadata": {
        "id": "oMmVi3xHouvT",
        "colab_type": "code",
        "colab": {}
      },
      "cell_type": "code",
      "source": [
        "cate_pred=[]\n",
        "\n",
        "for i in range(600):\n",
        "    categ=pred_class[i][0][1]\n",
        "    cate_pred.append(categ)\n",
        "\n",
        "cate_pred=np.array(cate_pred)"
      ],
      "execution_count": 0,
      "outputs": []
    },
    {
      "metadata": {
        "id": "HukDXYgysu1V",
        "colab_type": "code",
        "colab": {}
      },
      "cell_type": "code",
      "source": [
        "tmp=np.array(['egret','mandarin','owl','puffin','toucan','wood duck'])\n",
        "cate_ori=np.repeat(tmp, 100, axis=0)"
      ],
      "execution_count": 0,
      "outputs": []
    },
    {
      "metadata": {
        "id": "th4YI326f90s",
        "colab_type": "code",
        "colab": {
          "base_uri": "https://localhost:8080/",
          "height": 142
        },
        "outputId": "7b43c858-62ca-43d1-99a2-c78e333aa0ba"
      },
      "cell_type": "code",
      "source": [
        "import pandas as pd\n",
        "\n",
        "uni_tmp={\"Categoria\":cate_ori, \"Predicho\":cate_pred}\n",
        "data_tmp=pd.DataFrame(uni_tmp)\n",
        "data_tmp.head(3)"
      ],
      "execution_count": 20,
      "outputs": [
        {
          "output_type": "execute_result",
          "data": {
            "text/html": [
              "<div>\n",
              "<style scoped>\n",
              "    .dataframe tbody tr th:only-of-type {\n",
              "        vertical-align: middle;\n",
              "    }\n",
              "\n",
              "    .dataframe tbody tr th {\n",
              "        vertical-align: top;\n",
              "    }\n",
              "\n",
              "    .dataframe thead th {\n",
              "        text-align: right;\n",
              "    }\n",
              "</style>\n",
              "<table border=\"1\" class=\"dataframe\">\n",
              "  <thead>\n",
              "    <tr style=\"text-align: right;\">\n",
              "      <th></th>\n",
              "      <th>Categoria</th>\n",
              "      <th>Predicho</th>\n",
              "    </tr>\n",
              "  </thead>\n",
              "  <tbody>\n",
              "    <tr>\n",
              "      <th>0</th>\n",
              "      <td>egret</td>\n",
              "      <td>drake</td>\n",
              "    </tr>\n",
              "    <tr>\n",
              "      <th>1</th>\n",
              "      <td>egret</td>\n",
              "      <td>king_penguin</td>\n",
              "    </tr>\n",
              "    <tr>\n",
              "      <th>2</th>\n",
              "      <td>egret</td>\n",
              "      <td>drake</td>\n",
              "    </tr>\n",
              "  </tbody>\n",
              "</table>\n",
              "</div>"
            ],
            "text/plain": [
              "  Categoria      Predicho\n",
              "0     egret         drake\n",
              "1     egret  king_penguin\n",
              "2     egret         drake"
            ]
          },
          "metadata": {
            "tags": []
          },
          "execution_count": 20
        }
      ]
    },
    {
      "metadata": {
        "id": "3UEvmcT1qHqc",
        "colab_type": "code",
        "colab": {
          "base_uri": "https://localhost:8080/",
          "height": 142
        },
        "outputId": "068f7825-dc43-4d37-be90-29c1b305dc0b"
      },
      "cell_type": "code",
      "source": [
        "n_top=10\n",
        "from collections import Counter\n",
        "c = Counter(cate_pred)\n",
        "top_list=c.most_common(n_top)\n",
        "\n",
        "top10=[]\n",
        "for i in range(n_top):\n",
        "  cat=top_list[i][0]\n",
        "  top10.append(cat)\n",
        "\n",
        "data_mc=data_tmp[data_tmp['Predicho'].isin(top10)]\n",
        "data_mc.head(3)"
      ],
      "execution_count": 21,
      "outputs": [
        {
          "output_type": "execute_result",
          "data": {
            "text/html": [
              "<div>\n",
              "<style scoped>\n",
              "    .dataframe tbody tr th:only-of-type {\n",
              "        vertical-align: middle;\n",
              "    }\n",
              "\n",
              "    .dataframe tbody tr th {\n",
              "        vertical-align: top;\n",
              "    }\n",
              "\n",
              "    .dataframe thead th {\n",
              "        text-align: right;\n",
              "    }\n",
              "</style>\n",
              "<table border=\"1\" class=\"dataframe\">\n",
              "  <thead>\n",
              "    <tr style=\"text-align: right;\">\n",
              "      <th></th>\n",
              "      <th>Categoria</th>\n",
              "      <th>Predicho</th>\n",
              "    </tr>\n",
              "  </thead>\n",
              "  <tbody>\n",
              "    <tr>\n",
              "      <th>0</th>\n",
              "      <td>egret</td>\n",
              "      <td>drake</td>\n",
              "    </tr>\n",
              "    <tr>\n",
              "      <th>1</th>\n",
              "      <td>egret</td>\n",
              "      <td>king_penguin</td>\n",
              "    </tr>\n",
              "    <tr>\n",
              "      <th>2</th>\n",
              "      <td>egret</td>\n",
              "      <td>drake</td>\n",
              "    </tr>\n",
              "  </tbody>\n",
              "</table>\n",
              "</div>"
            ],
            "text/plain": [
              "  Categoria      Predicho\n",
              "0     egret         drake\n",
              "1     egret  king_penguin\n",
              "2     egret         drake"
            ]
          },
          "metadata": {
            "tags": []
          },
          "execution_count": 21
        }
      ]
    },
    {
      "metadata": {
        "id": "qpizpqMM_AwP",
        "colab_type": "text"
      },
      "cell_type": "markdown",
      "source": [
        "\n",
        "Se puede concluir que las 10 cases predichas mas frecuentes corresponden efectivamente a tipos de aves, por lo cual se continuará que la red Mobilnet será útil para la solución del problema.\n"
      ]
    },
    {
      "metadata": {
        "id": "z5AcbAnwHUrp",
        "colab_type": "code",
        "colab": {}
      },
      "cell_type": "code",
      "source": [
        "from sklearn.metrics import confusion_matrix, classification_report\n",
        "mc=confusion_matrix(data_mc[\"Categoria\"],data_mc[\"Predicho\"])"
      ],
      "execution_count": 0,
      "outputs": []
    },
    {
      "metadata": {
        "id": "RCgiqhpLHzuB",
        "colab_type": "code",
        "colab": {}
      },
      "cell_type": "code",
      "source": [
        "def plot_confusion_matrix(cm, classes, cmap=plt.cm.Blues):\n",
        "    plt.imshow(cm, interpolation='nearest', cmap=cmap)\n",
        "    plt.title(\"Matriz de Confusión\")\n",
        "    plt.colorbar()\n",
        "    plt.xticks(rotation=45)\n",
        "    plt.tight_layout()\n",
        "    plt.ylabel('Categoria original')\n",
        "    plt.xlabel('Categoria Predicha')"
      ],
      "execution_count": 0,
      "outputs": []
    },
    {
      "metadata": {
        "id": "2_e6yNCSJn9_",
        "colab_type": "code",
        "colab": {
          "base_uri": "https://localhost:8080/",
          "height": 311
        },
        "outputId": "f299fe1b-33ca-4275-f465-1d55aec9d320"
      },
      "cell_type": "code",
      "source": [
        "plt.figure\n",
        "plot_confusion_matrix(mc, ['egret','mandarin','owl','puffin','toucan','wood duck'])"
      ],
      "execution_count": 24,
      "outputs": [
        {
          "output_type": "display_data",
          "data": {
            "image/png": "[encoded data removed]",
            "text/plain": [
              "<matplotlib.figure.Figure at 0x7fcaf78987f0>"
            ]
          },
          "metadata": {
            "tags": []
          }
        }
      ]
    },
    {
      "metadata": {
        "id": "PoNd2HZutlqB",
        "colab_type": "code",
        "colab": {
          "base_uri": "https://localhost:8080/",
          "height": 297
        },
        "outputId": "c2b67bfc-905b-45ca-f70b-7d0189605df6"
      },
      "cell_type": "code",
      "source": [
        "pd.crosstab(data_mc[\"Categoria\"],data_mc[\"Predicho\"], rownames = ['Original'], colnames = ['Predicho'], margins=True)"
      ],
      "execution_count": 25,
      "outputs": [
        {
          "output_type": "execute_result",
          "data": {
            "text/html": [
              "<div>\n",
              "<style scoped>\n",
              "    .dataframe tbody tr th:only-of-type {\n",
              "        vertical-align: middle;\n",
              "    }\n",
              "\n",
              "    .dataframe tbody tr th {\n",
              "        vertical-align: top;\n",
              "    }\n",
              "\n",
              "    .dataframe thead th {\n",
              "        text-align: right;\n",
              "    }\n",
              "</style>\n",
              "<table border=\"1\" class=\"dataframe\">\n",
              "  <thead>\n",
              "    <tr style=\"text-align: right;\">\n",
              "      <th>Predicho</th>\n",
              "      <th>African_grey</th>\n",
              "      <th>American_egret</th>\n",
              "      <th>albatross</th>\n",
              "      <th>drake</th>\n",
              "      <th>goose</th>\n",
              "      <th>great_grey_owl</th>\n",
              "      <th>king_penguin</th>\n",
              "      <th>ptarmigan</th>\n",
              "      <th>toucan</th>\n",
              "      <th>water_ouzel</th>\n",
              "      <th>All</th>\n",
              "    </tr>\n",
              "    <tr>\n",
              "      <th>Original</th>\n",
              "      <th></th>\n",
              "      <th></th>\n",
              "      <th></th>\n",
              "      <th></th>\n",
              "      <th></th>\n",
              "      <th></th>\n",
              "      <th></th>\n",
              "      <th></th>\n",
              "      <th></th>\n",
              "      <th></th>\n",
              "      <th></th>\n",
              "    </tr>\n",
              "  </thead>\n",
              "  <tbody>\n",
              "    <tr>\n",
              "      <th>egret</th>\n",
              "      <td>2</td>\n",
              "      <td>12</td>\n",
              "      <td>3</td>\n",
              "      <td>38</td>\n",
              "      <td>4</td>\n",
              "      <td>5</td>\n",
              "      <td>2</td>\n",
              "      <td>3</td>\n",
              "      <td>18</td>\n",
              "      <td>1</td>\n",
              "      <td>88</td>\n",
              "    </tr>\n",
              "    <tr>\n",
              "      <th>mandarin</th>\n",
              "      <td>3</td>\n",
              "      <td>18</td>\n",
              "      <td>4</td>\n",
              "      <td>27</td>\n",
              "      <td>3</td>\n",
              "      <td>4</td>\n",
              "      <td>2</td>\n",
              "      <td>5</td>\n",
              "      <td>17</td>\n",
              "      <td>1</td>\n",
              "      <td>84</td>\n",
              "    </tr>\n",
              "    <tr>\n",
              "      <th>owl</th>\n",
              "      <td>2</td>\n",
              "      <td>14</td>\n",
              "      <td>5</td>\n",
              "      <td>32</td>\n",
              "      <td>2</td>\n",
              "      <td>2</td>\n",
              "      <td>1</td>\n",
              "      <td>11</td>\n",
              "      <td>17</td>\n",
              "      <td>0</td>\n",
              "      <td>86</td>\n",
              "    </tr>\n",
              "    <tr>\n",
              "      <th>puffin</th>\n",
              "      <td>4</td>\n",
              "      <td>14</td>\n",
              "      <td>8</td>\n",
              "      <td>27</td>\n",
              "      <td>1</td>\n",
              "      <td>2</td>\n",
              "      <td>0</td>\n",
              "      <td>6</td>\n",
              "      <td>22</td>\n",
              "      <td>0</td>\n",
              "      <td>84</td>\n",
              "    </tr>\n",
              "    <tr>\n",
              "      <th>toucan</th>\n",
              "      <td>1</td>\n",
              "      <td>16</td>\n",
              "      <td>2</td>\n",
              "      <td>25</td>\n",
              "      <td>2</td>\n",
              "      <td>1</td>\n",
              "      <td>0</td>\n",
              "      <td>9</td>\n",
              "      <td>19</td>\n",
              "      <td>3</td>\n",
              "      <td>78</td>\n",
              "    </tr>\n",
              "    <tr>\n",
              "      <th>wood duck</th>\n",
              "      <td>2</td>\n",
              "      <td>18</td>\n",
              "      <td>9</td>\n",
              "      <td>20</td>\n",
              "      <td>1</td>\n",
              "      <td>1</td>\n",
              "      <td>1</td>\n",
              "      <td>5</td>\n",
              "      <td>18</td>\n",
              "      <td>2</td>\n",
              "      <td>77</td>\n",
              "    </tr>\n",
              "    <tr>\n",
              "      <th>All</th>\n",
              "      <td>14</td>\n",
              "      <td>92</td>\n",
              "      <td>31</td>\n",
              "      <td>169</td>\n",
              "      <td>13</td>\n",
              "      <td>15</td>\n",
              "      <td>6</td>\n",
              "      <td>39</td>\n",
              "      <td>111</td>\n",
              "      <td>7</td>\n",
              "      <td>497</td>\n",
              "    </tr>\n",
              "  </tbody>\n",
              "</table>\n",
              "</div>"
            ],
            "text/plain": [
              "Predicho   African_grey  American_egret  albatross  drake  goose  \\\n",
              "Original                                                           \n",
              "egret                 2              12          3     38      4   \n",
              "mandarin              3              18          4     27      3   \n",
              "owl                   2              14          5     32      2   \n",
              "puffin                4              14          8     27      1   \n",
              "toucan                1              16          2     25      2   \n",
              "wood duck             2              18          9     20      1   \n",
              "All                  14              92         31    169     13   \n",
              "\n",
              "Predicho   great_grey_owl  king_penguin  ptarmigan  toucan  water_ouzel  All  \n",
              "Original                                                                      \n",
              "egret                   5             2          3      18            1   88  \n",
              "mandarin                4             2          5      17            1   84  \n",
              "owl                     2             1         11      17            0   86  \n",
              "puffin                  2             0          6      22            0   84  \n",
              "toucan                  1             0          9      19            3   78  \n",
              "wood duck               1             1          5      18            2   77  \n",
              "All                    15             6         39     111            7  497  "
            ]
          },
          "metadata": {
            "tags": []
          },
          "execution_count": 25
        }
      ]
    },
    {
      "metadata": {
        "id": "SpHUdMIR9L1-",
        "colab_type": "code",
        "colab": {
          "base_uri": "https://localhost:8080/",
          "height": 297
        },
        "outputId": "087ff337-35af-4409-d5ae-ce97a4a0d97c"
      },
      "cell_type": "code",
      "source": [
        "pd.crosstab(data_mc[\"Categoria\"],data_mc[\"Predicho\"], rownames = ['Original'], colnames = ['Predicho'], margins=True).apply(lambda r: r/497, axis=1)"
      ],
      "execution_count": 26,
      "outputs": [
        {
          "output_type": "execute_result",
          "data": {
            "text/html": [
              "<div>\n",
              "<style scoped>\n",
              "    .dataframe tbody tr th:only-of-type {\n",
              "        vertical-align: middle;\n",
              "    }\n",
              "\n",
              "    .dataframe tbody tr th {\n",
              "        vertical-align: top;\n",
              "    }\n",
              "\n",
              "    .dataframe thead th {\n",
              "        text-align: right;\n",
              "    }\n",
              "</style>\n",
              "<table border=\"1\" class=\"dataframe\">\n",
              "  <thead>\n",
              "    <tr style=\"text-align: right;\">\n",
              "      <th>Predicho</th>\n",
              "      <th>African_grey</th>\n",
              "      <th>American_egret</th>\n",
              "      <th>albatross</th>\n",
              "      <th>drake</th>\n",
              "      <th>goose</th>\n",
              "      <th>great_grey_owl</th>\n",
              "      <th>king_penguin</th>\n",
              "      <th>ptarmigan</th>\n",
              "      <th>toucan</th>\n",
              "      <th>water_ouzel</th>\n",
              "      <th>All</th>\n",
              "    </tr>\n",
              "    <tr>\n",
              "      <th>Original</th>\n",
              "      <th></th>\n",
              "      <th></th>\n",
              "      <th></th>\n",
              "      <th></th>\n",
              "      <th></th>\n",
              "      <th></th>\n",
              "      <th></th>\n",
              "      <th></th>\n",
              "      <th></th>\n",
              "      <th></th>\n",
              "      <th></th>\n",
              "    </tr>\n",
              "  </thead>\n",
              "  <tbody>\n",
              "    <tr>\n",
              "      <th>egret</th>\n",
              "      <td>0.004024</td>\n",
              "      <td>0.024145</td>\n",
              "      <td>0.006036</td>\n",
              "      <td>0.076459</td>\n",
              "      <td>0.008048</td>\n",
              "      <td>0.010060</td>\n",
              "      <td>0.004024</td>\n",
              "      <td>0.006036</td>\n",
              "      <td>0.036217</td>\n",
              "      <td>0.002012</td>\n",
              "      <td>0.177062</td>\n",
              "    </tr>\n",
              "    <tr>\n",
              "      <th>mandarin</th>\n",
              "      <td>0.006036</td>\n",
              "      <td>0.036217</td>\n",
              "      <td>0.008048</td>\n",
              "      <td>0.054326</td>\n",
              "      <td>0.006036</td>\n",
              "      <td>0.008048</td>\n",
              "      <td>0.004024</td>\n",
              "      <td>0.010060</td>\n",
              "      <td>0.034205</td>\n",
              "      <td>0.002012</td>\n",
              "      <td>0.169014</td>\n",
              "    </tr>\n",
              "    <tr>\n",
              "      <th>owl</th>\n",
              "      <td>0.004024</td>\n",
              "      <td>0.028169</td>\n",
              "      <td>0.010060</td>\n",
              "      <td>0.064386</td>\n",
              "      <td>0.004024</td>\n",
              "      <td>0.004024</td>\n",
              "      <td>0.002012</td>\n",
              "      <td>0.022133</td>\n",
              "      <td>0.034205</td>\n",
              "      <td>0.000000</td>\n",
              "      <td>0.173038</td>\n",
              "    </tr>\n",
              "    <tr>\n",
              "      <th>puffin</th>\n",
              "      <td>0.008048</td>\n",
              "      <td>0.028169</td>\n",
              "      <td>0.016097</td>\n",
              "      <td>0.054326</td>\n",
              "      <td>0.002012</td>\n",
              "      <td>0.004024</td>\n",
              "      <td>0.000000</td>\n",
              "      <td>0.012072</td>\n",
              "      <td>0.044266</td>\n",
              "      <td>0.000000</td>\n",
              "      <td>0.169014</td>\n",
              "    </tr>\n",
              "    <tr>\n",
              "      <th>toucan</th>\n",
              "      <td>0.002012</td>\n",
              "      <td>0.032193</td>\n",
              "      <td>0.004024</td>\n",
              "      <td>0.050302</td>\n",
              "      <td>0.004024</td>\n",
              "      <td>0.002012</td>\n",
              "      <td>0.000000</td>\n",
              "      <td>0.018109</td>\n",
              "      <td>0.038229</td>\n",
              "      <td>0.006036</td>\n",
              "      <td>0.156942</td>\n",
              "    </tr>\n",
              "    <tr>\n",
              "      <th>wood duck</th>\n",
              "      <td>0.004024</td>\n",
              "      <td>0.036217</td>\n",
              "      <td>0.018109</td>\n",
              "      <td>0.040241</td>\n",
              "      <td>0.002012</td>\n",
              "      <td>0.002012</td>\n",
              "      <td>0.002012</td>\n",
              "      <td>0.010060</td>\n",
              "      <td>0.036217</td>\n",
              "      <td>0.004024</td>\n",
              "      <td>0.154930</td>\n",
              "    </tr>\n",
              "    <tr>\n",
              "      <th>All</th>\n",
              "      <td>0.028169</td>\n",
              "      <td>0.185111</td>\n",
              "      <td>0.062374</td>\n",
              "      <td>0.340040</td>\n",
              "      <td>0.026157</td>\n",
              "      <td>0.030181</td>\n",
              "      <td>0.012072</td>\n",
              "      <td>0.078471</td>\n",
              "      <td>0.223340</td>\n",
              "      <td>0.014085</td>\n",
              "      <td>1.000000</td>\n",
              "    </tr>\n",
              "  </tbody>\n",
              "</table>\n",
              "</div>"
            ],
            "text/plain": [
              "Predicho   African_grey  American_egret  albatross     drake     goose  \\\n",
              "Original                                                                 \n",
              "egret          0.004024        0.024145   0.006036  0.076459  0.008048   \n",
              "mandarin       0.006036        0.036217   0.008048  0.054326  0.006036   \n",
              "owl            0.004024        0.028169   0.010060  0.064386  0.004024   \n",
              "puffin         0.008048        0.028169   0.016097  0.054326  0.002012   \n",
              "toucan         0.002012        0.032193   0.004024  0.050302  0.004024   \n",
              "wood duck      0.004024        0.036217   0.018109  0.040241  0.002012   \n",
              "All            0.028169        0.185111   0.062374  0.340040  0.026157   \n",
              "\n",
              "Predicho   great_grey_owl  king_penguin  ptarmigan    toucan  water_ouzel  \\\n",
              "Original                                                                    \n",
              "egret            0.010060      0.004024   0.006036  0.036217     0.002012   \n",
              "mandarin         0.008048      0.004024   0.010060  0.034205     0.002012   \n",
              "owl              0.004024      0.002012   0.022133  0.034205     0.000000   \n",
              "puffin           0.004024      0.000000   0.012072  0.044266     0.000000   \n",
              "toucan           0.002012      0.000000   0.018109  0.038229     0.006036   \n",
              "wood duck        0.002012      0.002012   0.010060  0.036217     0.004024   \n",
              "All              0.030181      0.012072   0.078471  0.223340     0.014085   \n",
              "\n",
              "Predicho        All  \n",
              "Original             \n",
              "egret      0.177062  \n",
              "mandarin   0.169014  \n",
              "owl        0.173038  \n",
              "puffin     0.169014  \n",
              "toucan     0.156942  \n",
              "wood duck  0.154930  \n",
              "All        1.000000  "
            ]
          },
          "metadata": {
            "tags": []
          },
          "execution_count": 26
        }
      ]
    },
    {
      "metadata": {
        "id": "GcunylfoREhD",
        "colab_type": "text"
      },
      "cell_type": "markdown",
      "source": [
        "Se puede notar que la clase predicha predominante por MobilNet es **drake** (34%) seguido de la categoría **toucan** (22%) la cual si corresponde a una clase objetivo en el conjunto de datos se los cuales el 27% fueron correctamente clasificados. De manera similar para la categoría **Egret** y **Owl** donde se clasifico correctamente el 16%  como American_egret y great_grey_owl un 2%, respectivamente."
      ]
    },
    {
      "metadata": {
        "id": "v5TfQyYcv30C",
        "colab_type": "text"
      },
      "cell_type": "markdown",
      "source": [
        "## Discturi los resultados\n"
      ]
    },
    {
      "metadata": {
        "id": "USaLQPFARHwD",
        "colab_type": "text"
      },
      "cell_type": "markdown",
      "source": [
        "## 2. Transfer learning\n",
        "\n"
      ]
    },
    {
      "metadata": {
        "id": "Q2pKtVW3StAD",
        "colab_type": "text"
      },
      "cell_type": "markdown",
      "source": [
        "  * Use the pre-trained CNN model as a feature extractor. Create a new model that replaces the top part of the pretrained CNN with two layers of 256 and 6 neurons respectively."
      ]
    },
    {
      "metadata": {
        "id": "QhMAOxVKgWpP",
        "colab_type": "text"
      },
      "cell_type": "markdown",
      "source": [
        "Cargue del modelo MobileNet"
      ]
    },
    {
      "metadata": {
        "id": "PB36hV2wafLT",
        "colab_type": "code",
        "colab": {
          "base_uri": "https://localhost:8080/",
          "height": 105
        },
        "outputId": "46a4868d-c448-4515-fad1-4f0b4dfc0ed8"
      },
      "cell_type": "code",
      "source": [
        "model1 = applications.MobileNet(include_top=False, weights='imagenet')"
      ],
      "execution_count": 27,
      "outputs": [
        {
          "output_type": "stream",
          "text": [
            "/usr/local/lib/python3.6/dist-packages/keras/applications/mobilenet.py:224: UserWarning: MobileNet shape is undefined. Weights for input shape (224, 224) will be loaded.\n",
            "  warnings.warn('MobileNet shape is undefined.'\n"
          ],
          "name": "stderr"
        },
        {
          "output_type": "stream",
          "text": [
            "Downloading data from https://github.com/fchollet/deep-learning-models/releases/download/v0.6/mobilenet_1_0_224_tf_no_top.h5\n",
            "17227776/17225924 [==============================] - 1s 0us/step\n"
          ],
          "name": "stdout"
        }
      ]
    },
    {
      "metadata": {
        "id": "vN16LXsceOhE",
        "colab_type": "text"
      },
      "cell_type": "markdown",
      "source": [
        "Se procede a predecir la clase del ave con el modelo MobileNet sin la capa final."
      ]
    },
    {
      "metadata": {
        "id": "Eu8k128rkIP1",
        "colab_type": "code",
        "colab": {}
      },
      "cell_type": "code",
      "source": [
        "X_train_IN=model1.predict(X_train)\n",
        "X_test_IN=model1.predict(X_test)"
      ],
      "execution_count": 0,
      "outputs": []
    },
    {
      "metadata": {
        "id": "KKA4h7nGexmt",
        "colab_type": "code",
        "colab": {
          "base_uri": "https://localhost:8080/",
          "height": 272
        },
        "outputId": "0b54b105-60b9-4706-daf1-f74300981977"
      },
      "cell_type": "code",
      "source": [
        "model2=Sequential()\n",
        "model2.add(Flatten(input_shape=X_train_IN.shape[1:]))\n",
        "model2.add(Dense(256, activation='sigmoid'))\n",
        "model2.add(Dropout(0.5))\n",
        "model2.add(Dense(6, activation='softmax'))\n",
        "\n",
        "model2.summary()"
      ],
      "execution_count": 120,
      "outputs": [
        {
          "output_type": "stream",
          "text": [
            "_________________________________________________________________\n",
            "Layer (type)                 Output Shape              Param #   \n",
            "=================================================================\n",
            "flatten_16 (Flatten)         (None, 50176)             0         \n",
            "_________________________________________________________________\n",
            "dense_19 (Dense)             (None, 256)               12845312  \n",
            "_________________________________________________________________\n",
            "dropout_6 (Dropout)          (None, 256)               0         \n",
            "_________________________________________________________________\n",
            "dense_20 (Dense)             (None, 6)                 1542      \n",
            "=================================================================\n",
            "Total params: 12,846,854\n",
            "Trainable params: 12,846,854\n",
            "Non-trainable params: 0\n",
            "_________________________________________________________________\n"
          ],
          "name": "stdout"
        }
      ]
    },
    {
      "metadata": {
        "id": "zNTTYOzDSl8E",
        "colab_type": "text"
      },
      "cell_type": "markdown",
      "source": [
        " * Train the model with the training images from the bird dataset. "
      ]
    },
    {
      "metadata": {
        "id": "8AtFGH4iggII",
        "colab_type": "code",
        "colab": {
          "base_uri": "https://localhost:8080/",
          "height": 343
        },
        "outputId": "3a30fe5f-0263-4d80-afe7-c699a7381b22"
      },
      "cell_type": "code",
      "source": [
        "from  livelossplot import PlotLossesKeras\n",
        "\n",
        "model2.compile(optimizer=optimizers.SGD(lr=0.0001),\n",
        "               loss='categorical_crossentropy',\n",
        "               metrics=['accuracy'])\n",
        "\n",
        "epochs=100\n",
        "\n",
        "model2.fit(X_train_IN, y_train,\n",
        "          epochs=epochs,\n",
        "          validation_data=(X_test_IN, y_test), shuffle=False,\n",
        "          callbacks=[PlotLossesKeras()])"
      ],
      "execution_count": 122,
      "outputs": [
        {
          "output_type": "display_data",
          "data": {
            "image/png": "[encoded data removed]",
            "text/plain": [
              "<matplotlib.figure.Figure at 0x7fd7a0ff56a0>"
            ]
          },
          "metadata": {
            "tags": []
          }
        },
        {
          "output_type": "execute_result",
          "data": {
            "text/plain": [
              "<keras.callbacks.History at 0x7fd792fafe10>"
            ]
          },
          "metadata": {
            "tags": []
          },
          "execution_count": 122
        }
      ]
    },
    {
      "metadata": {
        "id": "25CMBmnqZV6w",
        "colab_type": "text"
      },
      "cell_type": "markdown",
      "source": [
        "   * Evaluate the performance over the test dataset reporting the results in a confusion matrix. Discuss the results. "
      ]
    },
    {
      "metadata": {
        "id": "MiYlKazSa2Oi",
        "colab_type": "code",
        "colab": {}
      },
      "cell_type": "code",
      "source": [
        "y_pred2=model2.predict(X_test_IN)"
      ],
      "execution_count": 0,
      "outputs": []
    },
    {
      "metadata": {
        "id": "izSljc0Nrj90",
        "colab_type": "code",
        "colab": {}
      },
      "cell_type": "code",
      "source": [
        "y_pred2_class = np.argmax(y_pred2, axis=1)\n",
        "y_test_class = np.argmax(y_test, axis=1)"
      ],
      "execution_count": 0,
      "outputs": []
    },
    {
      "metadata": {
        "id": "s6WdovV1q57a",
        "colab_type": "code",
        "colab": {}
      },
      "cell_type": "code",
      "source": [
        "mc2=confusion_matrix(y_test_class, y_pred2_class)"
      ],
      "execution_count": 0,
      "outputs": []
    },
    {
      "metadata": {
        "id": "l1WT2MgQrBNi",
        "colab_type": "code",
        "colab": {
          "base_uri": "https://localhost:8080/",
          "height": 311
        },
        "outputId": "a775ee98-2745-4d98-824e-07cf631980d4"
      },
      "cell_type": "code",
      "source": [
        "plt.figure\n",
        "plot_confusion_matrix(mc2, ['egret','mandarin','owl','puffin','toucan','wood duck'])"
      ],
      "execution_count": 137,
      "outputs": [
        {
          "output_type": "display_data",
          "data": {
            "image/png": "[encoded data removed]",
            "text/plain": [
              "<matplotlib.figure.Figure at 0x7fd75a38b128>"
            ]
          },
          "metadata": {
            "tags": []
          }
        }
      ]
    },
    {
      "metadata": {
        "id": "YT-f4eIRsDUT",
        "colab_type": "code",
        "colab": {
          "base_uri": "https://localhost:8080/",
          "height": 204
        },
        "outputId": "b7535ac0-f4e1-4054-b827-6ed32f255401"
      },
      "cell_type": "code",
      "source": [
        "print(classification_report(y_test_class, y_pred2_class, target_names=['egret','mandarin','owl','puffin','toucan','wood duck']))"
      ],
      "execution_count": 138,
      "outputs": [
        {
          "output_type": "stream",
          "text": [
            "             precision    recall  f1-score   support\n",
            "\n",
            "      egret       0.97      1.00      0.99        34\n",
            "   mandarin       0.93      0.96      0.95        28\n",
            "        owl       1.00      1.00      1.00        35\n",
            "     puffin       0.97      0.92      0.95        39\n",
            "     toucan       0.97      0.97      0.97        32\n",
            "  wood duck       1.00      1.00      1.00        30\n",
            "\n",
            "avg / total       0.97      0.97      0.97       198\n",
            "\n"
          ],
          "name": "stdout"
        }
      ]
    },
    {
      "metadata": {
        "id": "VZ0QS6XVtcu-",
        "colab_type": "text"
      },
      "cell_type": "markdown",
      "source": [
        "Luego de usar el modelo MobileNet ajustado para predecir únicamente las seis categorías de aves de la base de datos se observa que el modelo tiene una precisión global del 97%."
      ]
    },
    {
      "metadata": {
        "id": "R3nsWIlcxpIs",
        "colab_type": "text"
      },
      "cell_type": "markdown",
      "source": [
        "## 3. Fine tuning\n",
        "* Repeat the experiment from the last question, but this time allow all the layers to be trained.\n"
      ]
    },
    {
      "metadata": {
        "id": "78dZksiQKzO-",
        "colab_type": "code",
        "colab": {}
      },
      "cell_type": "code",
      "source": [
        "model_mn = applications.MobileNet(include_top=False, weights='imagenet', input_shape=(224, 224, 3))\n",
        "\n",
        "for layer in model_mn.layers[:-4]:\n",
        "    layer.trainable = False"
      ],
      "execution_count": 0,
      "outputs": []
    },
    {
      "metadata": {
        "id": "68pMm1JNHYjd",
        "colab_type": "code",
        "colab": {
          "base_uri": "https://localhost:8080/",
          "height": 306
        },
        "outputId": "9dc786a2-fc9b-4acc-f68e-a0c405ee078a"
      },
      "cell_type": "code",
      "source": [
        "# Create the model\n",
        "model3 = Sequential()\n",
        " \n",
        "# Add the vgg convolutional base model\n",
        "model3.add(model_mn)\n",
        " \n",
        "# Add new layers\n",
        "model3.add(Flatten())\n",
        "model3.add(Dense(1024, activation='sigmoid'))\n",
        "model3.add(Dropout(0.5))\n",
        "model3.add(Dense(6, activation='softmax'))\n",
        "\n",
        "model3.summary()"
      ],
      "execution_count": 132,
      "outputs": [
        {
          "output_type": "stream",
          "text": [
            "_________________________________________________________________\n",
            "Layer (type)                 Output Shape              Param #   \n",
            "=================================================================\n",
            "mobilenet_1.00_224 (Model)   (None, 7, 7, 1024)        3228864   \n",
            "_________________________________________________________________\n",
            "flatten_19 (Flatten)         (None, 50176)             0         \n",
            "_________________________________________________________________\n",
            "dense_25 (Dense)             (None, 1024)              51381248  \n",
            "_________________________________________________________________\n",
            "dropout_9 (Dropout)          (None, 1024)              0         \n",
            "_________________________________________________________________\n",
            "dense_26 (Dense)             (None, 6)                 6150      \n",
            "=================================================================\n",
            "Total params: 54,616,262\n",
            "Trainable params: 52,438,022\n",
            "Non-trainable params: 2,178,240\n",
            "_________________________________________________________________\n"
          ],
          "name": "stdout"
        }
      ]
    },
    {
      "metadata": {
        "id": "Zo9zS6AhMahC",
        "colab_type": "code",
        "colab": {
          "base_uri": "https://localhost:8080/",
          "height": 343
        },
        "outputId": "c1ccc7bd-800a-4124-a9e6-ebd6854fcd4c"
      },
      "cell_type": "code",
      "source": [
        "model3.compile(optimizer=optimizers.SGD(lr=0.001),\n",
        "               loss='categorical_crossentropy',\n",
        "               metrics=['accuracy'])\n",
        "\n",
        "epochs=100\n",
        "\n",
        "model3.fit(X_train, y_train,\n",
        "          epochs=epochs,\n",
        "          validation_data=(X_test, y_test), shuffle=False,\n",
        "          callbacks=[PlotLossesKeras()])"
      ],
      "execution_count": 133,
      "outputs": [
        {
          "output_type": "display_data",
          "data": {
            "image/png": "[encoded data removed]",
            "text/plain": [
              "<matplotlib.figure.Figure at 0x7fd78a72edd8>"
            ]
          },
          "metadata": {
            "tags": []
          }
        },
        {
          "output_type": "execute_result",
          "data": {
            "text/plain": [
              "<keras.callbacks.History at 0x7fd7691d9f28>"
            ]
          },
          "metadata": {
            "tags": []
          },
          "execution_count": 133
        }
      ]
    },
    {
      "metadata": {
        "id": "pjRrYlZsgF1k",
        "colab_type": "code",
        "colab": {}
      },
      "cell_type": "code",
      "source": [
        "y_pred3=model3.predict(X_test)"
      ],
      "execution_count": 0,
      "outputs": []
    },
    {
      "metadata": {
        "id": "9ZSRAZ-2gSSM",
        "colab_type": "code",
        "colab": {}
      },
      "cell_type": "code",
      "source": [
        "y_pred3_class = np.argmax(y_pred3, axis=1)"
      ],
      "execution_count": 0,
      "outputs": []
    },
    {
      "metadata": {
        "id": "FxZWy7Ikgz25",
        "colab_type": "code",
        "colab": {}
      },
      "cell_type": "code",
      "source": [
        "mc3=confusion_matrix(y_test_class, y_pred3_class)"
      ],
      "execution_count": 0,
      "outputs": []
    },
    {
      "metadata": {
        "id": "UtOyukDjg2M9",
        "colab_type": "code",
        "colab": {
          "base_uri": "https://localhost:8080/",
          "height": 311
        },
        "outputId": "f94c022c-7662-4aa6-a2c0-06a08d17e9ac"
      },
      "cell_type": "code",
      "source": [
        "plt.figure\n",
        "plot_confusion_matrix(mc3, ['egret','mandarin','owl','puffin','toucan','wood duck'])"
      ],
      "execution_count": 147,
      "outputs": [
        {
          "output_type": "display_data",
          "data": {
            "image/png": "[encoded data removed]",
            "text/plain": [
              "<matplotlib.figure.Figure at 0x7fd7888fa518>"
            ]
          },
          "metadata": {
            "tags": []
          }
        }
      ]
    },
    {
      "metadata": {
        "id": "2_MVyWHJx1BH",
        "colab_type": "text"
      },
      "cell_type": "markdown",
      "source": [
        "* Compare and discuss the results."
      ]
    },
    {
      "metadata": {
        "id": "rhOnpEhoI0Lh",
        "colab_type": "code",
        "colab": {
          "base_uri": "https://localhost:8080/",
          "height": 204
        },
        "outputId": "f319ddbb-60a0-4c12-e8d7-8144333baa5d"
      },
      "cell_type": "code",
      "source": [
        "print(classification_report(y_test_class, y_pred3_class, target_names=['egret','mandarin','owl','puffin','toucan','wood duck']))"
      ],
      "execution_count": 148,
      "outputs": [
        {
          "output_type": "stream",
          "text": [
            "             precision    recall  f1-score   support\n",
            "\n",
            "      egret       1.00      1.00      1.00        34\n",
            "   mandarin       1.00      0.93      0.96        28\n",
            "        owl       1.00      1.00      1.00        35\n",
            "     puffin       0.95      1.00      0.97        39\n",
            "     toucan       1.00      1.00      1.00        32\n",
            "  wood duck       1.00      1.00      1.00        30\n",
            "\n",
            "avg / total       0.99      0.99      0.99       198\n",
            "\n"
          ],
          "name": "stdout"
        }
      ]
    },
    {
      "metadata": {
        "id": "NfNjMlN3hslG",
        "colab_type": "text"
      },
      "cell_type": "markdown",
      "source": [
        "Luego de usar el modelo MobileNet ajustado para predecir únicamente las seis categorías de aves de la base de datos se observa que el modelo tiene una precisión global del 99%, es decir, una ganancia de 2% de presición"
      ]
    }
  ]
}
