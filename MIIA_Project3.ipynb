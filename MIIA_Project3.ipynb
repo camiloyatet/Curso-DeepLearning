{
  "nbformat": 4,
  "nbformat_minor": 0,
  "metadata": {
    "colab": {
      "name": "20180721 imagenes color.ipynb",
      "version": "0.3.2",
      "provenance": [],
      "collapsed_sections": [],
      "include_colab_link": true
    },
    "kernelspec": {
      "name": "python3",
      "display_name": "Python 3"
    },
    "accelerator": "GPU"
  },
  "cells": [
    {
      "cell_type": "markdown",
      "metadata": {
        "id": "view-in-github",
        "colab_type": "text"
      },
      "source": [
        "[View in Colaboratory](https://colab.research.google.com/github/camiloyatet/Curso-DeepLearning/blob/master/MIIA_Project3.ipynb)"
      ]
    },
    {
      "metadata": {
        "id": "nKk5wkzvGsQQ",
        "colab_type": "text"
      },
      "cell_type": "markdown",
      "source": [
        "<img src=\"https://image.ibb.co/no3BeJ/Header1.png\" alt=\"Header1\" border=\"0\">\n",
        "\n",
        "\n",
        "\n",
        "---\n",
        "\n"
      ]
    },
    {
      "metadata": {
        "id": "SRqpXMRUojie",
        "colab_type": "text"
      },
      "cell_type": "markdown",
      "source": [
        "# Initializing session"
      ]
    },
    {
      "metadata": {
        "id": "UOYG5cGJInr3",
        "colab_type": "text"
      },
      "cell_type": "markdown",
      "source": [
        "The following code section allows to use Google Drive account as the storage unit in order to load the datasets for further analysis."
      ]
    },
    {
      "metadata": {
        "id": "jGewCYaf8bAR",
        "colab_type": "code",
        "colab": {
          "base_uri": "https://localhost:8080/",
          "height": 3233
        },
        "outputId": "59217975-3055-4150-d37d-4f3b36449023"
      },
      "cell_type": "code",
      "source": [
        "!apt-get install -y -qq software-properties-common python-software-properties module-init-tools\n",
        "!add-apt-repository -y ppa:alessandro-strada/ppa 2>&1 > /dev/null\n",
        "!apt-get update -qq 2>&1 > /dev/null\n",
        "!apt-get -y install -qq google-drive-ocamlfuse fuse\n",
        "!pip install livelossplot # Install new packages\n",
        "!pip install tqdm"
      ],
      "execution_count": 1,
      "outputs": [
        {
          "output_type": "stream",
          "text": [
            "Preconfiguring packages ...\n",
            "Selecting previously unselected package cron.\n",
            "(Reading database ... 18396 files and directories currently installed.)\n",
            "Preparing to unpack .../00-cron_3.0pl1-128ubuntu5_amd64.deb ...\n",
            "Unpacking cron (3.0pl1-128ubuntu5) ...\n",
            "Selecting previously unselected package libapparmor1:amd64.\n",
            "Preparing to unpack .../01-libapparmor1_2.11.0-2ubuntu17.1_amd64.deb ...\n",
            "Unpacking libapparmor1:amd64 (2.11.0-2ubuntu17.1) ...\n",
            "Selecting previously unselected package libdbus-1-3:amd64.\n",
            "Preparing to unpack .../02-libdbus-1-3_1.10.22-1ubuntu1_amd64.deb ...\n",
            "Unpacking libdbus-1-3:amd64 (1.10.22-1ubuntu1) ...\n",
            "Selecting previously unselected package dbus.\n",
            "Preparing to unpack .../03-dbus_1.10.22-1ubuntu1_amd64.deb ...\n",
            "Unpacking dbus (1.10.22-1ubuntu1) ...\n",
            "Selecting previously unselected package dirmngr.\n",
            "Preparing to unpack .../04-dirmngr_2.1.15-1ubuntu8.1_amd64.deb ...\n",
            "Unpacking dirmngr (2.1.15-1ubuntu8.1) ...\n",
            "Selecting previously unselected package distro-info-data.\n",
            "Preparing to unpack .../05-distro-info-data_0.36ubuntu0.2_all.deb ...\n",
            "Unpacking distro-info-data (0.36ubuntu0.2) ...\n",
            "Selecting previously unselected package libkmod2:amd64.\n",
            "Preparing to unpack .../06-libkmod2_24-1ubuntu2_amd64.deb ...\n",
            "Unpacking libkmod2:amd64 (24-1ubuntu2) ...\n",
            "Selecting previously unselected package kmod.\n",
            "Preparing to unpack .../07-kmod_24-1ubuntu2_amd64.deb ...\n",
            "Unpacking kmod (24-1ubuntu2) ...\n",
            "Selecting previously unselected package lsb-release.\n",
            "Preparing to unpack .../08-lsb-release_9.20160110ubuntu5_all.deb ...\n",
            "Unpacking lsb-release (9.20160110ubuntu5) ...\n",
            "Selecting previously unselected package libgirepository-1.0-1:amd64.\n",
            "Preparing to unpack .../09-libgirepository-1.0-1_1.54.1-1_amd64.deb ...\n",
            "Unpacking libgirepository-1.0-1:amd64 (1.54.1-1) ...\n",
            "Selecting previously unselected package gir1.2-glib-2.0:amd64.\n",
            "Preparing to unpack .../10-gir1.2-glib-2.0_1.54.1-1_amd64.deb ...\n",
            "Unpacking gir1.2-glib-2.0:amd64 (1.54.1-1) ...\n",
            "Selecting previously unselected package iso-codes.\n",
            "Preparing to unpack .../11-iso-codes_3.75-1_all.deb ...\n",
            "Unpacking iso-codes (3.75-1) ...\n",
            "Selecting previously unselected package libdbus-glib-1-2:amd64.\n",
            "Preparing to unpack .../12-libdbus-glib-1-2_0.108-2_amd64.deb ...\n",
            "Unpacking libdbus-glib-1-2:amd64 (0.108-2) ...\n",
            "Selecting previously unselected package python-apt-common.\n",
            "Preparing to unpack .../13-python-apt-common_1.4.0~beta3build2_all.deb ...\n",
            "Unpacking python-apt-common (1.4.0~beta3build2) ...\n",
            "Selecting previously unselected package python3-apt.\n",
            "Preparing to unpack .../14-python3-apt_1.4.0~beta3build2_amd64.deb ...\n",
            "Unpacking python3-apt (1.4.0~beta3build2) ...\n",
            "Selecting previously unselected package python3-dbus.\n",
            "Preparing to unpack .../15-python3-dbus_1.2.4-1build3_amd64.deb ...\n",
            "Unpacking python3-dbus (1.2.4-1build3) ...\n",
            "Selecting previously unselected package python3-gi.\n",
            "Preparing to unpack .../16-python3-gi_3.24.1-2build1_amd64.deb ...\n",
            "Unpacking python3-gi (3.24.1-2build1) ...\n",
            "Selecting previously unselected package module-init-tools.\n",
            "Preparing to unpack .../17-module-init-tools_24-1ubuntu2_all.deb ...\n",
            "Unpacking module-init-tools (24-1ubuntu2) ...\n",
            "Selecting previously unselected package python-apt.\n",
            "Preparing to unpack .../18-python-apt_1.4.0~beta3build2_amd64.deb ...\n",
            "Unpacking python-apt (1.4.0~beta3build2) ...\n",
            "Selecting previously unselected package python-pycurl.\n",
            "Preparing to unpack .../19-python-pycurl_7.43.0-2build2_amd64.deb ...\n",
            "Unpacking python-pycurl (7.43.0-2build2) ...\n",
            "Selecting previously unselected package python-software-properties.\n",
            "Preparing to unpack .../20-python-software-properties_0.96.24.17_all.deb ...\n",
            "Unpacking python-software-properties (0.96.24.17) ...\n",
            "Selecting previously unselected package python3-software-properties.\n",
            "Preparing to unpack .../21-python3-software-properties_0.96.24.17_all.deb ...\n",
            "Unpacking python3-software-properties (0.96.24.17) ...\n",
            "Selecting previously unselected package software-properties-common.\n",
            "Preparing to unpack .../22-software-properties-common_0.96.24.17_all.deb ...\n",
            "Unpacking software-properties-common (0.96.24.17) ...\n",
            "Selecting previously unselected package unattended-upgrades.\n",
            "Preparing to unpack .../23-unattended-upgrades_0.98ubuntu1.1_all.deb ...\n",
            "Unpacking unattended-upgrades (0.98ubuntu1.1) ...\n",
            "Setting up python-apt-common (1.4.0~beta3build2) ...\n",
            "Setting up python3-apt (1.4.0~beta3build2) ...\n"
          ],
          "name": "stdout"
        },
        {
          "output_type": "stream",
          "text": [
            "Setting up iso-codes (3.75-1) ...\r\n",
            "Setting up distro-info-data (0.36ubuntu0.2) ...\n",
            "Setting up python-pycurl (7.43.0-2build2) ...\n",
            "Setting up lsb-release (9.20160110ubuntu5) ...\n",
            "Setting up libgirepository-1.0-1:amd64 (1.54.1-1) ...\n",
            "Setting up libkmod2:amd64 (24-1ubuntu2) ...\n",
            "Setting up gir1.2-glib-2.0:amd64 (1.54.1-1) ...\n",
            "Processing triggers for libc-bin (2.26-0ubuntu2.1) ...\n",
            "Setting up libapparmor1:amd64 (2.11.0-2ubuntu17.1) ...\n",
            "Setting up unattended-upgrades (0.98ubuntu1.1) ...\n",
            "\n",
            "Creating config file /etc/apt/apt.conf.d/20auto-upgrades with new version\n",
            "\n",
            "Creating config file /etc/apt/apt.conf.d/50unattended-upgrades with new version\n",
            "invoke-rc.d: could not determine current runlevel\n",
            "invoke-rc.d: policy-rc.d denied execution of start.\n",
            "Setting up dirmngr (2.1.15-1ubuntu8.1) ...\n",
            "Setting up cron (3.0pl1-128ubuntu5) ...\n",
            "Adding group `crontab' (GID 102) ...\n",
            "Done.\n",
            "update-rc.d: warning: start and stop actions are no longer supported; falling back to defaults\n",
            "update-rc.d: warning: stop runlevel arguments (1) do not match cron Default-Stop values (none)\n",
            "invoke-rc.d: could not determine current runlevel\n",
            "invoke-rc.d: policy-rc.d denied execution of start.\n",
            "Setting up libdbus-1-3:amd64 (1.10.22-1ubuntu1) ...\n",
            "Setting up kmod (24-1ubuntu2) ...\n",
            "Setting up libdbus-glib-1-2:amd64 (0.108-2) ...\n",
            "Setting up python3-gi (3.24.1-2build1) ...\n",
            "Setting up module-init-tools (24-1ubuntu2) ...\n",
            "Setting up python3-software-properties (0.96.24.17) ...\n",
            "Setting up dbus (1.10.22-1ubuntu1) ...\n",
            "Setting up python-apt (1.4.0~beta3build2) ...\n",
            "Setting up python3-dbus (1.2.4-1build3) ...\n",
            "Setting up python-software-properties (0.96.24.17) ...\n",
            "Setting up software-properties-common (0.96.24.17) ...\n",
            "Processing triggers for libc-bin (2.26-0ubuntu2.1) ...\n",
            "Processing triggers for dbus (1.10.22-1ubuntu1) ...\n",
            "gpg: keybox '/tmp/tmpij9jv8j_/pubring.gpg' created\n",
            "gpg: /tmp/tmpij9jv8j_/trustdb.gpg: trustdb created\n",
            "gpg: key AD5F235DF639B041: public key \"Launchpad PPA for Alessandro Strada\" imported\n",
            "gpg: Total number processed: 1\n",
            "gpg:               imported: 1\n",
            "Warning: apt-key output should not be parsed (stdout is not a terminal)\n",
            "Selecting previously unselected package libfuse2:amd64.\n",
            "(Reading database ... 19804 files and directories currently installed.)\n",
            "Preparing to unpack .../libfuse2_2.9.7-1ubuntu1_amd64.deb ...\n",
            "Unpacking libfuse2:amd64 (2.9.7-1ubuntu1) ...\n",
            "Selecting previously unselected package fuse.\n",
            "Preparing to unpack .../fuse_2.9.7-1ubuntu1_amd64.deb ...\n",
            "Unpacking fuse (2.9.7-1ubuntu1) ...\n",
            "Selecting previously unselected package google-drive-ocamlfuse.\n",
            "Preparing to unpack .../google-drive-ocamlfuse_0.6.21-0ubuntu2_amd64.deb ...\n",
            "Unpacking google-drive-ocamlfuse (0.6.21-0ubuntu2) ...\n",
            "Setting up libfuse2:amd64 (2.9.7-1ubuntu1) ...\n",
            "Processing triggers for libc-bin (2.26-0ubuntu2.1) ...\n",
            "Setting up fuse (2.9.7-1ubuntu1) ...\n",
            "Setting up google-drive-ocamlfuse (0.6.21-0ubuntu2) ...\n",
            "Collecting livelossplot\n",
            "  Downloading https://files.pythonhosted.org/packages/0c/01/3e34559dbdb98580d5e8f62bc3853975c2a2079834bfba2c1bdffe680804/livelossplot-0.2.0.tar.gz\n",
            "Requirement already satisfied: matplotlib in /usr/local/lib/python3.6/dist-packages (from livelossplot) (2.1.2)\n",
            "Requirement already satisfied: notebook in /usr/local/lib/python3.6/dist-packages (from livelossplot) (5.2.2)\n",
            "Requirement already satisfied: numpy>=1.7.1 in /usr/local/lib/python3.6/dist-packages (from matplotlib->livelossplot) (1.14.5)\n",
            "Requirement already satisfied: pytz in /usr/local/lib/python3.6/dist-packages (from matplotlib->livelossplot) (2018.5)\n",
            "Requirement already satisfied: pyparsing!=2.0.4,!=2.1.2,!=2.1.6,>=2.0.1 in /usr/local/lib/python3.6/dist-packages (from matplotlib->livelossplot) (2.2.0)\n",
            "Requirement already satisfied: cycler>=0.10 in /usr/local/lib/python3.6/dist-packages (from matplotlib->livelossplot) (0.10.0)\n",
            "Requirement already satisfied: six>=1.10 in /usr/local/lib/python3.6/dist-packages (from matplotlib->livelossplot) (1.11.0)\n",
            "Requirement already satisfied: python-dateutil>=2.1 in /usr/local/lib/python3.6/dist-packages (from matplotlib->livelossplot) (2.5.3)\n",
            "Requirement already satisfied: ipykernel in /usr/local/lib/python3.6/dist-packages (from notebook->livelossplot) (4.6.1)\n",
            "Requirement already satisfied: jinja2 in /usr/local/lib/python3.6/dist-packages (from notebook->livelossplot) (2.10)\n",
            "Requirement already satisfied: nbconvert in /usr/local/lib/python3.6/dist-packages (from notebook->livelossplot) (5.3.1)\n",
            "Requirement already satisfied: traitlets>=4.2.1 in /usr/local/lib/python3.6/dist-packages (from notebook->livelossplot) (4.3.2)\n",
            "Requirement already satisfied: nbformat in /usr/local/lib/python3.6/dist-packages (from notebook->livelossplot) (4.4.0)\n",
            "Requirement already satisfied: tornado>=4 in /usr/local/lib/python3.6/dist-packages (from notebook->livelossplot) (4.5.3)\n",
            "Requirement already satisfied: jupyter-core in /usr/local/lib/python3.6/dist-packages (from notebook->livelossplot) (4.4.0)\n",
            "Requirement already satisfied: ipython-genutils in /usr/local/lib/python3.6/dist-packages (from notebook->livelossplot) (0.2.0)\n",
            "Requirement already satisfied: jupyter-client in /usr/local/lib/python3.6/dist-packages (from notebook->livelossplot) (5.2.3)\n",
            "Requirement already satisfied: terminado>=0.3.3; sys_platform != \"win32\" in /usr/local/lib/python3.6/dist-packages (from notebook->livelossplot) (0.8.1)\n",
            "Requirement already satisfied: ipython>=4.0.0 in /usr/local/lib/python3.6/dist-packages (from ipykernel->notebook->livelossplot) (5.5.0)\n",
            "Requirement already satisfied: MarkupSafe>=0.23 in /usr/local/lib/python3.6/dist-packages (from jinja2->notebook->livelossplot) (1.0)\n",
            "Requirement already satisfied: bleach in /usr/local/lib/python3.6/dist-packages (from nbconvert->notebook->livelossplot) (2.1.3)\n",
            "Requirement already satisfied: mistune>=0.7.4 in /usr/local/lib/python3.6/dist-packages (from nbconvert->notebook->livelossplot) (0.8.3)\n",
            "Requirement already satisfied: entrypoints>=0.2.2 in /usr/local/lib/python3.6/dist-packages (from nbconvert->notebook->livelossplot) (0.2.3)\n",
            "Requirement already satisfied: pandocfilters>=1.4.1 in /usr/local/lib/python3.6/dist-packages (from nbconvert->notebook->livelossplot) (1.4.2)\n",
            "Requirement already satisfied: testpath in /usr/local/lib/python3.6/dist-packages (from nbconvert->notebook->livelossplot) (0.3.1)\n",
            "Requirement already satisfied: pygments in /usr/local/lib/python3.6/dist-packages (from nbconvert->notebook->livelossplot) (2.1.3)\n",
            "Requirement already satisfied: decorator in /usr/local/lib/python3.6/dist-packages (from traitlets>=4.2.1->notebook->livelossplot) (4.3.0)\n",
            "Requirement already satisfied: jsonschema!=2.5.0,>=2.4 in /usr/local/lib/python3.6/dist-packages (from nbformat->notebook->livelossplot) (2.6.0)\n",
            "Requirement already satisfied: pyzmq>=13 in /usr/local/lib/python3.6/dist-packages (from jupyter-client->notebook->livelossplot) (16.0.4)\n",
            "Requirement already satisfied: ptyprocess; os_name != \"nt\" in /usr/local/lib/python3.6/dist-packages (from terminado>=0.3.3; sys_platform != \"win32\"->notebook->livelossplot) (0.6.0)\n",
            "Requirement already satisfied: pickleshare in /usr/local/lib/python3.6/dist-packages (from ipython>=4.0.0->ipykernel->notebook->livelossplot) (0.7.4)\n",
            "Requirement already satisfied: setuptools>=18.5 in /usr/local/lib/python3.6/dist-packages (from ipython>=4.0.0->ipykernel->notebook->livelossplot) (39.1.0)\n",
            "Requirement already satisfied: simplegeneric>0.8 in /usr/local/lib/python3.6/dist-packages (from ipython>=4.0.0->ipykernel->notebook->livelossplot) (0.8.1)\n",
            "Requirement already satisfied: pexpect; sys_platform != \"win32\" in /usr/local/lib/python3.6/dist-packages (from ipython>=4.0.0->ipykernel->notebook->livelossplot) (4.6.0)\n",
            "Requirement already satisfied: prompt-toolkit<2.0.0,>=1.0.4 in /usr/local/lib/python3.6/dist-packages (from ipython>=4.0.0->ipykernel->notebook->livelossplot) (1.0.15)\n",
            "Requirement already satisfied: html5lib!=1.0b1,!=1.0b2,!=1.0b3,!=1.0b4,!=1.0b5,!=1.0b6,!=1.0b7,!=1.0b8,>=0.99999999pre in /usr/local/lib/python3.6/dist-packages (from bleach->nbconvert->notebook->livelossplot) (1.0.1)\n",
            "Requirement already satisfied: wcwidth in /usr/local/lib/python3.6/dist-packages (from prompt-toolkit<2.0.0,>=1.0.4->ipython>=4.0.0->ipykernel->notebook->livelossplot) (0.1.7)\n",
            "Requirement already satisfied: webencodings in /usr/local/lib/python3.6/dist-packages (from html5lib!=1.0b1,!=1.0b2,!=1.0b3,!=1.0b4,!=1.0b5,!=1.0b6,!=1.0b7,!=1.0b8,>=0.99999999pre->bleach->nbconvert->notebook->livelossplot) (0.5.1)\n",
            "Building wheels for collected packages: livelossplot\n"
          ],
          "name": "stdout"
        },
        {
          "output_type": "stream",
          "text": [
            "  Running setup.py bdist_wheel for livelossplot ... \u001b[?25l-\b \b\\\b \bdone\n",
            "\u001b[?25h  Stored in directory: /content/.cache/pip/wheels/67/8b/e9/3990164e3b2a421145b9d9d76fc8aa889225d495b043faeb73\n",
            "Successfully built livelossplot\n",
            "Installing collected packages: livelossplot\n",
            "Successfully installed livelossplot-0.2.0\n",
            "\u001b[33mYou are using pip version 10.0.1, however version 18.0 is available.\n",
            "You should consider upgrading via the 'pip install --upgrade pip' command.\u001b[0m\n",
            "Collecting tqdm\n",
            "\u001b[?25l  Downloading https://files.pythonhosted.org/packages/93/24/6ab1df969db228aed36a648a8959d1027099ce45fad67532b9673d533318/tqdm-4.23.4-py2.py3-none-any.whl (42kB)\n",
            "\u001b[K    100% |████████████████████████████████| 51kB 2.3MB/s \n",
            "\u001b[?25hInstalling collected packages: tqdm\n",
            "Successfully installed tqdm-4.23.4\n",
            "\u001b[33mYou are using pip version 10.0.1, however version 18.0 is available.\n",
            "You should consider upgrading via the 'pip install --upgrade pip' command.\u001b[0m\n"
          ],
          "name": "stdout"
        }
      ]
    },
    {
      "metadata": {
        "id": "t2CDhrZT8f2v",
        "colab_type": "code",
        "colab": {}
      },
      "cell_type": "code",
      "source": [
        "from google.colab import auth\n",
        "auth.authenticate_user()"
      ],
      "execution_count": 0,
      "outputs": []
    },
    {
      "metadata": {
        "id": "zDWXmSmn8ii6",
        "colab_type": "code",
        "colab": {
          "base_uri": "https://localhost:8080/",
          "height": 34
        },
        "outputId": "52913a98-de46-42dc-e41f-68a3fcf8babb"
      },
      "cell_type": "code",
      "source": [
        "from oauth2client.client import GoogleCredentials\n",
        "creds = GoogleCredentials.get_application_default()\n",
        "import getpass\n",
        "!google-drive-ocamlfuse -headless -id={creds.client_id} -secret={creds.client_secret} < /dev/null 2>&1 | grep URL\n",
        "vcode = getpass.getpass()\n",
        "!echo {vcode} | google-drive-ocamlfuse -headless -id={creds.client_id} -secret={creds.client_secret}"
      ],
      "execution_count": 0,
      "outputs": [
        {
          "output_type": "stream",
          "text": [
            "··········\n"
          ],
          "name": "stdout"
        }
      ]
    },
    {
      "metadata": {
        "id": "9fOUxQrKxL0d",
        "colab_type": "code",
        "colab": {
          "base_uri": "https://localhost:8080/",
          "height": 34
        },
        "outputId": "2c921448-55e8-4d15-f9b9-b48ea9f86f81"
      },
      "cell_type": "code",
      "source": [
        "import pandas as pd\n",
        "import os\n",
        "import numpy as np\n",
        "from sklearn.preprocessing import MultiLabelBinarizer\n",
        "from sklearn.multiclass import OneVsRestClassifier\n",
        "from sklearn.ensemble import RandomForestRegressor, RandomForestClassifier\n",
        "from sklearn.metrics import r2_score, roc_auc_score\n",
        "from sklearn.model_selection import train_test_split\n",
        "from sklearn.decomposition import PCA\n",
        "import matplotlib.pyplot as plt\n",
        "from skimage import io\n",
        "from tqdm import tqdm\n",
        "import os\n",
        "from keras.models import Sequential\n",
        "from keras.layers import Conv2D, MaxPooling2D\n",
        "from keras.layers import Activation, Dropout, Flatten, Dense\n",
        "from keras import backend as K\n",
        "%matplotlib inline"
      ],
      "execution_count": 0,
      "outputs": [
        {
          "output_type": "stream",
          "text": [
            "Using TensorFlow backend.\n"
          ],
          "name": "stderr"
        }
      ]
    },
    {
      "metadata": {
        "id": "Mibk6VVY8kcW",
        "colab_type": "code",
        "colab": {
          "base_uri": "https://localhost:8080/",
          "height": 51
        },
        "outputId": "1ef2d2be-0c99-4118-df75-b2d10993e1ad"
      },
      "cell_type": "code",
      "source": [
        "!mkdir -p drive\n",
        "!google-drive-ocamlfuse drive"
      ],
      "execution_count": 0,
      "outputs": [
        {
          "output_type": "stream",
          "text": [
            "fuse: mountpoint is not empty\r\n",
            "fuse: if you are sure this is safe, use the 'nonempty' mount option\r\n"
          ],
          "name": "stdout"
        }
      ]
    },
    {
      "metadata": {
        "id": "gYINDy-Ckb7E",
        "colab_type": "text"
      },
      "cell_type": "markdown",
      "source": [
        "# **Loading information**"
      ]
    },
    {
      "metadata": {
        "id": "31z8YwlOkg1v",
        "colab_type": "text"
      },
      "cell_type": "markdown",
      "source": [
        "### Images\n",
        "\n",
        "In order to apply transfer learning with VGG16 model, we predict the output of the last layer (ignoring the last layer of the original model which has an 1.000 shape output).\n",
        "\n",
        "We previously procesed the image to transform it into an array object. click [here](https://github.com/nlozadah/Curso-DeepLearning/blob/master/Proyecto1/Proccesing%20images.ipynb) to see the proccess\n"
      ]
    },
    {
      "metadata": {
        "id": "BIf27ad_8mRm",
        "colab_type": "code",
        "colab": {
          "base_uri": "https://localhost:8080/",
          "height": 136
        },
        "outputId": "46e8f33f-e0a7-453d-fba7-334a88d97e29"
      },
      "cell_type": "code",
      "source": [
        "#Files in drive\n",
        "print('Files in Drive:')\n",
        "!ls drive/Python/Proyecto_final"
      ],
      "execution_count": 0,
      "outputs": [
        {
          "output_type": "stream",
          "text": [
            "Files in Drive:\n",
            "20180717_images_gris_test_.txt\t images_resize_gray\n",
            "20180717_images_gris_train_.txt  images_testing_gray.txt\n",
            "dataTesting.csv\t\t\t images_training_gray.txt\n",
            "dataTraining.csv\t\t testing_color_160.txt\n",
            "images_gris_test_forma_2.txt\t training_color_160.txt\n",
            "images_gris_train_forma_2.txt\n"
          ],
          "name": "stdout"
        }
      ]
    },
    {
      "metadata": {
        "id": "zxI3h4yomLFv",
        "colab_type": "text"
      },
      "cell_type": "markdown",
      "source": [
        "Loading train color images in shape (,5,5,512)"
      ]
    },
    {
      "metadata": {
        "id": "AiXxWYoMjL5S",
        "colab_type": "code",
        "colab": {}
      },
      "cell_type": "code",
      "source": [
        "import pickle\n",
        "\n",
        " \n",
        "with open(\"drive/Python/Proyecto_final/training_color_160.txt\", \"rb\") as fp:   # Unpickling\n",
        "   images_training_color = pickle.load(fp)"
      ],
      "execution_count": 0,
      "outputs": []
    },
    {
      "metadata": {
        "id": "0BgtJR2QmUtm",
        "colab_type": "text"
      },
      "cell_type": "markdown",
      "source": [
        "Loading test color images in shape (,5,5,512)"
      ]
    },
    {
      "metadata": {
        "id": "a9Fs6fDBNQRR",
        "colab_type": "code",
        "colab": {}
      },
      "cell_type": "code",
      "source": [
        "import pickle\n",
        " \n",
        "with open(\"drive/Python/Proyecto_final/testing_color_160.txt\", \"rb\") as fp:   # Unpickling\n",
        "   images_testing_color = pickle.load(fp)"
      ],
      "execution_count": 0,
      "outputs": []
    },
    {
      "metadata": {
        "id": "k2kHTtmSNe-f",
        "colab_type": "code",
        "colab": {
          "base_uri": "https://localhost:8080/",
          "height": 51
        },
        "outputId": "730c0f29-fc74-46fd-8a8d-af3bea5b9338"
      },
      "cell_type": "code",
      "source": [
        "print(images_training_color.shape)\n",
        "print(images_testing_color.shape)"
      ],
      "execution_count": 0,
      "outputs": [
        {
          "output_type": "stream",
          "text": [
            "(7895, 5, 5, 512)\n",
            "(3383, 5, 5, 512)\n"
          ],
          "name": "stdout"
        }
      ]
    },
    {
      "metadata": {
        "id": "gPsjM-eRnVFE",
        "colab_type": "text"
      },
      "cell_type": "markdown",
      "source": [
        "### Text"
      ]
    },
    {
      "metadata": {
        "id": "oNI1K8mG1-_i",
        "colab_type": "text"
      },
      "cell_type": "markdown",
      "source": [
        "Now we load the text information, this files also have the category of each movie in training data set"
      ]
    },
    {
      "metadata": {
        "id": "J9_KZRaQzEd6",
        "colab_type": "code",
        "colab": {}
      },
      "cell_type": "code",
      "source": [
        "path = 'drive/Python/Proyecto_final'\n",
        "dataTraining = pd.read_csv(os.path.join(path, '', 'dataTraining.csv'), encoding='UTF-8', index_col=0)\n",
        "dataTesting = pd.read_csv(os.path.join(path, '', 'dataTesting.csv'), encoding='UTF-8', index_col=0)\n",
        "dataTraining['genres'] = dataTraining['genres'].map(lambda x: eval(x))\n",
        "le = MultiLabelBinarizer()\n",
        "y_genres = le.fit_transform(dataTraining['genres'])"
      ],
      "execution_count": 0,
      "outputs": []
    },
    {
      "metadata": {
        "id": "1TyCTNa2WOfG",
        "colab_type": "text"
      },
      "cell_type": "markdown",
      "source": [
        "# Maching learning Models"
      ]
    },
    {
      "metadata": {
        "id": "lHEuNSsfYqj9",
        "colab_type": "text"
      },
      "cell_type": "markdown",
      "source": [
        "### For images"
      ]
    },
    {
      "metadata": {
        "id": "lk-gVBv4YIe_",
        "colab_type": "text"
      },
      "cell_type": "markdown",
      "source": [
        "Loading black and white images. We apply a Flatten so the shape of the final file is (x, 40960). to see the code tha proccess this images click [here](https://github.com/albahnsen/AppliedDeepLearningClass/blob/master/finalProject/ExampleImgRF.ipynb)"
      ]
    },
    {
      "metadata": {
        "id": "qlp_K-JBWUOX",
        "colab_type": "code",
        "colab": {}
      },
      "cell_type": "code",
      "source": [
        "import pickle\n",
        "\n",
        "with open(\"drive/Python/Proyecto_final/images_training_gray.txt\", \"rb\") as fp:   # Unpickling\n",
        "   images_training_gray_planas = pickle.load(fp)"
      ],
      "execution_count": 0,
      "outputs": []
    },
    {
      "metadata": {
        "id": "hBKS6gYPXEOO",
        "colab_type": "code",
        "colab": {}
      },
      "cell_type": "code",
      "source": [
        "with open(\"drive/Python/Proyecto_final/images_testing_gray.txt\", \"rb\") as fp:   # Unpickling\n",
        "   images_testing_gray_planas = pickle.load(fp)"
      ],
      "execution_count": 0,
      "outputs": []
    },
    {
      "metadata": {
        "id": "rwXHIQaxXKKQ",
        "colab_type": "code",
        "colab": {
          "base_uri": "https://localhost:8080/",
          "height": 34
        },
        "outputId": "a9bc5468-fe6c-4f2a-bb6f-738cbb6addcd"
      },
      "cell_type": "code",
      "source": [
        "print(images_training_gray_planas.shape,images_testing_gray_planas.shape)"
      ],
      "execution_count": 0,
      "outputs": [
        {
          "output_type": "stream",
          "text": [
            "(7895, 40960) (3383, 40960)\n"
          ],
          "name": "stdout"
        }
      ]
    },
    {
      "metadata": {
        "id": "K5X5l9IVXSyp",
        "colab_type": "text"
      },
      "cell_type": "markdown",
      "source": [
        "### Principal Component Analysis"
      ]
    },
    {
      "metadata": {
        "id": "u4bZ5XNE6VKO",
        "colab_type": "text"
      },
      "cell_type": "markdown",
      "source": [
        "We apply PCA to reduce the dimension of the features, only keep the first 32 principal components"
      ]
    },
    {
      "metadata": {
        "id": "WEeHHUU-XVMG",
        "colab_type": "code",
        "colab": {}
      },
      "cell_type": "code",
      "source": [
        "pca = PCA(n_components=32)\n",
        "images_training_pca = pca.fit_transform(images_training_gray_planas)"
      ],
      "execution_count": 0,
      "outputs": []
    },
    {
      "metadata": {
        "id": "u2tvXToeXdHE",
        "colab_type": "code",
        "colab": {}
      },
      "cell_type": "code",
      "source": [
        "images_testing_pca = pca.transform(images_testing_gray_planas)"
      ],
      "execution_count": 0,
      "outputs": []
    },
    {
      "metadata": {
        "id": "DVlPSA7X6h_l",
        "colab_type": "text"
      },
      "cell_type": "markdown",
      "source": [
        "Split train and test from de training dataset where *Y* is known"
      ]
    },
    {
      "metadata": {
        "id": "77bC8ZdyXk1O",
        "colab_type": "code",
        "colab": {}
      },
      "cell_type": "code",
      "source": [
        "X_train_pca, X_test_pca, y_train_genres_pca, y_test_genres_pca = train_test_split(images_training_pca, y_genres, test_size=0.33, random_state=42)"
      ],
      "execution_count": 0,
      "outputs": []
    },
    {
      "metadata": {
        "id": "dKv8Xlv0XxOc",
        "colab_type": "text"
      },
      "cell_type": "markdown",
      "source": [
        "### Random Forest Classifier"
      ]
    },
    {
      "metadata": {
        "id": "0h_eD1bNXsv-",
        "colab_type": "code",
        "colab": {
          "base_uri": "https://localhost:8080/",
          "height": 136
        },
        "outputId": "e1813b08-b61a-4094-9e70-253ab2b43318"
      },
      "cell_type": "code",
      "source": [
        "clf_RF = OneVsRestClassifier(RandomForestClassifier(n_jobs=-1, n_estimators=100, max_depth=10, random_state=42))\n",
        "clf_RF.fit(X_train_pca, y_train_genres_pca)"
      ],
      "execution_count": 0,
      "outputs": [
        {
          "output_type": "execute_result",
          "data": {
            "text/plain": [
              "OneVsRestClassifier(estimator=RandomForestClassifier(bootstrap=True, class_weight=None, criterion='gini',\n",
              "            max_depth=10, max_features='auto', max_leaf_nodes=None,\n",
              "            min_impurity_decrease=0.0, min_impurity_split=None,\n",
              "            min_samples_leaf=1, min_samples_split=2,\n",
              "            min_weight_fraction_leaf=0.0, n_estimators=100, n_jobs=-1,\n",
              "            oob_score=False, random_state=42, verbose=0, warm_start=False),\n",
              "          n_jobs=1)"
            ]
          },
          "metadata": {
            "tags": []
          },
          "execution_count": 16
        }
      ]
    },
    {
      "metadata": {
        "id": "W6h2aaIk6pSa",
        "colab_type": "text"
      },
      "cell_type": "markdown",
      "source": [
        "### Model's Performance Evaluation"
      ]
    },
    {
      "metadata": {
        "id": "xMiAj0J5X7EX",
        "colab_type": "code",
        "colab": {
          "base_uri": "https://localhost:8080/",
          "height": 34
        },
        "outputId": "e72d18bf-161d-431d-9ff9-67b49c122f43"
      },
      "cell_type": "code",
      "source": [
        "y_pred_genres = clf_RF.predict_proba(X_test_pca)\n",
        "roc_auc_score(y_test_genres_pca, y_pred_genres, average='macro')"
      ],
      "execution_count": 0,
      "outputs": [
        {
          "output_type": "execute_result",
          "data": {
            "text/plain": [
              "0.5856816010973874"
            ]
          },
          "metadata": {
            "tags": []
          },
          "execution_count": 17
        }
      ]
    },
    {
      "metadata": {
        "id": "JCsSPD7SYwYA",
        "colab_type": "text"
      },
      "cell_type": "markdown",
      "source": [
        "### For text"
      ]
    },
    {
      "metadata": {
        "id": "qWSShFAQ6ubM",
        "colab_type": "text"
      },
      "cell_type": "markdown",
      "source": [
        "Split train and test from de training dataset where we know Y"
      ]
    },
    {
      "metadata": {
        "id": "3sdtXWE9YyqY",
        "colab_type": "code",
        "colab": {}
      },
      "cell_type": "code",
      "source": [
        "X_train_texto, X_test_texto, y_train_genres_texto, y_test_genres_texto = train_test_split(dataTraining['plot']\n",
        "                                                                  , y_genres, test_size=0.33, random_state=42)"
      ],
      "execution_count": 0,
      "outputs": []
    },
    {
      "metadata": {
        "id": "JulAcISl6z1L",
        "colab_type": "text"
      },
      "cell_type": "markdown",
      "source": [
        "We apply countvectorizer with ngram of 1 to 2 words. Only keep the first 2000.\n",
        "To buid this we use train, and then we apply countvectorizer to test"
      ]
    },
    {
      "metadata": {
        "id": "_yHbhoIJYytG",
        "colab_type": "code",
        "colab": {}
      },
      "cell_type": "code",
      "source": [
        "from sklearn.feature_extraction.text import CountVectorizer\n",
        "vect = CountVectorizer(ngram_range=(1, 2), max_features=2000)\n",
        "X_dtm = vect.fit(X_train_texto)\n",
        "X_train_transformado = vect.transform(X_train_texto)\n",
        "X_train_transformado.shape\n",
        "X_test_transformado = vect.transform(X_test_texto)"
      ],
      "execution_count": 0,
      "outputs": []
    },
    {
      "metadata": {
        "id": "vylwnaSP7MpT",
        "colab_type": "text"
      },
      "cell_type": "markdown",
      "source": [
        "### Random Forest Classifier"
      ]
    },
    {
      "metadata": {
        "id": "61XeDK3MZOS-",
        "colab_type": "code",
        "colab": {
          "base_uri": "https://localhost:8080/",
          "height": 136
        },
        "outputId": "ae1b843c-463e-4dea-ceb4-a553e40902c9"
      },
      "cell_type": "code",
      "source": [
        "clf = OneVsRestClassifier(RandomForestClassifier(n_jobs=-1, n_estimators=100, max_depth=10, random_state=42))\n",
        "clf.fit(X_train_transformado, y_train_genres_texto)"
      ],
      "execution_count": 0,
      "outputs": [
        {
          "output_type": "execute_result",
          "data": {
            "text/plain": [
              "OneVsRestClassifier(estimator=RandomForestClassifier(bootstrap=True, class_weight=None, criterion='gini',\n",
              "            max_depth=10, max_features='auto', max_leaf_nodes=None,\n",
              "            min_impurity_decrease=0.0, min_impurity_split=None,\n",
              "            min_samples_leaf=1, min_samples_split=2,\n",
              "            min_weight_fraction_leaf=0.0, n_estimators=100, n_jobs=-1,\n",
              "            oob_score=False, random_state=42, verbose=0, warm_start=False),\n",
              "          n_jobs=1)"
            ]
          },
          "metadata": {
            "tags": []
          },
          "execution_count": 20
        }
      ]
    },
    {
      "metadata": {
        "id": "WgBGNKEN7P09",
        "colab_type": "text"
      },
      "cell_type": "markdown",
      "source": [
        "### Model's Performance Evaluation"
      ]
    },
    {
      "metadata": {
        "id": "G_LfnPciZW5O",
        "colab_type": "code",
        "colab": {
          "base_uri": "https://localhost:8080/",
          "height": 34
        },
        "outputId": "48ce94d5-4208-4400-c2fc-fea0b1e9b6b1"
      },
      "cell_type": "code",
      "source": [
        "\n",
        "y_pred_genres  = clf.predict_proba(vect.transform(X_test_texto))\n",
        "roc_auc_score(y_test_genres_texto, y_pred_genres, average='macro')"
      ],
      "execution_count": 0,
      "outputs": [
        {
          "output_type": "execute_result",
          "data": {
            "text/plain": [
              "0.7667896830482425"
            ]
          },
          "metadata": {
            "tags": []
          },
          "execution_count": 21
        }
      ]
    },
    {
      "metadata": {
        "id": "vapOFB0lZuAG",
        "colab_type": "text"
      },
      "cell_type": "markdown",
      "source": [
        "### Average Union"
      ]
    },
    {
      "metadata": {
        "id": "q4uf-aM27SbS",
        "colab_type": "text"
      },
      "cell_type": "markdown",
      "source": [
        "To use image and text with maching learning models, mean is computesd as the average the prediction of the both models."
      ]
    },
    {
      "metadata": {
        "id": "hGdsLDG2Zyp9",
        "colab_type": "code",
        "colab": {}
      },
      "cell_type": "code",
      "source": [
        "from sklearn.model_selection import train_test_split\n",
        "X_train_ima_machin, X_test_ima_machin, y_train_ima_machin, y_test_ima_machin, X_train_texto_machin, X_Test_texto_machin = train_test_split(\n",
        "    images_training_gray_planas, y_genres,dataTraining['plot'], test_size=0.33, random_state=31415)\n"
      ],
      "execution_count": 0,
      "outputs": []
    },
    {
      "metadata": {
        "id": "pA_PpDyiaoE2",
        "colab_type": "code",
        "colab": {
          "base_uri": "https://localhost:8080/",
          "height": 68
        },
        "outputId": "a29034b2-2558-412c-cf0e-f0e2973e0e3c"
      },
      "cell_type": "code",
      "source": [
        "Prediccion_texto = clf.predict_proba(vect.transform(X_Test_texto_machin))\n",
        "Prediccion_imagen = clf_RF.predict_proba(pca.transform(X_test_ima_machin))\n",
        "print(\"tamano texto\", Prediccion_texto.shape)\n",
        "print(\"tamano imagen\", Prediccion_imagen.shape)\n",
        "union_promedio = (Prediccion_texto + Prediccion_imagen)/2\n",
        "\n",
        "roc_auc_score(y_test_ima_machin, union_promedio, average='macro')"
      ],
      "execution_count": 0,
      "outputs": [
        {
          "output_type": "stream",
          "text": [
            "tamano texto (2606, 24)\n",
            "tamano imagen (2606, 24)\n"
          ],
          "name": "stdout"
        },
        {
          "output_type": "execute_result",
          "data": {
            "text/plain": [
              "0.9183003583884283"
            ]
          },
          "metadata": {
            "tags": []
          },
          "execution_count": 23
        }
      ]
    },
    {
      "metadata": {
        "id": "COT1N4n-7g3L",
        "colab_type": "text"
      },
      "cell_type": "markdown",
      "source": [
        "The following lines export the result to csv file"
      ]
    },
    {
      "metadata": {
        "id": "pq6WnOqqbuoN",
        "colab_type": "code",
        "colab": {}
      },
      "cell_type": "code",
      "source": [
        "#x_kaggle_avg = np.concatenate((model_text.predict_proba(vect.transform(dataTesting['plot'])), model_transfer_learning.predict_proba(images_test_vgg)), axis=1)\n",
        "y_pred_avg = (clf.predict_proba(vect.transform(dataTesting['plot'])) + clf_RF.predict_proba(pca.transform(images_testing_gray_planas)))/2\n",
        "#X_test_dtm = vect.transform(dataTesting['plot'])\n",
        "\n",
        "cols = ['p_Action', 'p_Adventure', 'p_Animation', 'p_Biography', 'p_Comedy', 'p_Crime', 'p_Documentary', 'p_Drama', 'p_Family',\n",
        "        'p_Fantasy', 'p_Film-Noir', 'p_History', 'p_Horror', 'p_Music', 'p_Musical', 'p_Mystery', 'p_News', 'p_Romance',\n",
        "        'p_Sci-Fi', 'p_Short', 'p_Sport', 'p_Thriller', 'p_War', 'p_Western']\n",
        "\n",
        "#y_pred_test_genres = model.predict_proba(X_test_dtm)\n",
        "\n",
        "pd.DataFrame(y_pred_avg, index=dataTesting.index, columns=cols).to_csv('pred_genres_kaggle_machine_learning.csv', index_label='ID')\n",
        "#kaggle = pd.DataFrame(y_pred_kaggle_model, index=dataTesting.index, columns=cols)"
      ],
      "execution_count": 0,
      "outputs": []
    },
    {
      "metadata": {
        "id": "VGo01O9Bbx-E",
        "colab_type": "code",
        "colab": {}
      },
      "cell_type": "code",
      "source": [
        "#from google.colab import files\n",
        "#files.kaggle('20180720_model_union.csv')\n",
        "\n",
        "from google.colab import files\n",
        "files.download('pred_genres_kaggle_machine_learning.csv')"
      ],
      "execution_count": 0,
      "outputs": []
    },
    {
      "metadata": {
        "id": "yW4X2N4v74kA",
        "colab_type": "text"
      },
      "cell_type": "markdown",
      "source": [
        "Despite the performance of the average model, the result in competition is 0.7685. the models could be making overfitting"
      ]
    },
    {
      "metadata": {
        "id": "9mkdCRbAn_Xx",
        "colab_type": "text"
      },
      "cell_type": "markdown",
      "source": [
        "# Image Model Using NN"
      ]
    },
    {
      "metadata": {
        "id": "0OJVgdhUfX_z",
        "colab_type": "text"
      },
      "cell_type": "markdown",
      "source": [
        "## Convolutional Neural Network"
      ]
    },
    {
      "metadata": {
        "id": "g8ESgYkof0ZY",
        "colab_type": "text"
      },
      "cell_type": "markdown",
      "source": [
        "Images in grayscale were used to build a CNN, the following lines import a preprocessed file which has every image in shape (256, 160, 1)"
      ]
    },
    {
      "metadata": {
        "id": "NGPxJoA2fbvq",
        "colab_type": "code",
        "colab": {}
      },
      "cell_type": "code",
      "source": [
        "import pickle\n",
        "\n",
        " \n",
        "with open(\"drive/Python/Proyecto_final/20180717_images_gris_train_.txt\", \"rb\") as fp:   # Unpickling\n",
        "   images_training_gris = pickle.load(fp)"
      ],
      "execution_count": 0,
      "outputs": []
    },
    {
      "metadata": {
        "id": "jyxw_KtQgc5l",
        "colab_type": "code",
        "colab": {}
      },
      "cell_type": "code",
      "source": [
        "import pickle\n",
        "\n",
        " \n",
        "with open(\"drive/Python/Proyecto_final/20180717_images_gris_test_.txt\", \"rb\") as fp:   # Unpickling\n",
        "   images_testing_gris = pickle.load(fp)"
      ],
      "execution_count": 0,
      "outputs": []
    },
    {
      "metadata": {
        "id": "1wRdCjXTgkNb",
        "colab_type": "code",
        "colab": {
          "base_uri": "https://localhost:8080/",
          "height": 51
        },
        "outputId": "65379183-aa62-4d4f-8d67-9342ca4fc17d"
      },
      "cell_type": "code",
      "source": [
        "print(images_training_gris.shape)\n",
        "print(images_testing_gris.shape)"
      ],
      "execution_count": 0,
      "outputs": [
        {
          "output_type": "stream",
          "text": [
            "(7895, 256, 160, 1)\n",
            "(3383, 256, 160, 1)\n"
          ],
          "name": "stdout"
        }
      ]
    },
    {
      "metadata": {
        "id": "Ackt85gt7-wG",
        "colab_type": "text"
      },
      "cell_type": "markdown",
      "source": [
        "Split train and test"
      ]
    },
    {
      "metadata": {
        "id": "lDfXjX1egnUC",
        "colab_type": "code",
        "colab": {
          "base_uri": "https://localhost:8080/",
          "height": 34
        },
        "outputId": "c89ef197-2378-4128-f716-a27308ce9827"
      },
      "cell_type": "code",
      "source": [
        "from sklearn.model_selection import train_test_split\n",
        "X_train_gris, X_test_gris, y_train_gris, y_test_gris = train_test_split(images_training_gris, y_genres, test_size=0.33, random_state=31415)\n",
        "print(X_train_gris.shape, X_test_gris.shape, y_train_gris.shape, y_test_gris.shape)"
      ],
      "execution_count": 0,
      "outputs": [
        {
          "output_type": "stream",
          "text": [
            "(5289, 256, 160, 1) (2606, 256, 160, 1) (5289, 24) (2606, 24)\n"
          ],
          "name": "stdout"
        }
      ]
    },
    {
      "metadata": {
        "id": "gPAul8ibhZ6M",
        "colab_type": "code",
        "colab": {}
      },
      "cell_type": "code",
      "source": [
        "import pandas as pd\n",
        "import os\n",
        "import numpy as np\n",
        "from sklearn.preprocessing import MultiLabelBinarizer\n",
        "from sklearn.multiclass import OneVsRestClassifier\n",
        "from sklearn.ensemble import RandomForestRegressor, RandomForestClassifier\n",
        "from sklearn.metrics import r2_score, roc_auc_score\n",
        "from sklearn.model_selection import train_test_split\n",
        "from sklearn.decomposition import PCA\n",
        "import matplotlib.pyplot as plt\n",
        "from skimage import io\n",
        "from tqdm import tqdm\n",
        "import os\n",
        "from keras.models import Sequential\n",
        "from keras.layers import Conv2D, MaxPooling2D,Conv1D\n",
        "from keras.layers import Activation, Dropout, Flatten, Dense\n",
        "from keras import backend as K\n",
        "import tensorflow as tf\n",
        "#from tensorflow import  reshape\n",
        "%matplotlib inline"
      ],
      "execution_count": 0,
      "outputs": []
    },
    {
      "metadata": {
        "id": "HICbnAmW8CEU",
        "colab_type": "text"
      },
      "cell_type": "markdown",
      "source": [
        "Defining the model, we try a convolution, maxpooling, flatten, Dropout among many activation functions."
      ]
    },
    {
      "metadata": {
        "id": "sWjg0NHrheqk",
        "colab_type": "code",
        "colab": {
          "base_uri": "https://localhost:8080/",
          "height": 646
        },
        "outputId": "b2c46990-adaf-4d89-d946-e3e0bfa266fe"
      },
      "cell_type": "code",
      "source": [
        "model_CNN = Sequential()\n",
        "#model.add(Dense(128, input_shape=(256, 160,),kernel_initializer = 'RandomNormal'))\n",
        "model_CNN.add(Conv2D(32, (3, 3), input_shape=(256, 160,1),kernel_initializer = 'RandomNormal'))\n",
        "#model.add(Conv1D(20, (3), padding=\"same\",input_shape=(256, 160)))\n",
        "model_CNN.add(Activation('relu'))\n",
        "model_CNN.add(MaxPooling2D(pool_size=(2, 2)))\n",
        "\n",
        "model_CNN.add(Conv2D(32, (3, 3)))\n",
        "model_CNN.add(Activation('relu'))\n",
        "model_CNN.add(MaxPooling2D(pool_size=(2, 2)))\n",
        "\n",
        "model_CNN.add(Conv2D(64, (3, 3)))\n",
        "model_CNN.add(Activation('relu'))\n",
        "model_CNN.add(MaxPooling2D(pool_size=(2, 2)))\n",
        "\n",
        "model_CNN.add(Flatten())\n",
        "model_CNN.add(Dense(64))\n",
        "model_CNN.add(Activation('relu'))\n",
        "model_CNN.add(Dropout(0.5))\n",
        "model_CNN.add(Dense(24))\n",
        "model_CNN.add(Activation('sigmoid'))\n",
        "\n",
        "\n",
        "model_CNN.summary()"
      ],
      "execution_count": 0,
      "outputs": [
        {
          "output_type": "stream",
          "text": [
            "_________________________________________________________________\n",
            "Layer (type)                 Output Shape              Param #   \n",
            "=================================================================\n",
            "conv2d_1 (Conv2D)            (None, 254, 158, 32)      320       \n",
            "_________________________________________________________________\n",
            "activation_1 (Activation)    (None, 254, 158, 32)      0         \n",
            "_________________________________________________________________\n",
            "max_pooling2d_1 (MaxPooling2 (None, 127, 79, 32)       0         \n",
            "_________________________________________________________________\n",
            "conv2d_2 (Conv2D)            (None, 125, 77, 32)       9248      \n",
            "_________________________________________________________________\n",
            "activation_2 (Activation)    (None, 125, 77, 32)       0         \n",
            "_________________________________________________________________\n",
            "max_pooling2d_2 (MaxPooling2 (None, 62, 38, 32)        0         \n",
            "_________________________________________________________________\n",
            "conv2d_3 (Conv2D)            (None, 60, 36, 64)        18496     \n",
            "_________________________________________________________________\n",
            "activation_3 (Activation)    (None, 60, 36, 64)        0         \n",
            "_________________________________________________________________\n",
            "max_pooling2d_3 (MaxPooling2 (None, 30, 18, 64)        0         \n",
            "_________________________________________________________________\n",
            "flatten_1 (Flatten)          (None, 34560)             0         \n",
            "_________________________________________________________________\n",
            "dense_1 (Dense)              (None, 64)                2211904   \n",
            "_________________________________________________________________\n",
            "activation_4 (Activation)    (None, 64)                0         \n",
            "_________________________________________________________________\n",
            "dropout_1 (Dropout)          (None, 64)                0         \n",
            "_________________________________________________________________\n",
            "dense_2 (Dense)              (None, 24)                1560      \n",
            "_________________________________________________________________\n",
            "activation_5 (Activation)    (None, 24)                0         \n",
            "=================================================================\n",
            "Total params: 2,241,528\n",
            "Trainable params: 2,241,528\n",
            "Non-trainable params: 0\n",
            "_________________________________________________________________\n"
          ],
          "name": "stdout"
        }
      ]
    },
    {
      "metadata": {
        "id": "HPPBCDFrltH4",
        "colab_type": "code",
        "colab": {}
      },
      "cell_type": "code",
      "source": [
        "from keras.optimizers import RMSprop\n",
        "from keras.optimizers import Adagrad\n",
        "from keras.optimizers import SGD\n",
        "from keras.optimizers import Adam\n",
        "#h = History()\n",
        "rate = 0.1\n",
        "model_CNN.compile(loss='categorical_crossentropy',\n",
        "              optimizer=SGD(),\n",
        "              #optimizer=RMSprop(lr = rate),\n",
        "              metrics=['acc']\n",
        "              #shuffle=False,\n",
        "          )\n",
        "#Adagrad\n",
        "#RMSprop"
      ],
      "execution_count": 0,
      "outputs": []
    },
    {
      "metadata": {
        "id": "zc9Bb8Qjl0j5",
        "colab_type": "code",
        "colab": {
          "base_uri": "https://localhost:8080/",
          "height": 326
        },
        "outputId": "d1bf6c53-1d36-4e15-9963-2e62d24b9f14"
      },
      "cell_type": "code",
      "source": [
        "%matplotlib inline\n",
        "from livelossplot import PlotLossesKeras\n",
        "\n",
        "batch_size = 32\n",
        "epochs = 10\n",
        "history = model_CNN.fit(X_train_gris, y_train_gris,\n",
        "                    batch_size=batch_size,\n",
        "                    epochs=epochs,\n",
        "                    verbose=1,\n",
        "                    validation_split=0.3,\n",
        "                    #validation_data=(X_test_ima, y_test_ima),\n",
        "                    shuffle=False,\n",
        "                   callbacks=[PlotLossesKeras()])\n",
        "#Adagrad"
      ],
      "execution_count": 0,
      "outputs": [
        {
          "output_type": "display_data",
          "data": {
            "image/png": "[encoded data removed]",
            "text/plain": [
              "<matplotlib.figure.Figure at 0x7efc072acf98>"
            ]
          },
          "metadata": {
            "tags": []
          }
        }
      ]
    },
    {
      "metadata": {
        "id": "cTcW3s4OmRmh",
        "colab_type": "code",
        "colab": {
          "base_uri": "https://localhost:8080/",
          "height": 34
        },
        "outputId": "01771374-fb6b-47f3-c47b-aafdda97d244"
      },
      "cell_type": "code",
      "source": [
        "#X_test_transformado = vect.transform(X_test)\n",
        "y_pred_genres = model_CNN.predict_proba(X_test_gris)\n",
        "roc_auc_score(y_test_gris, y_pred_genres, average='macro')"
      ],
      "execution_count": 0,
      "outputs": [
        {
          "output_type": "execute_result",
          "data": {
            "text/plain": [
              "0.5"
            ]
          },
          "metadata": {
            "tags": []
          },
          "execution_count": 33
        }
      ]
    },
    {
      "metadata": {
        "id": "EFJ2e_Y0ndXR",
        "colab_type": "text"
      },
      "cell_type": "markdown",
      "source": [
        "## **Transfer learning**"
      ]
    },
    {
      "metadata": {
        "id": "xWsCTFY0n8-N",
        "colab_type": "text"
      },
      "cell_type": "markdown",
      "source": [
        "### NN model"
      ]
    },
    {
      "metadata": {
        "id": "_1LGpo7enm1B",
        "colab_type": "text"
      },
      "cell_type": "markdown",
      "source": [
        "Previously we had loaded the result of VGG16 minus one layer. now we use this output to estimate an NN.\n",
        "Spliting train a test data sets"
      ]
    },
    {
      "metadata": {
        "id": "DbILkxoj2H-W",
        "colab_type": "code",
        "colab": {
          "base_uri": "https://localhost:8080/",
          "height": 34
        },
        "outputId": "c8387f89-aad2-4a52-f02a-4b99ef791d22"
      },
      "cell_type": "code",
      "source": [
        "from sklearn.model_selection import train_test_split\n",
        "X_train_ima, X_test_ima, y_train_ima, y_test_ima = train_test_split(images_training_color, y_genres, test_size=0.33, random_state=31415)\n",
        "print(X_train_ima.shape, X_test_ima.shape, y_train_ima.shape, y_test_ima.shape)"
      ],
      "execution_count": 0,
      "outputs": [
        {
          "output_type": "stream",
          "text": [
            "(5289, 5, 5, 512) (2606, 5, 5, 512) (5289, 24) (2606, 24)\n"
          ],
          "name": "stdout"
        }
      ]
    },
    {
      "metadata": {
        "id": "NpOOq-LP-2uJ",
        "colab_type": "code",
        "colab": {
          "base_uri": "https://localhost:8080/",
          "height": 34
        },
        "outputId": "78437523-ad0f-4928-fedd-d560367b3763"
      },
      "cell_type": "code",
      "source": [
        "X_train_ima.shape[1:]"
      ],
      "execution_count": 0,
      "outputs": [
        {
          "output_type": "execute_result",
          "data": {
            "text/plain": [
              "(5, 5, 512)"
            ]
          },
          "metadata": {
            "tags": []
          },
          "execution_count": 35
        }
      ]
    },
    {
      "metadata": {
        "id": "eDJKAEAdoZQl",
        "colab_type": "text"
      },
      "cell_type": "markdown",
      "source": [
        "The input of the model will be the output of the last layer of VGG16,  then we reshape the data, add a dense layer with tanh activation, finally we add an 24 layer, wich is the disere output for clasification "
      ]
    },
    {
      "metadata": {
        "id": "W9NEVPoTyV1G",
        "colab_type": "code",
        "colab": {
          "base_uri": "https://localhost:8080/",
          "height": 306
        },
        "outputId": "a256d2af-b76d-44c1-a7ad-cd17f1917cb7"
      },
      "cell_type": "code",
      "source": [
        "drop = 0.4\n",
        "\n",
        "model_transfer_learning=Sequential()\n",
        "model_transfer_learning.add(Flatten(input_shape=X_train_ima.shape[1:]))\n",
        "#model_transfer_learning.add(Dropout(0.2))\n",
        "model_transfer_learning.add(Dropout(drop))\n",
        "model_transfer_learning.add(Dense(400, activation='tanh',kernel_initializer = 'RandomNormal'))\n",
        "#model_transfer_learning.add(Dense(200, activation='tanh',kernel_initializer = 'RandomNormal'))\n",
        "#model_transfer_learning.add(Dropout(0.5))\n",
        "#model_transfer_learning.add(Dense(256, activation='tanh',kernel_initializer = 'RandomNormal'))\n",
        "#model_transfer_learning.add(Dropout(0.5))\n",
        "#model_transfer_learning.add(Dense(256, activation='tanh',kernel_initializer = 'RandomNormal'))\n",
        "#model_transfer_learning.add(Dropout(0.5))\n",
        "#model_transfer_learning.add(Dense(1024, activation='sigmoid',kernel_initializer = 'RandomNormal'))\n",
        "#model_transfer_learning.add(Dropout(0.3))\n",
        "#model_transfer_learning.add(Dense(124, activation='sigmoid',kernel_initializer = 'RandomNormal'))\n",
        "#model_transfer_learning.add(Dense(264, activation='sigmoid'))\n",
        "#model_transfer_learning.add(Dropout(0.1))\n",
        "model_transfer_learning.add(Dropout(drop))\n",
        "model_transfer_learning.add(Dense(24, activation='sigmoid'))\n",
        "model_transfer_learning.summary()"
      ],
      "execution_count": 0,
      "outputs": [
        {
          "output_type": "stream",
          "text": [
            "_________________________________________________________________\n",
            "Layer (type)                 Output Shape              Param #   \n",
            "=================================================================\n",
            "flatten_2 (Flatten)          (None, 12800)             0         \n",
            "_________________________________________________________________\n",
            "dropout_2 (Dropout)          (None, 12800)             0         \n",
            "_________________________________________________________________\n",
            "dense_3 (Dense)              (None, 400)               5120400   \n",
            "_________________________________________________________________\n",
            "dropout_3 (Dropout)          (None, 400)               0         \n",
            "_________________________________________________________________\n",
            "dense_4 (Dense)              (None, 24)                9624      \n",
            "=================================================================\n",
            "Total params: 5,130,024\n",
            "Trainable params: 5,130,024\n",
            "Non-trainable params: 0\n",
            "_________________________________________________________________\n"
          ],
          "name": "stdout"
        }
      ]
    },
    {
      "metadata": {
        "id": "GIbyHgGiow_N",
        "colab_type": "text"
      },
      "cell_type": "markdown",
      "source": [
        "Compile and fitting model"
      ]
    },
    {
      "metadata": {
        "id": "DaJXytV7ywv9",
        "colab_type": "code",
        "colab": {
          "base_uri": "https://localhost:8080/",
          "height": 343
        },
        "outputId": "b8d95c95-eba6-4c0a-e6ec-9fad7fddeea5"
      },
      "cell_type": "code",
      "source": [
        "from keras import optimizers\n",
        "from  livelossplot import PlotLossesKeras\n",
        "rate=0.0001\n",
        "model_transfer_learning.compile(\n",
        "               optimizer=optimizers.SGD(),\n",
        "               #optimizer=optimizers.SGD(lr = rate),\n",
        "               loss='categorical_crossentropy',\n",
        "               metrics=['accuracy'])\n",
        "\n",
        "epochs=50\n",
        "batch_size = 50\n",
        "\n",
        "model_transfer_learning.fit(X_train_ima, y_train_ima,\n",
        "          epochs=epochs,\n",
        "          #validation_data=(X_test_ima, y_test_ima),\n",
        "          shuffle=False,\n",
        "          #batch_size = batch_size,\n",
        "          validation_split=0.3,\n",
        "          callbacks=[PlotLossesKeras()])"
      ],
      "execution_count": 0,
      "outputs": [
        {
          "output_type": "display_data",
          "data": {
            "image/png": "[encoded data removed]",
            "text/plain": [
              "<matplotlib.figure.Figure at 0x7efc08e6b4a8>"
            ]
          },
          "metadata": {
            "tags": []
          }
        },
        {
          "output_type": "execute_result",
          "data": {
            "text/plain": [
              "<keras.callbacks.History at 0x7efc072ba198>"
            ]
          },
          "metadata": {
            "tags": []
          },
          "execution_count": 37
        }
      ]
    },
    {
      "metadata": {
        "id": "V7Gc675w0DQq",
        "colab_type": "code",
        "colab": {
          "base_uri": "https://localhost:8080/",
          "height": 34
        },
        "outputId": "5c93cba2-6de5-4471-d94f-87ff15046459"
      },
      "cell_type": "code",
      "source": [
        "#X_test_transformado = vect.transform(X_test)\n",
        "y_pred_genres = model_transfer_learning.predict_proba(X_test_ima)\n",
        "roc_auc_score(y_test_ima, y_pred_genres, average='macro')"
      ],
      "execution_count": 0,
      "outputs": [
        {
          "output_type": "execute_result",
          "data": {
            "text/plain": [
              "0.697195068446352"
            ]
          },
          "metadata": {
            "tags": []
          },
          "execution_count": 38
        }
      ]
    },
    {
      "metadata": {
        "id": "_cnXYey6RgS1",
        "colab_type": "text"
      },
      "cell_type": "markdown",
      "source": [
        "# **Text Model Using NN**"
      ]
    },
    {
      "metadata": {
        "id": "0IxTfAz5qe-i",
        "colab_type": "text"
      },
      "cell_type": "markdown",
      "source": [
        "## Sequential Neural Network"
      ]
    },
    {
      "metadata": {
        "id": "1oU3d-NH88FP",
        "colab_type": "text"
      },
      "cell_type": "markdown",
      "source": [
        "Split train and test"
      ]
    },
    {
      "metadata": {
        "id": "7o33iqAxRi7S",
        "colab_type": "code",
        "colab": {}
      },
      "cell_type": "code",
      "source": [
        "X_train_texto, X_test_texto, y_train_genres_texto, y_test_genres_texto = train_test_split(dataTraining['plot']\n",
        "                                                                  , y_genres, test_size=0.33, random_state=42)"
      ],
      "execution_count": 0,
      "outputs": []
    },
    {
      "metadata": {
        "id": "KvguahVR8-Oj",
        "colab_type": "text"
      },
      "cell_type": "markdown",
      "source": [
        "To reorganize the text information, we try many methods, amoung them we can mention Stop words, steemers, ngram, etc."
      ]
    },
    {
      "metadata": {
        "id": "MnJ_AKXtTyT_",
        "colab_type": "code",
        "colab": {
          "base_uri": "https://localhost:8080/",
          "height": 51
        },
        "outputId": "382e336a-0870-43b5-b545-0cfb6a536353"
      },
      "cell_type": "code",
      "source": [
        "from sklearn.feature_extraction.text import CountVectorizer\n",
        "from nltk.stem import WordNetLemmatizer\n",
        "import nltk\n",
        "nltk.download('wordnet')\n",
        "wordnet_lemmatizer = WordNetLemmatizer()\n",
        "def split_into_lemmas(text):\n",
        "    text = text.lower()\n",
        "    words = text.split()\n",
        "    return [wordnet_lemmatizer.lemmatize(word) for word in words]\n",
        "\n",
        "\n",
        "vect = CountVectorizer(ngram_range=(1, 3), max_features=3000, stop_words='english',analyzer=split_into_lemmas)\n",
        "#bueno vect = CountVectorizer(ngram_range=(1, 3), max_features=3000, stop_words='english')\n",
        "X_dtm = vect.fit(X_train_texto)\n",
        "X_train_transformado = vect.transform(X_train_texto)\n",
        "X_train_transformado.shape\n",
        "X_test_transformado = vect.transform(X_test_texto)\n"
      ],
      "execution_count": 0,
      "outputs": [
        {
          "output_type": "stream",
          "text": [
            "[nltk_data] Downloading package wordnet to /content/nltk_data...\n",
            "[nltk_data]   Package wordnet is already up-to-date!\n"
          ],
          "name": "stdout"
        }
      ]
    },
    {
      "metadata": {
        "id": "StUnmowWUoZz",
        "colab_type": "code",
        "colab": {
          "base_uri": "https://localhost:8080/",
          "height": 34
        },
        "outputId": "83e5560e-9f37-4da7-ca68-fc10e5a80f19"
      },
      "cell_type": "code",
      "source": [
        "print(X_train_transformado.shape)\n",
        "tamano = X_train_transformado.shape[1]\n"
      ],
      "execution_count": 0,
      "outputs": [
        {
          "output_type": "stream",
          "text": [
            "(5289, 3000)\n"
          ],
          "name": "stdout"
        }
      ]
    },
    {
      "metadata": {
        "id": "VjSWehHJ9VHX",
        "colab_type": "text"
      },
      "cell_type": "markdown",
      "source": [
        "Defining the NN"
      ]
    },
    {
      "metadata": {
        "id": "sDguAgC5VGnF",
        "colab_type": "code",
        "colab": {
          "base_uri": "https://localhost:8080/",
          "height": 408
        },
        "outputId": "d9643e9a-9f08-4e7d-a0ea-bed735d844b0"
      },
      "cell_type": "code",
      "source": [
        "drop = 0.6\n",
        "\n",
        "from keras.layers.recurrent import LSTM\n",
        "from keras.layers import Dense, Dropout, Activation, BatchNormalization\n",
        "model_text = Sequential()\n",
        "#128\n",
        "\n",
        "model_text.add(Dense(128, input_shape=(tamano,),kernel_initializer = 'RandomNormal'))\n",
        "#model_text.add(LSTM(32))\n",
        "model_text.add(Activation('sigmoid'))\n",
        "model_text.add(BatchNormalization())\n",
        "model_text.add(Dropout(drop))\n",
        "#50\n",
        "model_text.add(Dense(50))\n",
        "model_text.add(Activation('sigmoid'))\n",
        "\n",
        "model_text.add(Dense(24))\n",
        "\n",
        "model_text.add(Activation('sigmoid'))\n",
        "\n",
        "model_text.summary()"
      ],
      "execution_count": 0,
      "outputs": [
        {
          "output_type": "stream",
          "text": [
            "_________________________________________________________________\n",
            "Layer (type)                 Output Shape              Param #   \n",
            "=================================================================\n",
            "dense_5 (Dense)              (None, 128)               384128    \n",
            "_________________________________________________________________\n",
            "activation_6 (Activation)    (None, 128)               0         \n",
            "_________________________________________________________________\n",
            "batch_normalization_1 (Batch (None, 128)               512       \n",
            "_________________________________________________________________\n",
            "dropout_4 (Dropout)          (None, 128)               0         \n",
            "_________________________________________________________________\n",
            "dense_6 (Dense)              (None, 50)                6450      \n",
            "_________________________________________________________________\n",
            "activation_7 (Activation)    (None, 50)                0         \n",
            "_________________________________________________________________\n",
            "dense_7 (Dense)              (None, 24)                1224      \n",
            "_________________________________________________________________\n",
            "activation_8 (Activation)    (None, 24)                0         \n",
            "=================================================================\n",
            "Total params: 392,314\n",
            "Trainable params: 392,058\n",
            "Non-trainable params: 256\n",
            "_________________________________________________________________\n"
          ],
          "name": "stdout"
        }
      ]
    },
    {
      "metadata": {
        "id": "lDtf0-1nVXIl",
        "colab_type": "code",
        "colab": {}
      },
      "cell_type": "code",
      "source": [
        "from keras.optimizers import RMSprop\n",
        "from keras.optimizers import Adagrad\n",
        "from keras.optimizers import SGD\n",
        "from keras.optimizers import Adam\n",
        "lr = 0.1\n",
        "model_text.compile(loss='categorical_crossentropy',\n",
        "              optimizer=SGD(lr = lr),\n",
        "              metrics=['acc']\n",
        "              #shuffle=False,\n",
        "          )\n",
        "#Adagrad\n",
        "#RMSprop"
      ],
      "execution_count": 0,
      "outputs": []
    },
    {
      "metadata": {
        "id": "pgOvLqdoVj-I",
        "colab_type": "code",
        "colab": {
          "base_uri": "https://localhost:8080/",
          "height": 326
        },
        "outputId": "10b69969-36ab-457f-9f5e-ea6c687767cd"
      },
      "cell_type": "code",
      "source": [
        "%matplotlib inline\n",
        "\n",
        "batch_size = 32\n",
        "epochs = 40\n",
        "history = model_text.fit(X_train_transformado, y_train_genres_texto,\n",
        "                    batch_size=batch_size,\n",
        "                    epochs=epochs,\n",
        "                    verbose=1,\n",
        "                    #validation_data=(X_test_transformado, y_test_genres_texto),\n",
        "                    shuffle=False,\n",
        "                    validation_split=0.3,     \n",
        "                   callbacks=[PlotLossesKeras()])\n",
        "#Adagrad"
      ],
      "execution_count": 0,
      "outputs": [
        {
          "output_type": "display_data",
          "data": {
            "image/png": "[encoded data removed]",
            "text/plain": [
              "<matplotlib.figure.Figure at 0x7efc07db9f98>"
            ]
          },
          "metadata": {
            "tags": []
          }
        }
      ]
    },
    {
      "metadata": {
        "id": "4Lnl4vUuV92C",
        "colab_type": "code",
        "colab": {
          "base_uri": "https://localhost:8080/",
          "height": 34
        },
        "outputId": "e434060f-ec6b-434b-eef9-c96248c3e056"
      },
      "cell_type": "code",
      "source": [
        "\n",
        "y_pred_genres = model_text.predict_proba(X_test_transformado)\n",
        "roc_auc_score(y_test_genres_texto, y_pred_genres, average='macro')"
      ],
      "execution_count": 0,
      "outputs": [
        {
          "output_type": "execute_result",
          "data": {
            "text/plain": [
              "0.836065010685077"
            ]
          },
          "metadata": {
            "tags": []
          },
          "execution_count": 45
        }
      ]
    },
    {
      "metadata": {
        "id": "Q9cm1sX1py2b",
        "colab_type": "text"
      },
      "cell_type": "markdown",
      "source": [
        "## ***Recurrent Neural Network***"
      ]
    },
    {
      "metadata": {
        "id": "KlJMqetC9a5J",
        "colab_type": "text"
      },
      "cell_type": "markdown",
      "source": [
        "Defining the vocabulary"
      ]
    },
    {
      "metadata": {
        "id": "rRQ-j_Kep87B",
        "colab_type": "code",
        "colab": {}
      },
      "cell_type": "code",
      "source": [
        "X = dataTraining['plot'].tolist()"
      ],
      "execution_count": 0,
      "outputs": []
    },
    {
      "metadata": {
        "id": "DbQNgMO1q1Bp",
        "colab_type": "code",
        "colab": {}
      },
      "cell_type": "code",
      "source": [
        "voc = set(''.join(X))\n",
        "vocabulary = {x: idx + 1 for idx, x in enumerate(set(voc))}"
      ],
      "execution_count": 0,
      "outputs": []
    },
    {
      "metadata": {
        "id": "Islbw2cbq14B",
        "colab_type": "text"
      },
      "cell_type": "markdown",
      "source": [
        "***Embedding***"
      ]
    },
    {
      "metadata": {
        "id": "QhK91rWVq6Q6",
        "colab_type": "code",
        "colab": {}
      },
      "cell_type": "code",
      "source": [
        "max_plot_len = 150\n",
        "X = [x[:max_plot_len] for x in X]\n",
        "\n",
        "X = [[vocabulary[x1] for x1 in x if x1 in vocabulary.keys()] for x in X]"
      ],
      "execution_count": 0,
      "outputs": []
    },
    {
      "metadata": {
        "id": "VsPqFOjKrChd",
        "colab_type": "code",
        "colab": {
          "base_uri": "https://localhost:8080/",
          "height": 136
        },
        "outputId": "0866b8d3-bc4c-47c0-d9b8-e273afec91db"
      },
      "cell_type": "code",
      "source": [
        "from keras.preprocessing import sequence\n",
        "X_pad = sequence.pad_sequences(X, maxlen=max_plot_len)\n",
        "X_pad"
      ],
      "execution_count": 0,
      "outputs": [
        {
          "output_type": "execute_result",
          "data": {
            "text/plain": [
              "array([[64, 15, 24, ..., 33, 33, 58],\n",
              "       [ 0,  0,  0, ...,  2, 33, 12],\n",
              "       [54, 25, 33, ..., 54,  4, 33],\n",
              "       ...,\n",
              "       [ 4, 54,  2, ..., 54, 25, 60],\n",
              "       [64, 14, 24, ..., 35, 67, 66],\n",
              "       [ 0,  0,  0, ..., 66, 33, 12]], dtype=int32)"
            ]
          },
          "metadata": {
            "tags": []
          },
          "execution_count": 49
        }
      ]
    },
    {
      "metadata": {
        "id": "xC9Ca0GZrGj9",
        "colab_type": "code",
        "colab": {
          "base_uri": "https://localhost:8080/",
          "height": 136
        },
        "outputId": "b331f671-7616-4f85-c2f2-64f3f7be31f6"
      },
      "cell_type": "code",
      "source": [
        "y_genres"
      ],
      "execution_count": 0,
      "outputs": [
        {
          "output_type": "execute_result",
          "data": {
            "text/plain": [
              "array([[0, 0, 0, ..., 0, 0, 0],\n",
              "       [0, 0, 0, ..., 0, 0, 0],\n",
              "       [0, 0, 0, ..., 1, 0, 0],\n",
              "       ...,\n",
              "       [0, 1, 0, ..., 0, 0, 0],\n",
              "       [0, 1, 1, ..., 0, 0, 0],\n",
              "       [0, 1, 1, ..., 0, 0, 0]])"
            ]
          },
          "metadata": {
            "tags": []
          },
          "execution_count": 50
        }
      ]
    },
    {
      "metadata": {
        "id": "KEvC3vfsrUXZ",
        "colab_type": "code",
        "colab": {}
      },
      "cell_type": "code",
      "source": [
        "X_train_rec, X_test_rec, y_train_rec, y_test_rec = train_test_split(X_pad, y_genres, test_size=0.30, random_state=31415)"
      ],
      "execution_count": 0,
      "outputs": []
    },
    {
      "metadata": {
        "id": "ovSntj47rdyl",
        "colab_type": "text"
      },
      "cell_type": "markdown",
      "source": [
        "The following LSTM neural network is defined:\n",
        "\n"
      ]
    },
    {
      "metadata": {
        "id": "mGGpeJ40rcwv",
        "colab_type": "code",
        "colab": {
          "base_uri": "https://localhost:8080/",
          "height": 374
        },
        "outputId": "325dcb82-91ea-406f-fdf8-2c43f5c7387f"
      },
      "cell_type": "code",
      "source": [
        "from keras.models import Sequential\n",
        "from keras.layers.recurrent import LSTM\n",
        "from keras.layers.core import Dense, Dropout\n",
        "from keras.layers.embeddings import Embedding\n",
        "from keras.preprocessing import sequence\n",
        "from livelossplot import PlotLossesKeras\n",
        "from keras import optimizers\n",
        "\n",
        "%matplotlib inline\n",
        "\n",
        "model_rec = Sequential()\n",
        "model_rec.add(Embedding(len(vocabulary) + 1, 128, input_length=max_plot_len))\n",
        "model_rec.add(Dropout(0.3))\n",
        "model_rec.add(LSTM(128, return_sequences = True))\n",
        "model_rec.add(Dropout(0.3))\n",
        "model_rec.add(LSTM(64))\n",
        "model_rec.add(Dropout(0.3))\n",
        "model_rec.add(Dense(24, activation='sigmoid'))\n",
        "\n",
        "model_rec.summary()"
      ],
      "execution_count": 0,
      "outputs": [
        {
          "output_type": "stream",
          "text": [
            "_________________________________________________________________\n",
            "Layer (type)                 Output Shape              Param #   \n",
            "=================================================================\n",
            "embedding_1 (Embedding)      (None, 150, 128)          9600      \n",
            "_________________________________________________________________\n",
            "dropout_5 (Dropout)          (None, 150, 128)          0         \n",
            "_________________________________________________________________\n",
            "lstm_1 (LSTM)                (None, 150, 128)          131584    \n",
            "_________________________________________________________________\n",
            "dropout_6 (Dropout)          (None, 150, 128)          0         \n",
            "_________________________________________________________________\n",
            "lstm_2 (LSTM)                (None, 64)                49408     \n",
            "_________________________________________________________________\n",
            "dropout_7 (Dropout)          (None, 64)                0         \n",
            "_________________________________________________________________\n",
            "dense_8 (Dense)              (None, 24)                1560      \n",
            "=================================================================\n",
            "Total params: 192,152\n",
            "Trainable params: 192,152\n",
            "Non-trainable params: 0\n",
            "_________________________________________________________________\n"
          ],
          "name": "stdout"
        }
      ]
    },
    {
      "metadata": {
        "id": "MHcs_NsAr4BD",
        "colab_type": "code",
        "colab": {
          "base_uri": "https://localhost:8080/",
          "height": 343
        },
        "outputId": "b7b804cb-1d58-49d6-9b1d-f6f320777e98"
      },
      "cell_type": "code",
      "source": [
        "model_rec.compile(optimizer=optimizers.RMSprop(lr = 0.01, decay = 0.01),\n",
        "               loss='binary_crossentropy',\n",
        "               metrics=['accuracy'])\n",
        "\n",
        "model_rec.fit(X_train_rec, y_train_rec, validation_data=[X_test_rec, y_test_rec], epochs=10, batch_size=128,\n",
        "          callbacks=[PlotLossesKeras()])"
      ],
      "execution_count": 0,
      "outputs": [
        {
          "output_type": "display_data",
          "data": {
            "image/png": "[encoded data removed]",
            "text/plain": [
              "<matplotlib.figure.Figure at 0x7efbfad6cb38>"
            ]
          },
          "metadata": {
            "tags": []
          }
        },
        {
          "output_type": "execute_result",
          "data": {
            "text/plain": [
              "<keras.callbacks.History at 0x7efc092541d0>"
            ]
          },
          "metadata": {
            "tags": []
          },
          "execution_count": 53
        }
      ]
    },
    {
      "metadata": {
        "id": "sHy1s9Uwr6u5",
        "colab_type": "code",
        "colab": {
          "base_uri": "https://localhost:8080/",
          "height": 34
        },
        "outputId": "aa60f7dd-be8b-4ae3-a500-b30080ee7eb4"
      },
      "cell_type": "code",
      "source": [
        "ypred_rec=model_rec.predict(X_test_rec)\n",
        "from sklearn.metrics import roc_auc_score\n",
        "\n",
        "print('ROC',roc_auc_score(y_test_rec,ypred_rec,average='macro'))"
      ],
      "execution_count": 0,
      "outputs": [
        {
          "output_type": "stream",
          "text": [
            "ROC 0.4908896180766207\n"
          ],
          "name": "stdout"
        }
      ]
    },
    {
      "metadata": {
        "id": "9Nv7R8mKWrSU",
        "colab_type": "text"
      },
      "cell_type": "markdown",
      "source": [
        "# **Both text and image Models**"
      ]
    },
    {
      "metadata": {
        "id": "VyU0pvzIydzS",
        "colab_type": "text"
      },
      "cell_type": "markdown",
      "source": [
        "## Average"
      ]
    },
    {
      "metadata": {
        "id": "wOaebPcQrIlb",
        "colab_type": "text"
      },
      "cell_type": "markdown",
      "source": [
        "Before trying more complex models, we simply predict a probability using images, then using text and average the two"
      ]
    },
    {
      "metadata": {
        "id": "ehKnZo2E0Jgr",
        "colab_type": "code",
        "colab": {
          "base_uri": "https://localhost:8080/",
          "height": 34
        },
        "outputId": "a90010ba-6f4a-485e-8f2c-f2f714873203"
      },
      "cell_type": "code",
      "source": [
        "from sklearn.model_selection import train_test_split\n",
        "X_train_ima, X_test_ima, y_train_ima, y_test_ima, X_train_texto, X_Test_texto = train_test_split(images_training_color, y_genres,dataTraining['plot'], test_size=0.33, random_state=31415)\n",
        "print(X_train_ima.shape, X_test_ima.shape, y_train_ima.shape, y_test_ima.shape,X_train_texto.shape, X_Test_texto.shape)"
      ],
      "execution_count": 0,
      "outputs": [
        {
          "output_type": "stream",
          "text": [
            "(5289, 5, 5, 512) (2606, 5, 5, 512) (5289, 24) (2606, 24) (5289,) (2606,)\n"
          ],
          "name": "stdout"
        }
      ]
    },
    {
      "metadata": {
        "id": "zosEr2UUWugq",
        "colab_type": "code",
        "colab": {
          "base_uri": "https://localhost:8080/",
          "height": 68
        },
        "outputId": "5b4dd0c2-bcc2-40eb-df6e-a4d898c73864"
      },
      "cell_type": "code",
      "source": [
        "X_test_transformado = vect.transform(X_Test_texto)\n",
        "\n",
        "Prediccion_texto = model_text.predict_proba(X_test_transformado)\n",
        "#Prediccion_texto = model_rec.predict_proba(X_test_transformado)\n",
        "Prediccion_imagen = model_transfer_learning.predict_proba(X_test_ima)\n",
        "print(\"tamano texto\", Prediccion_texto.shape)\n",
        "print(\"tamano imagen\", Prediccion_imagen.shape)\n",
        "union_promedio = (Prediccion_texto + Prediccion_imagen)/2\n",
        "\n",
        "roc_auc_score(y_test_ima, union_promedio, average='macro')\n",
        "\n"
      ],
      "execution_count": 0,
      "outputs": [
        {
          "output_type": "stream",
          "text": [
            "tamano texto (2606, 24)\n",
            "tamano imagen (2606, 24)\n"
          ],
          "name": "stdout"
        },
        {
          "output_type": "execute_result",
          "data": {
            "text/plain": [
              "0.9064210988362754"
            ]
          },
          "metadata": {
            "tags": []
          },
          "execution_count": 56
        }
      ]
    },
    {
      "metadata": {
        "id": "X_bdm0gTrlDp",
        "colab_type": "text"
      },
      "cell_type": "markdown",
      "source": [
        "Exporting results in kaggle competition format"
      ]
    },
    {
      "metadata": {
        "id": "ibZ3047wZTq0",
        "colab_type": "code",
        "colab": {}
      },
      "cell_type": "code",
      "source": [
        "\n",
        "#x_kaggle_avg = np.concatenate((model_text.predict_proba(vect.transform(dataTesting['plot'])), model_transfer_learning.predict_proba(images_test_vgg)), axis=1)\n",
        "y_pred_avg = (model_text.predict_proba(vect.transform(dataTesting['plot'])) + model_transfer_learning.predict_proba(images_testing_color))/2\n",
        "#X_test_dtm = vect.transform(dataTesting['plot'])\n",
        "\n",
        "cols = ['p_Action', 'p_Adventure', 'p_Animation', 'p_Biography', 'p_Comedy', 'p_Crime', 'p_Documentary', 'p_Drama', 'p_Family',\n",
        "        'p_Fantasy', 'p_Film-Noir', 'p_History', 'p_Horror', 'p_Music', 'p_Musical', 'p_Mystery', 'p_News', 'p_Romance',\n",
        "        'p_Sci-Fi', 'p_Short', 'p_Sport', 'p_Thriller', 'p_War', 'p_Western']\n",
        "\n",
        "#y_pred_test_genres = model.predict_proba(X_test_dtm)\n",
        "\n",
        "pd.DataFrame(y_pred_avg, index=dataTesting.index, columns=cols).to_csv('pred_genres_kaggle_model_avg.csv', index_label='ID')\n",
        "#kaggle = pd.DataFrame(y_pred_kaggle_model, index=dataTesting.index, columns=cols)"
      ],
      "execution_count": 0,
      "outputs": []
    },
    {
      "metadata": {
        "id": "dKulOGC0ZTq5",
        "colab_type": "code",
        "colab": {}
      },
      "cell_type": "code",
      "source": [
        "#from google.colab import files\n",
        "#files.kaggle('20180720_model_union.csv')\n",
        "\n",
        "from google.colab import files\n",
        "\n",
        "#kaggle.to_csv('pred_genres_kaggle_model_nn_union.csv')\n",
        "files.download('pred_genres_kaggle_model_avg.csv')"
      ],
      "execution_count": 0,
      "outputs": []
    },
    {
      "metadata": {
        "id": "NVEAhr961fSv",
        "colab_type": "text"
      },
      "cell_type": "markdown",
      "source": [
        "## Neural network for both models output"
      ]
    },
    {
      "metadata": {
        "id": "LOhMpS5ars-P",
        "colab_type": "text"
      },
      "cell_type": "markdown",
      "source": [
        "The output of the image model attached to the output of the text model, become the input of a NN"
      ]
    },
    {
      "metadata": {
        "id": "Ou9Hq9E41lRH",
        "colab_type": "code",
        "colab": {
          "base_uri": "https://localhost:8080/",
          "height": 51
        },
        "outputId": "c827e6b3-0276-487d-8caf-cf3c8ad5c3d4"
      },
      "cell_type": "code",
      "source": [
        "#x_train_union = pd.concat([Prediccion_texto, Prediccion_imagen], axis=1)\n",
        "#x_train_union = np.stack((Prediccion_texto, Prediccion_imagen))\n",
        "train_prediccion_texto = model_text.predict_proba(vect.transform(X_train_texto))\n",
        "train_prediccion_imagen = model_transfer_learning.predict_proba(X_train_ima)\n",
        "x_train_union = np.concatenate((train_prediccion_texto, train_prediccion_imagen), axis=1)\n",
        "print(x_train_union.shape)\n",
        "\n",
        "\n",
        "train_prediccion_texto = model_text.predict_proba(vect.transform(X_Test_texto))\n",
        "train_prediccion_imagen = model_transfer_learning.predict_proba(X_test_ima)\n",
        "x_test_union = np.concatenate((train_prediccion_texto, train_prediccion_imagen), axis=1)\n",
        "print(x_test_union.shape)\n",
        "shape_pred = x_train_union.shape[1]\n",
        "\n",
        "\n"
      ],
      "execution_count": 0,
      "outputs": [
        {
          "output_type": "stream",
          "text": [
            "(5289, 48)\n",
            "(2606, 48)\n"
          ],
          "name": "stdout"
        }
      ]
    },
    {
      "metadata": {
        "id": "eDNcSQfFE9pA",
        "colab_type": "code",
        "colab": {
          "base_uri": "https://localhost:8080/",
          "height": 272
        },
        "outputId": "f04a3528-a3cc-465a-87fd-d2019d410f6f"
      },
      "cell_type": "code",
      "source": [
        "model_union_predict_input = Sequential()\n",
        "#128\n",
        "model_union_predict_input.add(Dense(24, input_shape=(shape_pred,),kernel_initializer = 'RandomNormal'))\n",
        "model_union_predict_input.add(Activation('sigmoid'))\n",
        "#model_union_predict_input.add(BatchNormalization())\n",
        "#model_union_predict_input.add(Dropout(0.1))\n",
        "#50\n",
        "#model_union_predict_input.add(Dense(50))\n",
        "#model_union_predict_input.add(Activation('sigmoid'))\n",
        "\n",
        "model_union_predict_input.add(Dense(24))\n",
        "\n",
        "model_union_predict_input.add(Activation('sigmoid'))\n",
        "\n",
        "model_union_predict_input.summary()"
      ],
      "execution_count": 0,
      "outputs": [
        {
          "output_type": "stream",
          "text": [
            "_________________________________________________________________\n",
            "Layer (type)                 Output Shape              Param #   \n",
            "=================================================================\n",
            "dense_11 (Dense)             (None, 24)                1176      \n",
            "_________________________________________________________________\n",
            "activation_11 (Activation)   (None, 24)                0         \n",
            "_________________________________________________________________\n",
            "dense_12 (Dense)             (None, 24)                600       \n",
            "_________________________________________________________________\n",
            "activation_12 (Activation)   (None, 24)                0         \n",
            "=================================================================\n",
            "Total params: 1,776\n",
            "Trainable params: 1,776\n",
            "Non-trainable params: 0\n",
            "_________________________________________________________________\n"
          ],
          "name": "stdout"
        }
      ]
    },
    {
      "metadata": {
        "id": "Zlb3h446Fsnj",
        "colab_type": "code",
        "colab": {
          "base_uri": "https://localhost:8080/",
          "height": 326
        },
        "outputId": "50f0298f-3bd9-4bcc-e518-57c4820ccb8a"
      },
      "cell_type": "code",
      "source": [
        "rate = 0.1\n",
        "model_union_predict_input.compile(loss='categorical_crossentropy',\n",
        "              #optimizer=RMSprop(),\n",
        "              #optimizer=Adagrad(),     \n",
        "              optimizer=Adam(),                         \n",
        "              #optimizer=SGD(lr = lr),                    \n",
        "              #optimizer=SGD(),\n",
        "              metrics=['acc']\n",
        "              #shuffle=False,\n",
        "          )\n",
        "#Adagrad\n",
        "#RMSprop\n",
        "#SGD\n",
        "#%matplotlib inline\n",
        "\n",
        "batch_size = 32\n",
        "epochs = 50\n",
        "history = model_union_predict_input.fit(x_train_union, y_train_ima,\n",
        "                    #batch_size=batch_size,\n",
        "                    epochs=epochs,\n",
        "                    verbose=1,\n",
        "                    #validation_data=(x_test_union, y_test_ima),\n",
        "                    shuffle=False,\n",
        "                    validation_split=0.3,\n",
        "                   callbacks=[PlotLossesKeras()])"
      ],
      "execution_count": 0,
      "outputs": [
        {
          "output_type": "display_data",
          "data": {
            "image/png": "[encoded data removed]",
            "text/plain": [
              "<matplotlib.figure.Figure at 0x7efbf96d15c0>"
            ]
          },
          "metadata": {
            "tags": []
          }
        }
      ]
    },
    {
      "metadata": {
        "id": "iIiYCpzCF1A7",
        "colab_type": "code",
        "colab": {
          "base_uri": "https://localhost:8080/",
          "height": 34
        },
        "outputId": "56f39b95-f875-48c8-fb4d-aa509267b8c1"
      },
      "cell_type": "code",
      "source": [
        "y_pred_genres = model_union_predict_input.predict_proba(x_test_union)\n",
        "roc_auc_score(y_test_ima, y_pred_genres, average='macro')"
      ],
      "execution_count": 0,
      "outputs": [
        {
          "output_type": "execute_result",
          "data": {
            "text/plain": [
              "0.8845518187637075"
            ]
          },
          "metadata": {
            "tags": []
          },
          "execution_count": 62
        }
      ]
    },
    {
      "metadata": {
        "id": "PK02wXvtVH53",
        "colab_type": "code",
        "colab": {}
      },
      "cell_type": "code",
      "source": [
        "\n",
        "x_kaggle_union = np.concatenate((model_text.predict_proba(vect.transform(dataTesting['plot'])), model_transfer_learning.predict_proba(images_testing_color)), axis=1)\n",
        "y_pred_kaggle_model = model_union_predict_input.predict_proba(x_kaggle_union)\n",
        "#X_test_dtm = vect.transform(dataTesting['plot'])\n",
        "\n",
        "cols = ['p_Action', 'p_Adventure', 'p_Animation', 'p_Biography', 'p_Comedy', 'p_Crime', 'p_Documentary', 'p_Drama', 'p_Family',\n",
        "        'p_Fantasy', 'p_Film-Noir', 'p_History', 'p_Horror', 'p_Music', 'p_Musical', 'p_Mystery', 'p_News', 'p_Romance',\n",
        "        'p_Sci-Fi', 'p_Short', 'p_Sport', 'p_Thriller', 'p_War', 'p_Western']\n",
        "\n",
        "#y_pred_test_genres = model.predict_proba(X_test_dtm)\n",
        "\n",
        "pd.DataFrame(y_pred_kaggle_model, index=dataTesting.index, columns=cols).to_csv('pred_genres_kaggle_model_nn_union.csv', index_label='ID')\n",
        "#kaggle = pd.DataFrame(y_pred_kaggle_model, index=dataTesting.index, columns=cols)"
      ],
      "execution_count": 0,
      "outputs": []
    },
    {
      "metadata": {
        "id": "9jrEqkP8WW6f",
        "colab_type": "code",
        "colab": {}
      },
      "cell_type": "code",
      "source": [
        "#from google.colab import files\n",
        "#files.kaggle('20180720_model_union.csv')\n",
        "\n",
        "from google.colab import files\n",
        "\n",
        "#kaggle.to_csv('pred_genres_kaggle_model_nn_union.csv')\n",
        "files.download('pred_genres_kaggle_model_nn_union.csv')"
      ],
      "execution_count": 0,
      "outputs": []
    },
    {
      "metadata": {
        "id": "zVa0gawZBnti",
        "colab_type": "text"
      },
      "cell_type": "markdown",
      "source": [
        "## NN with two types of inputs"
      ]
    },
    {
      "metadata": {
        "id": "rgcEyVnRs42V",
        "colab_type": "text"
      },
      "cell_type": "markdown",
      "source": [
        "Now we try to build a model which has two types of inputs, image and text, the NN will estimate the parameters using both inptus at the same time"
      ]
    },
    {
      "metadata": {
        "id": "xdODXsu6Cuni",
        "colab_type": "code",
        "colab": {
          "base_uri": "https://localhost:8080/",
          "height": 34
        },
        "outputId": "c8c78015-9ab2-4282-cd20-350b5696dae8"
      },
      "cell_type": "code",
      "source": [
        "from sklearn.model_selection import train_test_split\n",
        "\n",
        "X_train_ima, X_test_ima, y_train, y_test, X_train_text, X_test_text = train_test_split(images_training_color, y_genres, dataTraining['plot'], test_size=0.33, random_state=31415)\n",
        "print(X_train_ima.shape, X_test_ima.shape, y_train.shape, y_test.shape, X_train_text.shape,X_test_text.shape )\n"
      ],
      "execution_count": 0,
      "outputs": [
        {
          "output_type": "stream",
          "text": [
            "(5289, 5, 5, 512) (2606, 5, 5, 512) (5289, 24) (2606, 24) (5289,) (2606,)\n"
          ],
          "name": "stdout"
        }
      ]
    },
    {
      "metadata": {
        "id": "APqjegU9Auu_",
        "colab_type": "code",
        "colab": {
          "base_uri": "https://localhost:8080/",
          "height": 51
        },
        "outputId": "42f797e7-df8b-4437-ed4a-44bc8c743905"
      },
      "cell_type": "code",
      "source": [
        "from sklearn.feature_extraction.text import CountVectorizer, TfidfVectorizer\n",
        "from nltk.stem import WordNetLemmatizer\n",
        "from nltk.stem.snowball import SnowballStemmer\n",
        "import nltk\n",
        "nltk.download('wordnet')\n",
        "#wordnet_lemmatizer = WordNetLemmatizer()\n",
        "stemmer = SnowballStemmer('english')\n",
        "def split_into_lemmas(text):\n",
        "    text = text.lower()\n",
        "    words = text.split()\n",
        "    #return [wordnet_lemmatizer.lemmatize(word) for word in words]\n",
        "    return [stemmer.stem(word) for word in words]\n",
        "\n",
        "\n",
        "#vect = TfidfVectorizer(ngram_range=(1, 4), max_features=3000)\n",
        "#vect = TfidfVectorizer(ngram_range=(1, 4), max_features=3000,analyzer=split_into_lemmas)#ganador temporal \n",
        "vect = TfidfVectorizer(ngram_range=(1, 4), max_features=3000,analyzer=split_into_lemmas)\n",
        "#vect = TfidfVectorizer(ngram_range=(1, 5), max_features=2000,analyzer=split_into_lemmas, min_df=2, stop_words='english')\n",
        "#vect = TfidfVectorizer(ngram_range=(1, 3), max_features=3000, stop_words='english',analyzer=split_into_lemmas)\n",
        "#bueno vect = CountVectorizer(ngram_range=(1, 3), max_features=3000, stop_words='english')\n",
        "vect = vect.fit(X_train_text)\n",
        "X_train_transformado = vect.transform(X_train_text)\n",
        "X_train_transformado.shape\n",
        "X_test_transformado = vect.transform(X_test_text)\n"
      ],
      "execution_count": 0,
      "outputs": [
        {
          "output_type": "stream",
          "text": [
            "[nltk_data] Downloading package wordnet to /content/nltk_data...\n",
            "[nltk_data]   Package wordnet is already up-to-date!\n"
          ],
          "name": "stdout"
        }
      ]
    },
    {
      "metadata": {
        "id": "KnF6ZjcLDS1T",
        "colab_type": "code",
        "colab": {
          "base_uri": "https://localhost:8080/",
          "height": 34
        },
        "outputId": "761dad6d-bdc1-41ed-faf0-bba2cf19a74b"
      },
      "cell_type": "code",
      "source": [
        "import numpy as np\n",
        "import pandas as pd\n",
        "import keras\n",
        "import keras\n",
        "from keras.layers import Input, Dense, concatenate, Conv2D, BatchNormalization, Activation, MaxPooling2D, Dropout, GlobalMaxPool2D\n",
        "from keras.models import Model\n",
        "from matplotlib import pyplot as plt\n",
        "from scipy.ndimage import rotate as rot\n",
        "\n",
        "Input_image = Input(shape=(5,5,512), name='input1')\n",
        "X_train_transformado = vect.transform(X_train_text)\n",
        "tam_texto = X_train_transformado.shape[1:]\n",
        "print (X_train_transformado.shape[1:])\n",
        "Input_text = Input(shape=tam_texto, name = 'input2')"
      ],
      "execution_count": 0,
      "outputs": [
        {
          "output_type": "stream",
          "text": [
            "(3000,)\n"
          ],
          "name": "stdout"
        }
      ]
    },
    {
      "metadata": {
        "id": "PvR79wFF9of8",
        "colab_type": "text"
      },
      "cell_type": "markdown",
      "source": [
        "the we define the model, at the middle  of the construction, we add the second input which is the text data"
      ]
    },
    {
      "metadata": {
        "id": "aAHHoEJvE-jv",
        "colab_type": "code",
        "colab": {}
      },
      "cell_type": "code",
      "source": [
        "drop_1 = 0.5\n",
        "drop_2 = 0.5\n",
        "\n",
        "x = Flatten()(Input_image)\n",
        "#x = BatchNormalization()(x)\n",
        "\n",
        "x = Dense(1000,kernel_initializer = 'RandomNormal')(x)\n",
        "x = Activation('tanh')(x)\n",
        "x = Dropout(drop_1)(x)\n",
        "#200 mejor\n",
        "x = Dense(200)(x)\n",
        "x = Activation('tanh')(x)\n",
        "x = Dropout(drop_1)(x)\n",
        "#x = Dense(500)(x)\n",
        "#x = Activation('sigmoid')(x)\n",
        "#x = Dropout(drop_1)(x)\n",
        "#x = Dense(100)(x)\n",
        "#x = Activation('sigmoid')(x)\n",
        "#x = Dropout(drop_1)(x)\n",
        "#x = BatchNormalization()(x)\n",
        "#x = Activation('tanh')(x)\n",
        "x = BatchNormalization()(x)\n",
        "#x = Dropout(drop_1)(x)\n",
        "#x = Dense(100)(x)\n",
        "#x = Dense(24)(x)\n",
        "#x = Activation('tanh')(x)\n",
        "\n",
        "\n",
        "\n",
        "#x = GlobalMaxPool2D()(x)\n",
        "#1000,500 ganador temporal\n",
        "y = Dense(1000,kernel_initializer = 'RandomNormal')(Input_text)\n",
        "y = Activation('tanh')(y)\n",
        "y = Dropout(drop_1)(y)\n",
        "y = Dense(200)(y)\n",
        "y = Activation('tanh')(y)\n",
        "y = Dropout(drop_1)(y)\n",
        "#y = Dense(500)(y)\n",
        "#y = Activation('sigmoid')(y)\n",
        "#y = Dropout(drop_1)(y)\n",
        "#y = Dense(100)(y)\n",
        "#y = Activation('sigmoid')(y)\n",
        "#y = Dropout(drop_1)(y)\n",
        "y = BatchNormalization()(y)\n",
        "\n",
        "#y = Dropout(drop_2)(y)\n",
        "#y = Dense(50)(y)\n",
        "#y = Activation('sigmoid')(y)\n",
        "#y = BatchNormalization()(y)\n",
        "#concatenate text\n",
        "x = concatenate([x, y])\n",
        "#128\n",
        "x = Dense(1000,kernel_initializer = 'RandomNormal')(x)\n",
        "x = Activation('tanh')(x)\n",
        "x = Dropout(0.5)(x)\n",
        "x = Dense(200)(x)\n",
        "x = Activation('tanh')(x)\n",
        "x = Dropout(0.2)(x)\n",
        "\n",
        "#x = Activation('sigmoid')(x)\n",
        "#x = BatchNormalization()(x)\n",
        "#x = Dropout(drop_2)(x)\n",
        "#x = Dense(50)(x)\n",
        "#x = Dropout(drop_2)(x) # estoy poniendo esta linea\n",
        "#x = BatchNormalization()(x)\n",
        "#x = Activation('sigmoid')(x)\n",
        "\n",
        "#x = Dense(24)(x)\n",
        "#x = Activation('sigmoid')(x)\n",
        "out = Dense(24, activation='sigmoid')(x)\n",
        "\n"
      ],
      "execution_count": 0,
      "outputs": []
    },
    {
      "metadata": {
        "id": "-JRZMRAgGu1Q",
        "colab_type": "code",
        "colab": {
          "base_uri": "https://localhost:8080/",
          "height": 1003
        },
        "outputId": "c29d6ca1-872a-4ea4-ff43-e7e882df14eb"
      },
      "cell_type": "code",
      "source": [
        "model = Model(inputs=[Input_image, Input_text ], outputs=out)\n",
        "model.summary()"
      ],
      "execution_count": 0,
      "outputs": [
        {
          "output_type": "stream",
          "text": [
            "__________________________________________________________________________________________________\n",
            "Layer (type)                    Output Shape         Param #     Connected to                     \n",
            "==================================================================================================\n",
            "input1 (InputLayer)             (None, 5, 5, 512)    0                                            \n",
            "__________________________________________________________________________________________________\n",
            "flatten_4 (Flatten)             (None, 12800)        0           input1[0][0]                     \n",
            "__________________________________________________________________________________________________\n",
            "input2 (InputLayer)             (None, 3000)         0                                            \n",
            "__________________________________________________________________________________________________\n",
            "dense_22 (Dense)                (None, 1000)         12801000    flatten_4[0][0]                  \n",
            "__________________________________________________________________________________________________\n",
            "dense_24 (Dense)                (None, 1000)         3001000     input2[0][0]                     \n",
            "__________________________________________________________________________________________________\n",
            "activation_19 (Activation)      (None, 1000)         0           dense_22[0][0]                   \n",
            "__________________________________________________________________________________________________\n",
            "activation_21 (Activation)      (None, 1000)         0           dense_24[0][0]                   \n",
            "__________________________________________________________________________________________________\n",
            "dropout_19 (Dropout)            (None, 1000)         0           activation_19[0][0]              \n",
            "__________________________________________________________________________________________________\n",
            "dropout_21 (Dropout)            (None, 1000)         0           activation_21[0][0]              \n",
            "__________________________________________________________________________________________________\n",
            "dense_23 (Dense)                (None, 200)          200200      dropout_19[0][0]                 \n",
            "__________________________________________________________________________________________________\n",
            "dense_25 (Dense)                (None, 200)          200200      dropout_21[0][0]                 \n",
            "__________________________________________________________________________________________________\n",
            "activation_20 (Activation)      (None, 200)          0           dense_23[0][0]                   \n",
            "__________________________________________________________________________________________________\n",
            "activation_22 (Activation)      (None, 200)          0           dense_25[0][0]                   \n",
            "__________________________________________________________________________________________________\n",
            "dropout_20 (Dropout)            (None, 200)          0           activation_20[0][0]              \n",
            "__________________________________________________________________________________________________\n",
            "dropout_22 (Dropout)            (None, 200)          0           activation_22[0][0]              \n",
            "__________________________________________________________________________________________________\n",
            "batch_normalization_7 (BatchNor (None, 200)          800         dropout_20[0][0]                 \n",
            "__________________________________________________________________________________________________\n",
            "batch_normalization_8 (BatchNor (None, 200)          800         dropout_22[0][0]                 \n",
            "__________________________________________________________________________________________________\n",
            "concatenate_4 (Concatenate)     (None, 400)          0           batch_normalization_7[0][0]      \n",
            "                                                                 batch_normalization_8[0][0]      \n",
            "__________________________________________________________________________________________________\n",
            "dense_26 (Dense)                (None, 1000)         401000      concatenate_4[0][0]              \n",
            "__________________________________________________________________________________________________\n",
            "activation_23 (Activation)      (None, 1000)         0           dense_26[0][0]                   \n",
            "__________________________________________________________________________________________________\n",
            "dropout_23 (Dropout)            (None, 1000)         0           activation_23[0][0]              \n",
            "__________________________________________________________________________________________________\n",
            "dense_27 (Dense)                (None, 200)          200200      dropout_23[0][0]                 \n",
            "__________________________________________________________________________________________________\n",
            "activation_24 (Activation)      (None, 200)          0           dense_27[0][0]                   \n",
            "__________________________________________________________________________________________________\n",
            "dropout_24 (Dropout)            (None, 200)          0           activation_24[0][0]              \n",
            "__________________________________________________________________________________________________\n",
            "dense_28 (Dense)                (None, 24)           4824        dropout_24[0][0]                 \n",
            "==================================================================================================\n",
            "Total params: 16,810,024\n",
            "Trainable params: 16,809,224\n",
            "Non-trainable params: 800\n",
            "__________________________________________________________________________________________________\n"
          ],
          "name": "stdout"
        }
      ]
    },
    {
      "metadata": {
        "id": "F3-3-blaFHF9",
        "colab_type": "code",
        "colab": {}
      },
      "cell_type": "code",
      "source": [
        "#print(X_train_ima.shape, X_test_ima.shape, y_train.shape, y_test.shape, X_train_text.shape,X_test_text.shape )\n",
        "\n",
        "from keras import optimizers\n",
        "from  livelossplot import PlotLossesKeras\n",
        "#default sgd = 0.01\n",
        "rate=0.02\n",
        "model.compile(\n",
        "               #optimizer=optimizers.RMSprop(),\n",
        "               optimizer=optimizers.SGD(lr = 0.02),\n",
        "               #optimizer=optimizers.SGD(lr = rate),\n",
        "               loss='categorical_crossentropy',\n",
        "               metrics=['accuracy'])\n"
      ],
      "execution_count": 0,
      "outputs": []
    },
    {
      "metadata": {
        "id": "NPt_NzhnFKf6",
        "colab_type": "code",
        "colab": {
          "base_uri": "https://localhost:8080/",
          "height": 343
        },
        "outputId": "2fa64cc2-5005-4df3-dbcb-036df5b0e631"
      },
      "cell_type": "code",
      "source": [
        "\n",
        "epochs=50\n",
        "batch_size = 34\n",
        "\n",
        "model.fit([X_train_ima, X_train_transformado ], y_train,\n",
        "          epochs=epochs,\n",
        "          #validation_data=(X_test_ima, y_test_ima),\n",
        "          shuffle=False,\n",
        "          batch_size = batch_size,\n",
        "          validation_split=0.3,\n",
        "          callbacks=[PlotLossesKeras()])"
      ],
      "execution_count": 0,
      "outputs": [
        {
          "output_type": "display_data",
          "data": {
            "image/png": "[encoded data removed]",
            "text/plain": [
              "<matplotlib.figure.Figure at 0x7f726cd5fba8>"
            ]
          },
          "metadata": {
            "tags": []
          }
        },
        {
          "output_type": "execute_result",
          "data": {
            "text/plain": [
              "<keras.callbacks.History at 0x7f726d90f080>"
            ]
          },
          "metadata": {
            "tags": []
          },
          "execution_count": 31
        }
      ]
    },
    {
      "metadata": {
        "id": "MPgcF4LoFUmH",
        "colab_type": "code",
        "colab": {
          "base_uri": "https://localhost:8080/",
          "height": 34
        },
        "outputId": "07baef06-deea-40a1-9649-ba495158dd45"
      },
      "cell_type": "code",
      "source": [
        "y_pred_genres = model.predict([X_test_ima,vect.transform(X_test_text)])\n",
        "roc_auc_score(y_test, y_pred_genres, average='macro')\n"
      ],
      "execution_count": 0,
      "outputs": [
        {
          "output_type": "execute_result",
          "data": {
            "text/plain": [
              "0.8714054197247578"
            ]
          },
          "metadata": {
            "tags": []
          },
          "execution_count": 32
        }
      ]
    },
    {
      "metadata": {
        "id": "oQDlL2it9yUw",
        "colab_type": "text"
      },
      "cell_type": "markdown",
      "source": [
        "The perfomrance of the model. this time we had to especify two inputs to predict."
      ]
    },
    {
      "metadata": {
        "id": "HeloV9ydONDe",
        "colab_type": "code",
        "colab": {}
      },
      "cell_type": "code",
      "source": [
        "\n",
        "y_pred_avg = model.predict([images_testing_color,vect.transform(dataTesting['plot'])])\n",
        "#X_test_dtm = vect.transform(dataTesting['plot'])\n",
        "\n",
        "cols = ['p_Action', 'p_Adventure', 'p_Animation', 'p_Biography', 'p_Comedy', 'p_Crime', 'p_Documentary', 'p_Drama', 'p_Family',\n",
        "        'p_Fantasy', 'p_Film-Noir', 'p_History', 'p_Horror', 'p_Music', 'p_Musical', 'p_Mystery', 'p_News', 'p_Romance',\n",
        "        'p_Sci-Fi', 'p_Short', 'p_Sport', 'p_Thriller', 'p_War', 'p_Western']\n",
        "\n",
        "#y_pred_test_genres = model.predict_proba(X_test_dtm)\n",
        "\n",
        "pd.DataFrame(y_pred_avg, index=dataTesting.index, columns=cols).to_csv('pred_genres_kaggle_two_inputs_model.csv', index_label='ID')\n",
        "#kaggle = pd.DataFrame(y_pred_kaggle_model, index=dataTesting.index, columns=cols)"
      ],
      "execution_count": 0,
      "outputs": []
    },
    {
      "metadata": {
        "id": "28Yh7RI0jEys",
        "colab_type": "code",
        "colab": {}
      },
      "cell_type": "code",
      "source": [
        "#from google.colab import files\n",
        "#files.kaggle('20180720_model_union.csv')\n",
        "\n",
        "from google.colab import files\n",
        "\n",
        "#kaggle.to_csv('pred_genres_kaggle_model_nn_union.csv')\n",
        "files.download('pred_genres_kaggle_two_inputs_model.csv')"
      ],
      "execution_count": 0,
      "outputs": []
    },
    {
      "metadata": {
        "id": "a1ILcNZYpOWB",
        "colab_type": "text"
      },
      "cell_type": "markdown",
      "source": [
        "# Bibliography\n"
      ]
    },
    {
      "metadata": {
        "id": "pzWHMyilp99s",
        "colab_type": "text"
      },
      "cell_type": "markdown",
      "source": [
        "\n",
        "\n",
        "1.   Example of Two-Inputs Neural Network using Keras [link](https://www.kaggle.com/hireme/two-inputs-neural-network-using-keras)\n",
        "2.   Class Applied Deep Learning - Summer 2018 [link](https://github.com/albahnsen/AppliedDeepLearningClass)\n",
        "3.   CNN for image classification en Keras [link](https://colab.research.google.com/drive/1Z6r82FlQTBXTh3GZCPc9LeZClxFVhcl_#scrollTo=yIcZavuIgJ3q)\n",
        "1. Keras Documentation [link](https://keras.io/losses/)\n",
        "\n",
        "\n"
      ]
    }
  ]
}